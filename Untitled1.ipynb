{
 "cells": [
  {
   "cell_type": "code",
   "execution_count": 3,
   "metadata": {},
   "outputs": [
    {
     "name": "stdout",
     "output_type": "stream",
     "text": [
      "      * \n",
      "    * * \n",
      "  * * * \n",
      "* * * * \n"
     ]
    }
   ],
   "source": [
    "for i in range(0,4):\n",
    "    for j in range(0,4):\n",
    "        if i+j<=2:\n",
    "            print(\" \",end=\" \")\n",
    "        if i+j>=3:\n",
    "                print(\"*\",end=\" \")\n",
    "    print()            "
   ]
  },
  {
   "cell_type": "code",
   "execution_count": 7,
   "metadata": {},
   "outputs": [
    {
     "name": "stdout",
     "output_type": "stream",
     "text": [
      "enter a string:nirikshith\n",
      "n  \n",
      "i i  \n",
      "r r r  \n",
      "i i i i  \n",
      "k k k k k  \n",
      "s s s s s s  \n",
      "h h h h h h h  \n",
      "i i i i i i i i  \n",
      "t t t t t t t t t  \n",
      "h h h h h h h h h h  \n"
     ]
    }
   ],
   "source": [
    "name=input(\"enter a string:\" )\n",
    "for i in range(len(name)):\n",
    "    for j in range(0,i+1):\n",
    "        print(name[i],end=\" \")\n",
    "    print(\" \")    "
   ]
  },
  {
   "cell_type": "raw",
   "metadata": {},
   "source": []
  },
  {
   "cell_type": "code",
   "execution_count": 8,
   "metadata": {},
   "outputs": [
    {
     "name": "stdout",
     "output_type": "stream",
     "text": [
      "enter number of students3\n",
      "enter studentnname:shetty\n",
      "enter % marks of student80\n",
      "name of the student \t % of marks\n",
      "\t shetty \t\t 80\n",
      "enter studentnname:pavan\n",
      "enter % marks of student77\n",
      "name of the student \t % of marks\n",
      "\t shetty \t\t 80\n",
      "\t pavan \t\t 77\n",
      "enter studentnname:akash\n",
      "enter % marks of student45\n",
      "name of the student \t % of marks\n",
      "\t shetty \t\t 80\n",
      "\t pavan \t\t 77\n",
      "\t akash \t\t 45\n"
     ]
    }
   ],
   "source": [
    "rec={}\n",
    "n=int(input(\"enter number of students\"))\n",
    "i=1\n",
    "while i<=n:\n",
    "    name=input(\"enter studentnname:\")\n",
    "    marks=input(\"enter % marks of student\")\n",
    "    rec[name]=marks\n",
    "    i+=1\n",
    "    print(\"name of the student\",\"\\t\",\"% of marks\")\n",
    "    for x in rec:\n",
    "        print(\"\\t\",x,\"\\t\\t\",rec[x])\n",
    "        "
   ]
  },
  {
   "cell_type": "code",
   "execution_count": 11,
   "metadata": {},
   "outputs": [
    {
     "name": "stdout",
     "output_type": "stream",
     "text": [
      "enter any keyword:helllo\n",
      "h occure 1 temes\n",
      "e occure 1 temes\n",
      "l occure 3 temes\n",
      "o occure 1 temes\n"
     ]
    }
   ],
   "source": [
    "word=input(\"enter any keyword:\")\n",
    "d={}\n",
    "for x in word:\n",
    "    d[x]=d.get(x,0)+1\n",
    "for k,v in d.items():\n",
    "    print(k,\"occure\",v,\"temes\")"
   ]
  },
  {
   "cell_type": "code",
   "execution_count": 12,
   "metadata": {},
   "outputs": [
    {
     "name": "stdout",
     "output_type": "stream",
     "text": [
      "enter sentencehello\n",
      "e occure 1 temes\n",
      "o occure 1 temes\n"
     ]
    }
   ],
   "source": [
    "word=input(\"enter sentence\")\n",
    "d={}\n",
    "for x in word:\n",
    "    if x=='a'or x=='e'or x=='1'or x=='o'or x=='u': \n",
    "        d[x]=d.get(x,0)+1\n",
    "for k,v in d.items():\n",
    "    print(k,\"occure\",v,\"temes\")\n",
    "        \n",
    "        "
   ]
  },
  {
   "cell_type": "code",
   "execution_count": 13,
   "metadata": {},
   "outputs": [
    {
     "name": "stdout",
     "output_type": "stream",
     "text": [
      "{1: 1, 2: 4, 3: 9, 4: 16, 5: 25}\n"
     ]
    }
   ],
   "source": [
    "squares={x:x*x for x in range(1,6)}\n",
    "print(squares)"
   ]
  },
  {
   "cell_type": "code",
   "execution_count": 17,
   "metadata": {},
   "outputs": [
    {
     "name": "stdout",
     "output_type": "stream",
     "text": [
      "[1, 888, 2, 3, 4, 5]\n"
     ]
    }
   ],
   "source": [
    " n=[1,2,3,4,5]\n",
    "n.insert(1,888)\n",
    "print(n)"
   ]
  },
  {
   "cell_type": "code",
   "execution_count": 18,
   "metadata": {},
   "outputs": [
    {
     "name": "stdout",
     "output_type": "stream",
     "text": [
      "['akash', 'anusha', 'harisha', 'pavan']\n"
     ]
    }
   ],
   "source": [
    "list1=['pavan','anusha','akash','harisha']\n",
    "list1.sort()\n",
    "print(list1)\n"
   ]
  },
  {
   "cell_type": "code",
   "execution_count": 19,
   "metadata": {},
   "outputs": [
    {
     "ename": "TypeError",
     "evalue": "'<' not supported between instances of 'int' and 'str'",
     "output_type": "error",
     "traceback": [
      "\u001b[1;31m---------------------------------------------------------------------------\u001b[0m",
      "\u001b[1;31mTypeError\u001b[0m                                 Traceback (most recent call last)",
      "\u001b[1;32m<ipython-input-19-817deb9a9160>\u001b[0m in \u001b[0;36m<module>\u001b[1;34m()\u001b[0m\n\u001b[0;32m      1\u001b[0m \u001b[0mlist1\u001b[0m\u001b[1;33m=\u001b[0m\u001b[1;33m[\u001b[0m\u001b[1;34m'pavan'\u001b[0m\u001b[1;33m,\u001b[0m\u001b[1;34m'anusha'\u001b[0m\u001b[1;33m,\u001b[0m\u001b[1;34m'akash'\u001b[0m\u001b[1;33m,\u001b[0m\u001b[1;34m'harisha'\u001b[0m\u001b[1;33m,\u001b[0m\u001b[1;36m12\u001b[0m\u001b[1;33m,\u001b[0m\u001b[1;36m13\u001b[0m\u001b[1;33m]\u001b[0m\u001b[1;33m\u001b[0m\u001b[0m\n\u001b[1;32m----> 2\u001b[1;33m \u001b[0mlist1\u001b[0m\u001b[1;33m.\u001b[0m\u001b[0msort\u001b[0m\u001b[1;33m(\u001b[0m\u001b[1;33m)\u001b[0m\u001b[1;33m\u001b[0m\u001b[0m\n\u001b[0m\u001b[0;32m      3\u001b[0m \u001b[0mprint\u001b[0m\u001b[1;33m(\u001b[0m\u001b[0mlist1\u001b[0m\u001b[1;33m)\u001b[0m\u001b[1;33m\u001b[0m\u001b[0m\n",
      "\u001b[1;31mTypeError\u001b[0m: '<' not supported between instances of 'int' and 'str'"
     ]
    }
   ],
   "source": [
    "list1=['pavan','anusha','akash','harisha',12,13]\n",
    "list1.sort()\n",
    "print(list1)"
   ]
  },
  {
   "cell_type": "code",
   "execution_count": 20,
   "metadata": {},
   "outputs": [
    {
     "name": "stdout",
     "output_type": "stream",
     "text": [
      "['pavan', 'harisha', 'anusha', 'akash']\n"
     ]
    }
   ],
   "source": [
    "list1=['pavan','anusha','akash','harisha']\n",
    "list1.sort(reverse=True)\n",
    "print(list1)"
   ]
  },
  {
   "cell_type": "code",
   "execution_count": 21,
   "metadata": {},
   "outputs": [
    {
     "name": "stdout",
     "output_type": "stream",
     "text": [
      "[10, 20, 30, 40]\n",
      "[10, 77, 30, 40]\n"
     ]
    }
   ],
   "source": [
    "x=[10,20,30,40]\n",
    "y=x[:]\n",
    "y[1]=77\n",
    "print(x)\n",
    "print(y)"
   ]
  },
  {
   "cell_type": "code",
   "execution_count": 22,
   "metadata": {},
   "outputs": [
    {
     "name": "stdout",
     "output_type": "stream",
     "text": [
      "[10, 77, 30, 40]\n",
      "[10, 77, 30, 40]\n"
     ]
    }
   ],
   "source": [
    "x=[10,20,30,40]\n",
    "y=x\n",
    "y[1]=77\n",
    "print(x)\n",
    "print(y)"
   ]
  },
  {
   "cell_type": "code",
   "execution_count": 23,
   "metadata": {},
   "outputs": [
    {
     "name": "stdout",
     "output_type": "stream",
     "text": [
      "[10, 20, 30, 40, 50, 60]\n"
     ]
    }
   ],
   "source": [
    "a=[10,20,30]\n",
    "b=[40,50,60]\n",
    "c=a+b\n",
    "print(c)\n"
   ]
  },
  {
   "cell_type": "code",
   "execution_count": 26,
   "metadata": {},
   "outputs": [
    {
     "name": "stdout",
     "output_type": "stream",
     "text": [
      "['m', 'm', 'a']\n"
     ]
    }
   ],
   "source": [
    " words=[\"mite\",\"mysore\",\"anusha\"]\n",
    "l=[w[0] for w in words]\n",
    "print(l)"
   ]
  },
  {
   "cell_type": "code",
   "execution_count": 27,
   "metadata": {},
   "outputs": [
    {
     "data": {
      "text/plain": [
       "[2, 4]"
      ]
     },
     "execution_count": 27,
     "metadata": {},
     "output_type": "execute_result"
    }
   ],
   "source": [
    "seq=[1,2,3,4,5]\n",
    "lambda var: var*2\n",
    "list(map(lambda var:var*2,seq))\n",
    "list(filter(lambda item:item%2==0,seq))"
   ]
  },
  {
   "cell_type": "code",
   "execution_count": 28,
   "metadata": {},
   "outputs": [
    {
     "data": {
      "text/plain": [
       "array([1, 2, 3])"
      ]
     },
     "execution_count": 28,
     "metadata": {},
     "output_type": "execute_result"
    }
   ],
   "source": [
    "import numpy as np\n",
    "\n",
    "my_list=[1,2,3]\n",
    "my_list\n",
    "\n",
    "np.array(my_list)"
   ]
  },
  {
   "cell_type": "code",
   "execution_count": 31,
   "metadata": {},
   "outputs": [
    {
     "data": {
      "text/plain": [
       "array([[1, 2, 3],\n",
       "       [4, 5, 6],\n",
       "       [7, 8, 9]])"
      ]
     },
     "execution_count": 31,
     "metadata": {},
     "output_type": "execute_result"
    }
   ],
   "source": [
    "my_matrix=[[1,2,3],[4,5,6],[7,8,9]]\n",
    "my_matrix\n",
    "          \n",
    "np.array(my_matrix)"
   ]
  },
  {
   "cell_type": "code",
   "execution_count": 34,
   "metadata": {},
   "outputs": [
    {
     "data": {
      "text/plain": [
       "array([0, 2, 4, 6, 8])"
      ]
     },
     "execution_count": 34,
     "metadata": {},
     "output_type": "execute_result"
    }
   ],
   "source": [
    "np.arange(0,10)\n",
    "np.arange(0,10,2)"
   ]
  },
  {
   "cell_type": "code",
   "execution_count": 35,
   "metadata": {},
   "outputs": [
    {
     "data": {
      "text/plain": [
       "array([[0., 0., 0., 0., 0.],\n",
       "       [0., 0., 0., 0., 0.],\n",
       "       [0., 0., 0., 0., 0.],\n",
       "       [0., 0., 0., 0., 0.],\n",
       "       [0., 0., 0., 0., 0.]])"
      ]
     },
     "execution_count": 35,
     "metadata": {},
     "output_type": "execute_result"
    }
   ],
   "source": [
    "np.zeros(3)\n",
    "np.zeros((5,5))"
   ]
  },
  {
   "cell_type": "code",
   "execution_count": 37,
   "metadata": {},
   "outputs": [
    {
     "data": {
      "text/plain": [
       "array([[1., 1., 1.],\n",
       "       [1., 1., 1.],\n",
       "       [1., 1., 1.]])"
      ]
     },
     "execution_count": 37,
     "metadata": {},
     "output_type": "execute_result"
    }
   ],
   "source": [
    "np.ones((3,3))"
   ]
  },
  {
   "cell_type": "code",
   "execution_count": 38,
   "metadata": {},
   "outputs": [
    {
     "data": {
      "text/plain": [
       "array([ 0.        ,  0.20408163,  0.40816327,  0.6122449 ,  0.81632653,\n",
       "        1.02040816,  1.2244898 ,  1.42857143,  1.63265306,  1.83673469,\n",
       "        2.04081633,  2.24489796,  2.44897959,  2.65306122,  2.85714286,\n",
       "        3.06122449,  3.26530612,  3.46938776,  3.67346939,  3.87755102,\n",
       "        4.08163265,  4.28571429,  4.48979592,  4.69387755,  4.89795918,\n",
       "        5.10204082,  5.30612245,  5.51020408,  5.71428571,  5.91836735,\n",
       "        6.12244898,  6.32653061,  6.53061224,  6.73469388,  6.93877551,\n",
       "        7.14285714,  7.34693878,  7.55102041,  7.75510204,  7.95918367,\n",
       "        8.16326531,  8.36734694,  8.57142857,  8.7755102 ,  8.97959184,\n",
       "        9.18367347,  9.3877551 ,  9.59183673,  9.79591837, 10.        ])"
      ]
     },
     "execution_count": 38,
     "metadata": {},
     "output_type": "execute_result"
    }
   ],
   "source": [
    "np.linspace(0,10,50)"
   ]
  },
  {
   "cell_type": "code",
   "execution_count": 39,
   "metadata": {},
   "outputs": [
    {
     "data": {
      "text/plain": [
       "array([[1., 0., 0., 0.],\n",
       "       [0., 1., 0., 0.],\n",
       "       [0., 0., 1., 0.],\n",
       "       [0., 0., 0., 1.]])"
      ]
     },
     "execution_count": 39,
     "metadata": {},
     "output_type": "execute_result"
    }
   ],
   "source": [
    "np.eye(4)"
   ]
  },
  {
   "cell_type": "code",
   "execution_count": 40,
   "metadata": {},
   "outputs": [
    {
     "data": {
      "text/plain": [
       "array([0.8436405, 0.1931418])"
      ]
     },
     "execution_count": 40,
     "metadata": {},
     "output_type": "execute_result"
    }
   ],
   "source": [
    "np.random.rand(2)"
   ]
  },
  {
   "cell_type": "code",
   "execution_count": 41,
   "metadata": {},
   "outputs": [
    {
     "data": {
      "text/plain": [
       "array([[-0.22405814,  0.84006445, -0.76277274,  0.21318826,  1.74884923],\n",
       "       [ 1.56867181,  0.98727325, -0.84341285, -1.28776682, -0.14226319],\n",
       "       [-0.0199282 ,  0.75223076,  0.63998916, -1.45270391,  0.4236154 ],\n",
       "       [ 1.101356  , -0.89123622,  1.36051121,  1.19105962,  1.320022  ],\n",
       "       [ 0.40948108,  1.48107617,  1.08601287,  0.70363411, -0.67872151]])"
      ]
     },
     "execution_count": 41,
     "metadata": {},
     "output_type": "execute_result"
    }
   ],
   "source": [
    "np.random.randn(5,5)"
   ]
  },
  {
   "cell_type": "code",
   "execution_count": 42,
   "metadata": {},
   "outputs": [
    {
     "data": {
      "text/plain": [
       "array([ 5, 80, 53, 70, 65, 37, 49, 61, 38, 50])"
      ]
     },
     "execution_count": 42,
     "metadata": {},
     "output_type": "execute_result"
    }
   ],
   "source": [
    "np.random.randint(1,100,10)"
   ]
  },
  {
   "cell_type": "code",
   "execution_count": 44,
   "metadata": {},
   "outputs": [
    {
     "data": {
      "text/plain": [
       "array([[ 0,  1,  2,  3,  4],\n",
       "       [ 5,  6,  7,  8,  9],\n",
       "       [10, 11, 12, 13, 14],\n",
       "       [15, 16, 17, 18, 19],\n",
       "       [20, 21, 22, 23, 24]])"
      ]
     },
     "execution_count": 44,
     "metadata": {},
     "output_type": "execute_result"
    }
   ],
   "source": [
    "arr=np.arange(25)\n",
    "runarr=np.random.randint(0,50,10)\n",
    "arr.reshape(5,5)"
   ]
  },
  {
   "cell_type": "code",
   "execution_count": 47,
   "metadata": {},
   "outputs": [
    {
     "data": {
      "text/plain": [
       "array([[ 0,  1,  2,  3,  4],\n",
       "       [ 5,  6,  7,  8,  9],\n",
       "       [10, 11, 12, 13, 14],\n",
       "       [15, 16, 17, 18, 19],\n",
       "       [20, 21, 22, 23, 24]])"
      ]
     },
     "execution_count": 47,
     "metadata": {},
     "output_type": "execute_result"
    }
   ],
   "source": [
    "arr.reshape(5,5)\n"
   ]
  },
  {
   "cell_type": "code",
   "execution_count": 50,
   "metadata": {},
   "outputs": [
    {
     "data": {
      "text/plain": [
       "array([ 0,  2,  4,  6,  8, 10, 12, 14, 16, 18])"
      ]
     },
     "execution_count": 50,
     "metadata": {},
     "output_type": "execute_result"
    }
   ],
   "source": [
    "arr=np.arange(0,10)\n",
    "arr+arr"
   ]
  },
  {
   "cell_type": "code",
   "execution_count": 51,
   "metadata": {},
   "outputs": [
    {
     "data": {
      "text/plain": [
       "array([ 0,  1,  4,  9, 16, 25, 36, 49, 64, 81])"
      ]
     },
     "execution_count": 51,
     "metadata": {},
     "output_type": "execute_result"
    }
   ],
   "source": [
    "arr*arr"
   ]
  },
  {
   "cell_type": "code",
   "execution_count": 52,
   "metadata": {},
   "outputs": [
    {
     "name": "stderr",
     "output_type": "stream",
     "text": [
      "C:\\Users\\Nirikshith Shetty\\Anaconda3\\lib\\site-packages\\ipykernel_launcher.py:1: RuntimeWarning: invalid value encountered in true_divide\n",
      "  \"\"\"Entry point for launching an IPython kernel.\n"
     ]
    },
    {
     "data": {
      "text/plain": [
       "array([nan,  1.,  1.,  1.,  1.,  1.,  1.,  1.,  1.,  1.])"
      ]
     },
     "execution_count": 52,
     "metadata": {},
     "output_type": "execute_result"
    }
   ],
   "source": [
    "arr/arr"
   ]
  },
  {
   "cell_type": "code",
   "execution_count": 53,
   "metadata": {},
   "outputs": [
    {
     "data": {
      "text/plain": [
       "array([ 0.        ,  0.84147098,  0.90929743,  0.14112001, -0.7568025 ,\n",
       "       -0.95892427, -0.2794155 ,  0.6569866 ,  0.98935825,  0.41211849])"
      ]
     },
     "execution_count": 53,
     "metadata": {},
     "output_type": "execute_result"
    }
   ],
   "source": [
    "np.sin(arr)"
   ]
  },
  {
   "cell_type": "code",
   "execution_count": 55,
   "metadata": {},
   "outputs": [
    {
     "name": "stderr",
     "output_type": "stream",
     "text": [
      "C:\\Users\\Nirikshith Shetty\\Anaconda3\\lib\\site-packages\\ipykernel_launcher.py:1: RuntimeWarning: divide by zero encountered in log\n",
      "  \"\"\"Entry point for launching an IPython kernel.\n"
     ]
    },
    {
     "data": {
      "text/plain": [
       "array([      -inf, 0.        , 0.69314718, 1.09861229, 1.38629436,\n",
       "       1.60943791, 1.79175947, 1.94591015, 2.07944154, 2.19722458])"
      ]
     },
     "execution_count": 55,
     "metadata": {},
     "output_type": "execute_result"
    }
   ],
   "source": [
    "np.log(arr)"
   ]
  },
  {
   "cell_type": "raw",
   "metadata": {},
   "source": []
  },
  {
   "cell_type": "code",
   "execution_count": 57,
   "metadata": {},
   "outputs": [
    {
     "data": {
      "text/plain": [
       "array([ 0,  1,  2,  3,  4,  5,  6,  7,  8,  9, 10])"
      ]
     },
     "execution_count": 57,
     "metadata": {},
     "output_type": "execute_result"
    }
   ],
   "source": [
    "arr=np.arange(0,11)\n",
    "arr"
   ]
  },
  {
   "cell_type": "code",
   "execution_count": 58,
   "metadata": {},
   "outputs": [
    {
     "data": {
      "text/plain": [
       "8"
      ]
     },
     "execution_count": 58,
     "metadata": {},
     "output_type": "execute_result"
    }
   ],
   "source": [
    "arr[8]"
   ]
  },
  {
   "cell_type": "markdown",
   "metadata": {},
   "source": [
    "##### "
   ]
  },
  {
   "cell_type": "code",
   "execution_count": 59,
   "metadata": {},
   "outputs": [
    {
     "data": {
      "text/plain": [
       "array([0, 1, 2, 3, 4])"
      ]
     },
     "execution_count": 59,
     "metadata": {},
     "output_type": "execute_result"
    }
   ],
   "source": [
    "arr[0:5]"
   ]
  },
  {
   "cell_type": "code",
   "execution_count": 61,
   "metadata": {},
   "outputs": [],
   "source": [
    "arr[0:5]=100"
   ]
  },
  {
   "cell_type": "raw",
   "metadata": {},
   "source": []
  },
  {
   "cell_type": "code",
   "execution_count": 63,
   "metadata": {},
   "outputs": [
    {
     "data": {
      "text/plain": [
       "array([False, False, False, False, False,  True,  True,  True,  True,\n",
       "        True,  True])"
      ]
     },
     "execution_count": 63,
     "metadata": {},
     "output_type": "execute_result"
    }
   ],
   "source": [
    "arr=np.arange(0,11)\n",
    "arr>4"
   ]
  },
  {
   "cell_type": "code",
   "execution_count": 64,
   "metadata": {},
   "outputs": [
    {
     "data": {
      "text/plain": [
       "array([ 5,  6,  7,  8,  9, 10])"
      ]
     },
     "execution_count": 64,
     "metadata": {},
     "output_type": "execute_result"
    }
   ],
   "source": [
    "arr[arr>4]"
   ]
  },
  {
   "cell_type": "code",
   "execution_count": 66,
   "metadata": {},
   "outputs": [
    {
     "data": {
      "text/plain": [
       "array([0., 0., 0., 0., 0., 0., 0., 0., 0., 0., 0., 0.])"
      ]
     },
     "execution_count": 66,
     "metadata": {},
     "output_type": "execute_result"
    }
   ],
   "source": [
    "np.zeros(12)"
   ]
  },
  {
   "cell_type": "code",
   "execution_count": 67,
   "metadata": {},
   "outputs": [
    {
     "data": {
      "text/plain": [
       "array([1., 1., 1., 1., 1., 1., 1., 1., 1., 1., 1., 1., 1., 1., 1.])"
      ]
     },
     "execution_count": 67,
     "metadata": {},
     "output_type": "execute_result"
    }
   ],
   "source": [
    "np.ones(15)"
   ]
  },
  {
   "cell_type": "code",
   "execution_count": 76,
   "metadata": {},
   "outputs": [
    {
     "name": "stdout",
     "output_type": "stream",
     "text": [
      "[0 5 5 5 5 5 5 5 5 5 5]\n"
     ]
    }
   ],
   "source": [
    "arr=np.arange(0,11)\n",
    "arr[1:11]=5\n",
    "arr[arr>0]\n",
    "print(arr)\n"
   ]
  },
  {
   "cell_type": "code",
   "execution_count": 77,
   "metadata": {},
   "outputs": [
    {
     "data": {
      "text/plain": [
       "array([[0, 1, 2],\n",
       "       [3, 4, 5],\n",
       "       [6, 7, 8]])"
      ]
     },
     "execution_count": 77,
     "metadata": {},
     "output_type": "execute_result"
    }
   ],
   "source": [
    "arr=np.arange(9)\n",
    "arr.reshape(3,3)"
   ]
  },
  {
   "cell_type": "code",
   "execution_count": 1,
   "metadata": {},
   "outputs": [],
   "source": [
    "###PANDA"
   ]
  },
  {
   "cell_type": "markdown",
   "metadata": {},
   "source": [
    "### PANDA"
   ]
  },
  {
   "cell_type": "code",
   "execution_count": 6,
   "metadata": {},
   "outputs": [
    {
     "data": {
      "text/plain": [
       "0    10\n",
       "1    20\n",
       "2    30\n",
       "dtype: int64"
      ]
     },
     "execution_count": 6,
     "metadata": {},
     "output_type": "execute_result"
    }
   ],
   "source": [
    "import pandas as pd\n",
    "lables=['a','b','c']\n",
    "my_array=[10,20,30]\n",
    "pd.Series(data=my_array)"
   ]
  },
  {
   "cell_type": "code",
   "execution_count": 8,
   "metadata": {},
   "outputs": [
    {
     "data": {
      "text/plain": [
       "a    10\n",
       "b    20\n",
       "c    30\n",
       "dtype: int64"
      ]
     },
     "execution_count": 8,
     "metadata": {},
     "output_type": "execute_result"
    }
   ],
   "source": [
    "import pandas as pd\n",
    "lables=['a','b','c']\n",
    "my_array=[10,20,30]\n",
    "pd.Series(data=my_array,index=lables)"
   ]
  },
  {
   "cell_type": "code",
   "execution_count": 10,
   "metadata": {},
   "outputs": [
    {
     "data": {
      "text/plain": [
       "a    10\n",
       "b    20\n",
       "c    30\n",
       "dtype: int64"
      ]
     },
     "execution_count": 10,
     "metadata": {},
     "output_type": "execute_result"
    }
   ],
   "source": [
    "d={'a':10,'b':20,'c':30}\n",
    "pd.Series(d)"
   ]
  },
  {
   "cell_type": "code",
   "execution_count": 13,
   "metadata": {},
   "outputs": [
    {
     "data": {
      "text/plain": [
       "0      <built-in function sum>\n",
       "1      <built-in function len>\n",
       "2    <built-in function print>\n",
       "dtype: object"
      ]
     },
     "execution_count": 13,
     "metadata": {},
     "output_type": "execute_result"
    }
   ],
   "source": [
    "pd.Series([sum,len,print])"
   ]
  },
  {
   "cell_type": "code",
   "execution_count": 15,
   "metadata": {},
   "outputs": [
    {
     "data": {
      "text/plain": [
       "USA       1\n",
       "RUSSIA    2\n",
       "LONDON    3\n",
       "dtype: int64"
      ]
     },
     "execution_count": 15,
     "metadata": {},
     "output_type": "execute_result"
    }
   ],
   "source": [
    "import pandas as pd\n",
    "lables=['USA','RUSSIA','LONDON']\n",
    "my_array=[1,2,3]\n",
    "pd.Series(my_array,lables)"
   ]
  },
  {
   "cell_type": "code",
   "execution_count": 20,
   "metadata": {},
   "outputs": [
    {
     "name": "stdout",
     "output_type": "stream",
     "text": [
      "USA        1\n",
      "JAPAN      2\n",
      "ENGLAND    3\n",
      "dtype: int64\n"
     ]
    }
   ],
   "source": [
    "import pandas as pd\n",
    "lables=['USA','JAPAN','ENGLAND']\n",
    "my_array=[1,2,3]\n",
    "scr1=pd.Series(my_array,lables)\n",
    "print(scr1)"
   ]
  },
  {
   "cell_type": "code",
   "execution_count": 21,
   "metadata": {},
   "outputs": [
    {
     "data": {
      "text/plain": [
       "1"
      ]
     },
     "execution_count": 21,
     "metadata": {},
     "output_type": "execute_result"
    }
   ],
   "source": [
    "scr1['USA']"
   ]
  },
  {
   "cell_type": "code",
   "execution_count": 24,
   "metadata": {},
   "outputs": [
    {
     "name": "stdout",
     "output_type": "stream",
     "text": [
      "USA       1\n",
      "JAPAN     2\n",
      "FRANCE    3\n",
      "dtype: int64\n"
     ]
    }
   ],
   "source": [
    "import pandas as pd\n",
    "lables=['USA','JAPAN','FRANCE']\n",
    "my_array=[1,2,3]\n",
    "scr2=pd.Series(my_array,lables)\n",
    "print(scr2)"
   ]
  },
  {
   "cell_type": "code",
   "execution_count": 25,
   "metadata": {},
   "outputs": [
    {
     "data": {
      "text/plain": [
       "ENGLAND    NaN\n",
       "FRANCE     NaN\n",
       "JAPAN      4.0\n",
       "USA        2.0\n",
       "dtype: float64"
      ]
     },
     "execution_count": 25,
     "metadata": {},
     "output_type": "execute_result"
    }
   ],
   "source": [
    "scr1+scr2"
   ]
  },
  {
   "cell_type": "code",
   "execution_count": 28,
   "metadata": {},
   "outputs": [
    {
     "ename": "NameError",
     "evalue": "name 'np' is not defined",
     "output_type": "error",
     "traceback": [
      "\u001b[1;31m---------------------------------------------------------------------------\u001b[0m",
      "\u001b[1;31mNameError\u001b[0m                                 Traceback (most recent call last)",
      "\u001b[1;32m<ipython-input-28-c3698b5c40fa>\u001b[0m in \u001b[0;36m<module>\u001b[1;34m()\u001b[0m\n\u001b[0;32m      1\u001b[0m \u001b[1;32mfrom\u001b[0m \u001b[0mnumpy\u001b[0m\u001b[1;33m.\u001b[0m\u001b[0mrandom\u001b[0m \u001b[1;32mimport\u001b[0m \u001b[0mrandn\u001b[0m\u001b[1;33m\u001b[0m\u001b[0m\n\u001b[1;32m----> 2\u001b[1;33m \u001b[0mn\u001b[0m\u001b[1;33m=\u001b[0m\u001b[0mnp\u001b[0m\u001b[1;33m.\u001b[0m\u001b[0mrandom\u001b[0m\u001b[1;33m.\u001b[0m\u001b[0mseed\u001b[0m\u001b[1;33m(\u001b[0m\u001b[1;36m101\u001b[0m\u001b[1;33m)\u001b[0m\u001b[1;33m\u001b[0m\u001b[0m\n\u001b[0m\u001b[0;32m      3\u001b[0m \u001b[0mprint\u001b[0m\u001b[1;33m(\u001b[0m\u001b[0mn\u001b[0m\u001b[1;33m)\u001b[0m\u001b[1;33m\u001b[0m\u001b[0m\n",
      "\u001b[1;31mNameError\u001b[0m: name 'np' is not defined"
     ]
    }
   ],
   "source": [
    "from numpy.random import randn\n",
    "n=np.random.seed(101)\n",
    "print(n)"
   ]
  },
  {
   "cell_type": "code",
   "execution_count": 32,
   "metadata": {},
   "outputs": [
    {
     "data": {
      "text/html": [
       "<div>\n",
       "<style scoped>\n",
       "    .dataframe tbody tr th:only-of-type {\n",
       "        vertical-align: middle;\n",
       "    }\n",
       "\n",
       "    .dataframe tbody tr th {\n",
       "        vertical-align: top;\n",
       "    }\n",
       "\n",
       "    .dataframe thead th {\n",
       "        text-align: right;\n",
       "    }\n",
       "</style>\n",
       "<table border=\"1\" class=\"dataframe\">\n",
       "  <thead>\n",
       "    <tr style=\"text-align: right;\">\n",
       "      <th></th>\n",
       "      <th>W</th>\n",
       "      <th>X</th>\n",
       "      <th>Y</th>\n",
       "      <th>Z</th>\n",
       "    </tr>\n",
       "  </thead>\n",
       "  <tbody>\n",
       "    <tr>\n",
       "      <th>A</th>\n",
       "      <td>-0.763933</td>\n",
       "      <td>0.007904</td>\n",
       "      <td>-0.114501</td>\n",
       "      <td>0.431898</td>\n",
       "    </tr>\n",
       "    <tr>\n",
       "      <th>B</th>\n",
       "      <td>0.357982</td>\n",
       "      <td>0.572273</td>\n",
       "      <td>1.903111</td>\n",
       "      <td>-0.585826</td>\n",
       "    </tr>\n",
       "    <tr>\n",
       "      <th>C</th>\n",
       "      <td>0.935274</td>\n",
       "      <td>0.562857</td>\n",
       "      <td>0.201804</td>\n",
       "      <td>3.359945</td>\n",
       "    </tr>\n",
       "    <tr>\n",
       "      <th>D</th>\n",
       "      <td>2.405798</td>\n",
       "      <td>1.336953</td>\n",
       "      <td>1.041700</td>\n",
       "      <td>-0.890253</td>\n",
       "    </tr>\n",
       "    <tr>\n",
       "      <th>E</th>\n",
       "      <td>-0.574958</td>\n",
       "      <td>0.895412</td>\n",
       "      <td>-1.044915</td>\n",
       "      <td>1.700272</td>\n",
       "    </tr>\n",
       "  </tbody>\n",
       "</table>\n",
       "</div>"
      ],
      "text/plain": [
       "          W         X         Y         Z\n",
       "A -0.763933  0.007904 -0.114501  0.431898\n",
       "B  0.357982  0.572273  1.903111 -0.585826\n",
       "C  0.935274  0.562857  0.201804  3.359945\n",
       "D  2.405798  1.336953  1.041700 -0.890253\n",
       "E -0.574958  0.895412 -1.044915  1.700272"
      ]
     },
     "execution_count": 32,
     "metadata": {},
     "output_type": "execute_result"
    }
   ],
   "source": [
    "dp=pd.DataFrame(randn(5,4),index='A B C D E'.split(),columns='W X Y Z'.split())\n",
    "dp"
   ]
  },
  {
   "cell_type": "code",
   "execution_count": 34,
   "metadata": {},
   "outputs": [
    {
     "data": {
      "text/plain": [
       "A   -0.763933\n",
       "B    0.357982\n",
       "C    0.935274\n",
       "D    2.405798\n",
       "E   -0.574958\n",
       "Name: W, dtype: float64"
      ]
     },
     "execution_count": 34,
     "metadata": {},
     "output_type": "execute_result"
    }
   ],
   "source": [
    "dp['W']"
   ]
  },
  {
   "cell_type": "code",
   "execution_count": 35,
   "metadata": {},
   "outputs": [
    {
     "data": {
      "text/html": [
       "<div>\n",
       "<style scoped>\n",
       "    .dataframe tbody tr th:only-of-type {\n",
       "        vertical-align: middle;\n",
       "    }\n",
       "\n",
       "    .dataframe tbody tr th {\n",
       "        vertical-align: top;\n",
       "    }\n",
       "\n",
       "    .dataframe thead th {\n",
       "        text-align: right;\n",
       "    }\n",
       "</style>\n",
       "<table border=\"1\" class=\"dataframe\">\n",
       "  <thead>\n",
       "    <tr style=\"text-align: right;\">\n",
       "      <th></th>\n",
       "      <th>W</th>\n",
       "      <th>X</th>\n",
       "    </tr>\n",
       "  </thead>\n",
       "  <tbody>\n",
       "    <tr>\n",
       "      <th>A</th>\n",
       "      <td>-0.763933</td>\n",
       "      <td>0.007904</td>\n",
       "    </tr>\n",
       "    <tr>\n",
       "      <th>B</th>\n",
       "      <td>0.357982</td>\n",
       "      <td>0.572273</td>\n",
       "    </tr>\n",
       "    <tr>\n",
       "      <th>C</th>\n",
       "      <td>0.935274</td>\n",
       "      <td>0.562857</td>\n",
       "    </tr>\n",
       "    <tr>\n",
       "      <th>D</th>\n",
       "      <td>2.405798</td>\n",
       "      <td>1.336953</td>\n",
       "    </tr>\n",
       "    <tr>\n",
       "      <th>E</th>\n",
       "      <td>-0.574958</td>\n",
       "      <td>0.895412</td>\n",
       "    </tr>\n",
       "  </tbody>\n",
       "</table>\n",
       "</div>"
      ],
      "text/plain": [
       "          W         X\n",
       "A -0.763933  0.007904\n",
       "B  0.357982  0.572273\n",
       "C  0.935274  0.562857\n",
       "D  2.405798  1.336953\n",
       "E -0.574958  0.895412"
      ]
     },
     "execution_count": 35,
     "metadata": {},
     "output_type": "execute_result"
    }
   ],
   "source": [
    "dp[['W','X']]"
   ]
  },
  {
   "cell_type": "code",
   "execution_count": 37,
   "metadata": {},
   "outputs": [
    {
     "data": {
      "text/plain": [
       "pandas.core.series.Series"
      ]
     },
     "execution_count": 37,
     "metadata": {},
     "output_type": "execute_result"
    }
   ],
   "source": [
    "type(dp['W'])"
   ]
  },
  {
   "cell_type": "code",
   "execution_count": 38,
   "metadata": {},
   "outputs": [],
   "source": [
    "dp['new']=dp['W']+dp['X']"
   ]
  },
  {
   "cell_type": "code",
   "execution_count": 40,
   "metadata": {},
   "outputs": [
    {
     "data": {
      "text/html": [
       "<div>\n",
       "<style scoped>\n",
       "    .dataframe tbody tr th:only-of-type {\n",
       "        vertical-align: middle;\n",
       "    }\n",
       "\n",
       "    .dataframe tbody tr th {\n",
       "        vertical-align: top;\n",
       "    }\n",
       "\n",
       "    .dataframe thead th {\n",
       "        text-align: right;\n",
       "    }\n",
       "</style>\n",
       "<table border=\"1\" class=\"dataframe\">\n",
       "  <thead>\n",
       "    <tr style=\"text-align: right;\">\n",
       "      <th></th>\n",
       "      <th>W</th>\n",
       "      <th>X</th>\n",
       "      <th>Y</th>\n",
       "      <th>Z</th>\n",
       "      <th>new</th>\n",
       "    </tr>\n",
       "  </thead>\n",
       "  <tbody>\n",
       "    <tr>\n",
       "      <th>A</th>\n",
       "      <td>-0.763933</td>\n",
       "      <td>0.007904</td>\n",
       "      <td>-0.114501</td>\n",
       "      <td>0.431898</td>\n",
       "      <td>-0.756029</td>\n",
       "    </tr>\n",
       "    <tr>\n",
       "      <th>B</th>\n",
       "      <td>0.357982</td>\n",
       "      <td>0.572273</td>\n",
       "      <td>1.903111</td>\n",
       "      <td>-0.585826</td>\n",
       "      <td>0.930254</td>\n",
       "    </tr>\n",
       "    <tr>\n",
       "      <th>C</th>\n",
       "      <td>0.935274</td>\n",
       "      <td>0.562857</td>\n",
       "      <td>0.201804</td>\n",
       "      <td>3.359945</td>\n",
       "      <td>1.498130</td>\n",
       "    </tr>\n",
       "    <tr>\n",
       "      <th>D</th>\n",
       "      <td>2.405798</td>\n",
       "      <td>1.336953</td>\n",
       "      <td>1.041700</td>\n",
       "      <td>-0.890253</td>\n",
       "      <td>3.742750</td>\n",
       "    </tr>\n",
       "    <tr>\n",
       "      <th>E</th>\n",
       "      <td>-0.574958</td>\n",
       "      <td>0.895412</td>\n",
       "      <td>-1.044915</td>\n",
       "      <td>1.700272</td>\n",
       "      <td>0.320453</td>\n",
       "    </tr>\n",
       "  </tbody>\n",
       "</table>\n",
       "</div>"
      ],
      "text/plain": [
       "          W         X         Y         Z       new\n",
       "A -0.763933  0.007904 -0.114501  0.431898 -0.756029\n",
       "B  0.357982  0.572273  1.903111 -0.585826  0.930254\n",
       "C  0.935274  0.562857  0.201804  3.359945  1.498130\n",
       "D  2.405798  1.336953  1.041700 -0.890253  3.742750\n",
       "E -0.574958  0.895412 -1.044915  1.700272  0.320453"
      ]
     },
     "execution_count": 40,
     "metadata": {},
     "output_type": "execute_result"
    }
   ],
   "source": [
    "dp"
   ]
  },
  {
   "cell_type": "code",
   "execution_count": 41,
   "metadata": {},
   "outputs": [
    {
     "data": {
      "text/html": [
       "<div>\n",
       "<style scoped>\n",
       "    .dataframe tbody tr th:only-of-type {\n",
       "        vertical-align: middle;\n",
       "    }\n",
       "\n",
       "    .dataframe tbody tr th {\n",
       "        vertical-align: top;\n",
       "    }\n",
       "\n",
       "    .dataframe thead th {\n",
       "        text-align: right;\n",
       "    }\n",
       "</style>\n",
       "<table border=\"1\" class=\"dataframe\">\n",
       "  <thead>\n",
       "    <tr style=\"text-align: right;\">\n",
       "      <th></th>\n",
       "      <th>W</th>\n",
       "      <th>X</th>\n",
       "      <th>Y</th>\n",
       "      <th>Z</th>\n",
       "    </tr>\n",
       "  </thead>\n",
       "  <tbody>\n",
       "    <tr>\n",
       "      <th>A</th>\n",
       "      <td>-0.763933</td>\n",
       "      <td>0.007904</td>\n",
       "      <td>-0.114501</td>\n",
       "      <td>0.431898</td>\n",
       "    </tr>\n",
       "    <tr>\n",
       "      <th>B</th>\n",
       "      <td>0.357982</td>\n",
       "      <td>0.572273</td>\n",
       "      <td>1.903111</td>\n",
       "      <td>-0.585826</td>\n",
       "    </tr>\n",
       "    <tr>\n",
       "      <th>C</th>\n",
       "      <td>0.935274</td>\n",
       "      <td>0.562857</td>\n",
       "      <td>0.201804</td>\n",
       "      <td>3.359945</td>\n",
       "    </tr>\n",
       "    <tr>\n",
       "      <th>D</th>\n",
       "      <td>2.405798</td>\n",
       "      <td>1.336953</td>\n",
       "      <td>1.041700</td>\n",
       "      <td>-0.890253</td>\n",
       "    </tr>\n",
       "    <tr>\n",
       "      <th>E</th>\n",
       "      <td>-0.574958</td>\n",
       "      <td>0.895412</td>\n",
       "      <td>-1.044915</td>\n",
       "      <td>1.700272</td>\n",
       "    </tr>\n",
       "  </tbody>\n",
       "</table>\n",
       "</div>"
      ],
      "text/plain": [
       "          W         X         Y         Z\n",
       "A -0.763933  0.007904 -0.114501  0.431898\n",
       "B  0.357982  0.572273  1.903111 -0.585826\n",
       "C  0.935274  0.562857  0.201804  3.359945\n",
       "D  2.405798  1.336953  1.041700 -0.890253\n",
       "E -0.574958  0.895412 -1.044915  1.700272"
      ]
     },
     "execution_count": 41,
     "metadata": {},
     "output_type": "execute_result"
    }
   ],
   "source": [
    "dp.drop('new',axis=1)"
   ]
  },
  {
   "cell_type": "code",
   "execution_count": 42,
   "metadata": {},
   "outputs": [],
   "source": [
    "dp.drop('new',axis=1,inplace=True)"
   ]
  },
  {
   "cell_type": "code",
   "execution_count": 43,
   "metadata": {},
   "outputs": [
    {
     "data": {
      "text/html": [
       "<div>\n",
       "<style scoped>\n",
       "    .dataframe tbody tr th:only-of-type {\n",
       "        vertical-align: middle;\n",
       "    }\n",
       "\n",
       "    .dataframe tbody tr th {\n",
       "        vertical-align: top;\n",
       "    }\n",
       "\n",
       "    .dataframe thead th {\n",
       "        text-align: right;\n",
       "    }\n",
       "</style>\n",
       "<table border=\"1\" class=\"dataframe\">\n",
       "  <thead>\n",
       "    <tr style=\"text-align: right;\">\n",
       "      <th></th>\n",
       "      <th>W</th>\n",
       "      <th>X</th>\n",
       "      <th>Y</th>\n",
       "      <th>Z</th>\n",
       "    </tr>\n",
       "  </thead>\n",
       "  <tbody>\n",
       "    <tr>\n",
       "      <th>A</th>\n",
       "      <td>-0.763933</td>\n",
       "      <td>0.007904</td>\n",
       "      <td>-0.114501</td>\n",
       "      <td>0.431898</td>\n",
       "    </tr>\n",
       "    <tr>\n",
       "      <th>B</th>\n",
       "      <td>0.357982</td>\n",
       "      <td>0.572273</td>\n",
       "      <td>1.903111</td>\n",
       "      <td>-0.585826</td>\n",
       "    </tr>\n",
       "    <tr>\n",
       "      <th>C</th>\n",
       "      <td>0.935274</td>\n",
       "      <td>0.562857</td>\n",
       "      <td>0.201804</td>\n",
       "      <td>3.359945</td>\n",
       "    </tr>\n",
       "    <tr>\n",
       "      <th>D</th>\n",
       "      <td>2.405798</td>\n",
       "      <td>1.336953</td>\n",
       "      <td>1.041700</td>\n",
       "      <td>-0.890253</td>\n",
       "    </tr>\n",
       "    <tr>\n",
       "      <th>E</th>\n",
       "      <td>-0.574958</td>\n",
       "      <td>0.895412</td>\n",
       "      <td>-1.044915</td>\n",
       "      <td>1.700272</td>\n",
       "    </tr>\n",
       "  </tbody>\n",
       "</table>\n",
       "</div>"
      ],
      "text/plain": [
       "          W         X         Y         Z\n",
       "A -0.763933  0.007904 -0.114501  0.431898\n",
       "B  0.357982  0.572273  1.903111 -0.585826\n",
       "C  0.935274  0.562857  0.201804  3.359945\n",
       "D  2.405798  1.336953  1.041700 -0.890253\n",
       "E -0.574958  0.895412 -1.044915  1.700272"
      ]
     },
     "execution_count": 43,
     "metadata": {},
     "output_type": "execute_result"
    }
   ],
   "source": [
    "dp"
   ]
  },
  {
   "cell_type": "code",
   "execution_count": 44,
   "metadata": {},
   "outputs": [
    {
     "data": {
      "text/html": [
       "<div>\n",
       "<style scoped>\n",
       "    .dataframe tbody tr th:only-of-type {\n",
       "        vertical-align: middle;\n",
       "    }\n",
       "\n",
       "    .dataframe tbody tr th {\n",
       "        vertical-align: top;\n",
       "    }\n",
       "\n",
       "    .dataframe thead th {\n",
       "        text-align: right;\n",
       "    }\n",
       "</style>\n",
       "<table border=\"1\" class=\"dataframe\">\n",
       "  <thead>\n",
       "    <tr style=\"text-align: right;\">\n",
       "      <th></th>\n",
       "      <th>W</th>\n",
       "      <th>X</th>\n",
       "      <th>Y</th>\n",
       "      <th>Z</th>\n",
       "    </tr>\n",
       "  </thead>\n",
       "  <tbody>\n",
       "    <tr>\n",
       "      <th>A</th>\n",
       "      <td>-0.763933</td>\n",
       "      <td>0.007904</td>\n",
       "      <td>-0.114501</td>\n",
       "      <td>0.431898</td>\n",
       "    </tr>\n",
       "    <tr>\n",
       "      <th>B</th>\n",
       "      <td>0.357982</td>\n",
       "      <td>0.572273</td>\n",
       "      <td>1.903111</td>\n",
       "      <td>-0.585826</td>\n",
       "    </tr>\n",
       "    <tr>\n",
       "      <th>C</th>\n",
       "      <td>0.935274</td>\n",
       "      <td>0.562857</td>\n",
       "      <td>0.201804</td>\n",
       "      <td>3.359945</td>\n",
       "    </tr>\n",
       "    <tr>\n",
       "      <th>D</th>\n",
       "      <td>2.405798</td>\n",
       "      <td>1.336953</td>\n",
       "      <td>1.041700</td>\n",
       "      <td>-0.890253</td>\n",
       "    </tr>\n",
       "  </tbody>\n",
       "</table>\n",
       "</div>"
      ],
      "text/plain": [
       "          W         X         Y         Z\n",
       "A -0.763933  0.007904 -0.114501  0.431898\n",
       "B  0.357982  0.572273  1.903111 -0.585826\n",
       "C  0.935274  0.562857  0.201804  3.359945\n",
       "D  2.405798  1.336953  1.041700 -0.890253"
      ]
     },
     "execution_count": 44,
     "metadata": {},
     "output_type": "execute_result"
    }
   ],
   "source": [
    "dp.drop('E',axis=0)"
   ]
  },
  {
   "cell_type": "code",
   "execution_count": 45,
   "metadata": {},
   "outputs": [
    {
     "data": {
      "text/plain": [
       "W   -0.763933\n",
       "X    0.007904\n",
       "Y   -0.114501\n",
       "Z    0.431898\n",
       "Name: A, dtype: float64"
      ]
     },
     "execution_count": 45,
     "metadata": {},
     "output_type": "execute_result"
    }
   ],
   "source": [
    "dp.loc['A']"
   ]
  },
  {
   "cell_type": "code",
   "execution_count": 46,
   "metadata": {},
   "outputs": [
    {
     "data": {
      "text/plain": [
       "W    0.935274\n",
       "X    0.562857\n",
       "Y    0.201804\n",
       "Z    3.359945\n",
       "Name: C, dtype: float64"
      ]
     },
     "execution_count": 46,
     "metadata": {},
     "output_type": "execute_result"
    }
   ],
   "source": [
    "dp.iloc[2]"
   ]
  },
  {
   "cell_type": "code",
   "execution_count": 47,
   "metadata": {},
   "outputs": [
    {
     "data": {
      "text/plain": [
       "1.90311078098943"
      ]
     },
     "execution_count": 47,
     "metadata": {},
     "output_type": "execute_result"
    }
   ],
   "source": [
    "dp.loc['B','Y']"
   ]
  },
  {
   "cell_type": "code",
   "execution_count": 48,
   "metadata": {},
   "outputs": [
    {
     "data": {
      "text/html": [
       "<div>\n",
       "<style scoped>\n",
       "    .dataframe tbody tr th:only-of-type {\n",
       "        vertical-align: middle;\n",
       "    }\n",
       "\n",
       "    .dataframe tbody tr th {\n",
       "        vertical-align: top;\n",
       "    }\n",
       "\n",
       "    .dataframe thead th {\n",
       "        text-align: right;\n",
       "    }\n",
       "</style>\n",
       "<table border=\"1\" class=\"dataframe\">\n",
       "  <thead>\n",
       "    <tr style=\"text-align: right;\">\n",
       "      <th></th>\n",
       "      <th>W</th>\n",
       "      <th>X</th>\n",
       "      <th>Y</th>\n",
       "      <th>Z</th>\n",
       "    </tr>\n",
       "  </thead>\n",
       "  <tbody>\n",
       "    <tr>\n",
       "      <th>A</th>\n",
       "      <td>False</td>\n",
       "      <td>True</td>\n",
       "      <td>False</td>\n",
       "      <td>True</td>\n",
       "    </tr>\n",
       "    <tr>\n",
       "      <th>B</th>\n",
       "      <td>True</td>\n",
       "      <td>True</td>\n",
       "      <td>True</td>\n",
       "      <td>False</td>\n",
       "    </tr>\n",
       "    <tr>\n",
       "      <th>C</th>\n",
       "      <td>True</td>\n",
       "      <td>True</td>\n",
       "      <td>True</td>\n",
       "      <td>True</td>\n",
       "    </tr>\n",
       "    <tr>\n",
       "      <th>D</th>\n",
       "      <td>True</td>\n",
       "      <td>True</td>\n",
       "      <td>True</td>\n",
       "      <td>False</td>\n",
       "    </tr>\n",
       "    <tr>\n",
       "      <th>E</th>\n",
       "      <td>False</td>\n",
       "      <td>True</td>\n",
       "      <td>False</td>\n",
       "      <td>True</td>\n",
       "    </tr>\n",
       "  </tbody>\n",
       "</table>\n",
       "</div>"
      ],
      "text/plain": [
       "       W     X      Y      Z\n",
       "A  False  True  False   True\n",
       "B   True  True   True  False\n",
       "C   True  True   True   True\n",
       "D   True  True   True  False\n",
       "E  False  True  False   True"
      ]
     },
     "execution_count": 48,
     "metadata": {},
     "output_type": "execute_result"
    }
   ],
   "source": [
    "dp>0"
   ]
  },
  {
   "cell_type": "code",
   "execution_count": 49,
   "metadata": {},
   "outputs": [
    {
     "data": {
      "text/html": [
       "<div>\n",
       "<style scoped>\n",
       "    .dataframe tbody tr th:only-of-type {\n",
       "        vertical-align: middle;\n",
       "    }\n",
       "\n",
       "    .dataframe tbody tr th {\n",
       "        vertical-align: top;\n",
       "    }\n",
       "\n",
       "    .dataframe thead th {\n",
       "        text-align: right;\n",
       "    }\n",
       "</style>\n",
       "<table border=\"1\" class=\"dataframe\">\n",
       "  <thead>\n",
       "    <tr style=\"text-align: right;\">\n",
       "      <th></th>\n",
       "      <th>W</th>\n",
       "      <th>X</th>\n",
       "      <th>Y</th>\n",
       "      <th>Z</th>\n",
       "    </tr>\n",
       "  </thead>\n",
       "  <tbody>\n",
       "    <tr>\n",
       "      <th>A</th>\n",
       "      <td>NaN</td>\n",
       "      <td>0.007904</td>\n",
       "      <td>NaN</td>\n",
       "      <td>0.431898</td>\n",
       "    </tr>\n",
       "    <tr>\n",
       "      <th>B</th>\n",
       "      <td>0.357982</td>\n",
       "      <td>0.572273</td>\n",
       "      <td>1.903111</td>\n",
       "      <td>NaN</td>\n",
       "    </tr>\n",
       "    <tr>\n",
       "      <th>C</th>\n",
       "      <td>0.935274</td>\n",
       "      <td>0.562857</td>\n",
       "      <td>0.201804</td>\n",
       "      <td>3.359945</td>\n",
       "    </tr>\n",
       "    <tr>\n",
       "      <th>D</th>\n",
       "      <td>2.405798</td>\n",
       "      <td>1.336953</td>\n",
       "      <td>1.041700</td>\n",
       "      <td>NaN</td>\n",
       "    </tr>\n",
       "    <tr>\n",
       "      <th>E</th>\n",
       "      <td>NaN</td>\n",
       "      <td>0.895412</td>\n",
       "      <td>NaN</td>\n",
       "      <td>1.700272</td>\n",
       "    </tr>\n",
       "  </tbody>\n",
       "</table>\n",
       "</div>"
      ],
      "text/plain": [
       "          W         X         Y         Z\n",
       "A       NaN  0.007904       NaN  0.431898\n",
       "B  0.357982  0.572273  1.903111       NaN\n",
       "C  0.935274  0.562857  0.201804  3.359945\n",
       "D  2.405798  1.336953  1.041700       NaN\n",
       "E       NaN  0.895412       NaN  1.700272"
      ]
     },
     "execution_count": 49,
     "metadata": {},
     "output_type": "execute_result"
    }
   ],
   "source": [
    "dp[dp>0]"
   ]
  },
  {
   "cell_type": "code",
   "execution_count": 53,
   "metadata": {},
   "outputs": [
    {
     "data": {
      "text/html": [
       "<div>\n",
       "<style scoped>\n",
       "    .dataframe tbody tr th:only-of-type {\n",
       "        vertical-align: middle;\n",
       "    }\n",
       "\n",
       "    .dataframe tbody tr th {\n",
       "        vertical-align: top;\n",
       "    }\n",
       "\n",
       "    .dataframe thead th {\n",
       "        text-align: right;\n",
       "    }\n",
       "</style>\n",
       "<table border=\"1\" class=\"dataframe\">\n",
       "  <thead>\n",
       "    <tr style=\"text-align: right;\">\n",
       "      <th></th>\n",
       "      <th>W</th>\n",
       "      <th>X</th>\n",
       "      <th>Y</th>\n",
       "      <th>Z</th>\n",
       "    </tr>\n",
       "  </thead>\n",
       "  <tbody>\n",
       "    <tr>\n",
       "      <th>B</th>\n",
       "      <td>0.357982</td>\n",
       "      <td>0.572273</td>\n",
       "      <td>1.903111</td>\n",
       "      <td>-0.585826</td>\n",
       "    </tr>\n",
       "    <tr>\n",
       "      <th>C</th>\n",
       "      <td>0.935274</td>\n",
       "      <td>0.562857</td>\n",
       "      <td>0.201804</td>\n",
       "      <td>3.359945</td>\n",
       "    </tr>\n",
       "    <tr>\n",
       "      <th>D</th>\n",
       "      <td>2.405798</td>\n",
       "      <td>1.336953</td>\n",
       "      <td>1.041700</td>\n",
       "      <td>-0.890253</td>\n",
       "    </tr>\n",
       "  </tbody>\n",
       "</table>\n",
       "</div>"
      ],
      "text/plain": [
       "          W         X         Y         Z\n",
       "B  0.357982  0.572273  1.903111 -0.585826\n",
       "C  0.935274  0.562857  0.201804  3.359945\n",
       "D  2.405798  1.336953  1.041700 -0.890253"
      ]
     },
     "execution_count": 53,
     "metadata": {},
     "output_type": "execute_result"
    }
   ],
   "source": [
    "dp[(dp['W']>0) &(dp['Y']>0)]"
   ]
  },
  {
   "cell_type": "code",
   "execution_count": 54,
   "metadata": {},
   "outputs": [
    {
     "data": {
      "text/html": [
       "<div>\n",
       "<style scoped>\n",
       "    .dataframe tbody tr th:only-of-type {\n",
       "        vertical-align: middle;\n",
       "    }\n",
       "\n",
       "    .dataframe tbody tr th {\n",
       "        vertical-align: top;\n",
       "    }\n",
       "\n",
       "    .dataframe thead th {\n",
       "        text-align: right;\n",
       "    }\n",
       "</style>\n",
       "<table border=\"1\" class=\"dataframe\">\n",
       "  <thead>\n",
       "    <tr style=\"text-align: right;\">\n",
       "      <th></th>\n",
       "      <th>index</th>\n",
       "      <th>W</th>\n",
       "      <th>X</th>\n",
       "      <th>Y</th>\n",
       "      <th>Z</th>\n",
       "    </tr>\n",
       "  </thead>\n",
       "  <tbody>\n",
       "    <tr>\n",
       "      <th>0</th>\n",
       "      <td>A</td>\n",
       "      <td>-0.763933</td>\n",
       "      <td>0.007904</td>\n",
       "      <td>-0.114501</td>\n",
       "      <td>0.431898</td>\n",
       "    </tr>\n",
       "    <tr>\n",
       "      <th>1</th>\n",
       "      <td>B</td>\n",
       "      <td>0.357982</td>\n",
       "      <td>0.572273</td>\n",
       "      <td>1.903111</td>\n",
       "      <td>-0.585826</td>\n",
       "    </tr>\n",
       "    <tr>\n",
       "      <th>2</th>\n",
       "      <td>C</td>\n",
       "      <td>0.935274</td>\n",
       "      <td>0.562857</td>\n",
       "      <td>0.201804</td>\n",
       "      <td>3.359945</td>\n",
       "    </tr>\n",
       "    <tr>\n",
       "      <th>3</th>\n",
       "      <td>D</td>\n",
       "      <td>2.405798</td>\n",
       "      <td>1.336953</td>\n",
       "      <td>1.041700</td>\n",
       "      <td>-0.890253</td>\n",
       "    </tr>\n",
       "    <tr>\n",
       "      <th>4</th>\n",
       "      <td>E</td>\n",
       "      <td>-0.574958</td>\n",
       "      <td>0.895412</td>\n",
       "      <td>-1.044915</td>\n",
       "      <td>1.700272</td>\n",
       "    </tr>\n",
       "  </tbody>\n",
       "</table>\n",
       "</div>"
      ],
      "text/plain": [
       "  index         W         X         Y         Z\n",
       "0     A -0.763933  0.007904 -0.114501  0.431898\n",
       "1     B  0.357982  0.572273  1.903111 -0.585826\n",
       "2     C  0.935274  0.562857  0.201804  3.359945\n",
       "3     D  2.405798  1.336953  1.041700 -0.890253\n",
       "4     E -0.574958  0.895412 -1.044915  1.700272"
      ]
     },
     "execution_count": 54,
     "metadata": {},
     "output_type": "execute_result"
    }
   ],
   "source": [
    "dp.reset_index()"
   ]
  },
  {
   "cell_type": "code",
   "execution_count": 55,
   "metadata": {},
   "outputs": [],
   "source": [
    "newind='CA NY WY OR CO'.split()"
   ]
  },
  {
   "cell_type": "code",
   "execution_count": 56,
   "metadata": {},
   "outputs": [
    {
     "data": {
      "text/plain": [
       "['CA', 'NY', 'WY', 'OR', 'CO']"
      ]
     },
     "execution_count": 56,
     "metadata": {},
     "output_type": "execute_result"
    }
   ],
   "source": [
    "newind"
   ]
  },
  {
   "cell_type": "code",
   "execution_count": 61,
   "metadata": {},
   "outputs": [
    {
     "data": {
      "text/html": [
       "<div>\n",
       "<style scoped>\n",
       "    .dataframe tbody tr th:only-of-type {\n",
       "        vertical-align: middle;\n",
       "    }\n",
       "\n",
       "    .dataframe tbody tr th {\n",
       "        vertical-align: top;\n",
       "    }\n",
       "\n",
       "    .dataframe thead th {\n",
       "        text-align: right;\n",
       "    }\n",
       "</style>\n",
       "<table border=\"1\" class=\"dataframe\">\n",
       "  <thead>\n",
       "    <tr style=\"text-align: right;\">\n",
       "      <th></th>\n",
       "      <th>W</th>\n",
       "      <th>X</th>\n",
       "      <th>Y</th>\n",
       "      <th>Z</th>\n",
       "      <th>States</th>\n",
       "    </tr>\n",
       "  </thead>\n",
       "  <tbody>\n",
       "    <tr>\n",
       "      <th>A</th>\n",
       "      <td>-0.763933</td>\n",
       "      <td>0.007904</td>\n",
       "      <td>-0.114501</td>\n",
       "      <td>0.431898</td>\n",
       "      <td>CA</td>\n",
       "    </tr>\n",
       "    <tr>\n",
       "      <th>B</th>\n",
       "      <td>0.357982</td>\n",
       "      <td>0.572273</td>\n",
       "      <td>1.903111</td>\n",
       "      <td>-0.585826</td>\n",
       "      <td>NY</td>\n",
       "    </tr>\n",
       "    <tr>\n",
       "      <th>C</th>\n",
       "      <td>0.935274</td>\n",
       "      <td>0.562857</td>\n",
       "      <td>0.201804</td>\n",
       "      <td>3.359945</td>\n",
       "      <td>WY</td>\n",
       "    </tr>\n",
       "    <tr>\n",
       "      <th>D</th>\n",
       "      <td>2.405798</td>\n",
       "      <td>1.336953</td>\n",
       "      <td>1.041700</td>\n",
       "      <td>-0.890253</td>\n",
       "      <td>OR</td>\n",
       "    </tr>\n",
       "    <tr>\n",
       "      <th>E</th>\n",
       "      <td>-0.574958</td>\n",
       "      <td>0.895412</td>\n",
       "      <td>-1.044915</td>\n",
       "      <td>1.700272</td>\n",
       "      <td>CO</td>\n",
       "    </tr>\n",
       "  </tbody>\n",
       "</table>\n",
       "</div>"
      ],
      "text/plain": [
       "          W         X         Y         Z States\n",
       "A -0.763933  0.007904 -0.114501  0.431898     CA\n",
       "B  0.357982  0.572273  1.903111 -0.585826     NY\n",
       "C  0.935274  0.562857  0.201804  3.359945     WY\n",
       "D  2.405798  1.336953  1.041700 -0.890253     OR\n",
       "E -0.574958  0.895412 -1.044915  1.700272     CO"
      ]
     },
     "execution_count": 61,
     "metadata": {},
     "output_type": "execute_result"
    }
   ],
   "source": [
    "dp['States']=newind\n",
    "dp"
   ]
  },
  {
   "cell_type": "code",
   "execution_count": 62,
   "metadata": {},
   "outputs": [
    {
     "data": {
      "text/html": [
       "<div>\n",
       "<style scoped>\n",
       "    .dataframe tbody tr th:only-of-type {\n",
       "        vertical-align: middle;\n",
       "    }\n",
       "\n",
       "    .dataframe tbody tr th {\n",
       "        vertical-align: top;\n",
       "    }\n",
       "\n",
       "    .dataframe thead th {\n",
       "        text-align: right;\n",
       "    }\n",
       "</style>\n",
       "<table border=\"1\" class=\"dataframe\">\n",
       "  <thead>\n",
       "    <tr style=\"text-align: right;\">\n",
       "      <th></th>\n",
       "      <th>W</th>\n",
       "      <th>X</th>\n",
       "      <th>Y</th>\n",
       "      <th>Z</th>\n",
       "    </tr>\n",
       "    <tr>\n",
       "      <th>States</th>\n",
       "      <th></th>\n",
       "      <th></th>\n",
       "      <th></th>\n",
       "      <th></th>\n",
       "    </tr>\n",
       "  </thead>\n",
       "  <tbody>\n",
       "    <tr>\n",
       "      <th>CA</th>\n",
       "      <td>-0.763933</td>\n",
       "      <td>0.007904</td>\n",
       "      <td>-0.114501</td>\n",
       "      <td>0.431898</td>\n",
       "    </tr>\n",
       "    <tr>\n",
       "      <th>NY</th>\n",
       "      <td>0.357982</td>\n",
       "      <td>0.572273</td>\n",
       "      <td>1.903111</td>\n",
       "      <td>-0.585826</td>\n",
       "    </tr>\n",
       "    <tr>\n",
       "      <th>WY</th>\n",
       "      <td>0.935274</td>\n",
       "      <td>0.562857</td>\n",
       "      <td>0.201804</td>\n",
       "      <td>3.359945</td>\n",
       "    </tr>\n",
       "    <tr>\n",
       "      <th>OR</th>\n",
       "      <td>2.405798</td>\n",
       "      <td>1.336953</td>\n",
       "      <td>1.041700</td>\n",
       "      <td>-0.890253</td>\n",
       "    </tr>\n",
       "    <tr>\n",
       "      <th>CO</th>\n",
       "      <td>-0.574958</td>\n",
       "      <td>0.895412</td>\n",
       "      <td>-1.044915</td>\n",
       "      <td>1.700272</td>\n",
       "    </tr>\n",
       "  </tbody>\n",
       "</table>\n",
       "</div>"
      ],
      "text/plain": [
       "               W         X         Y         Z\n",
       "States                                        \n",
       "CA     -0.763933  0.007904 -0.114501  0.431898\n",
       "NY      0.357982  0.572273  1.903111 -0.585826\n",
       "WY      0.935274  0.562857  0.201804  3.359945\n",
       "OR      2.405798  1.336953  1.041700 -0.890253\n",
       "CO     -0.574958  0.895412 -1.044915  1.700272"
      ]
     },
     "execution_count": 62,
     "metadata": {},
     "output_type": "execute_result"
    }
   ],
   "source": [
    "dp.set_index('States')"
   ]
  },
  {
   "cell_type": "markdown",
   "metadata": {},
   "source": [
    "### Index Level"
   ]
  },
  {
   "cell_type": "code",
   "execution_count": 63,
   "metadata": {},
   "outputs": [],
   "source": [
    "outside=['G1','G1','G1','G2','G2','G2']\n",
    "inside=[1,2,3,1,2,3]\n",
    "hier_index=list(zip(outside,inside))\n",
    "hier_index=pd.MultiIndex.from_tuples(hier_index)"
   ]
  },
  {
   "cell_type": "code",
   "execution_count": 64,
   "metadata": {},
   "outputs": [
    {
     "data": {
      "text/plain": [
       "MultiIndex(levels=[['G1', 'G2'], [1, 2, 3]],\n",
       "           labels=[[0, 0, 0, 1, 1, 1], [0, 1, 2, 0, 1, 2]])"
      ]
     },
     "execution_count": 64,
     "metadata": {},
     "output_type": "execute_result"
    }
   ],
   "source": [
    "hier_index"
   ]
  },
  {
   "cell_type": "code",
   "execution_count": 67,
   "metadata": {},
   "outputs": [
    {
     "ename": "AttributeError",
     "evalue": "'builtin_function_or_method' object has no attribute 'names'",
     "output_type": "error",
     "traceback": [
      "\u001b[1;31m---------------------------------------------------------------------------\u001b[0m",
      "\u001b[1;31mAttributeError\u001b[0m                            Traceback (most recent call last)",
      "\u001b[1;32m<ipython-input-67-bda811a4cc17>\u001b[0m in \u001b[0;36m<module>\u001b[1;34m()\u001b[0m\n\u001b[1;32m----> 1\u001b[1;33m \u001b[0mdp\u001b[0m\u001b[1;33m.\u001b[0m\u001b[0mindex\u001b[0m\u001b[1;33m.\u001b[0m\u001b[0mnames\u001b[0m\u001b[1;33m=\u001b[0m\u001b[1;33m[\u001b[0m\u001b[1;34m'group'\u001b[0m\u001b[1;33m,\u001b[0m\u001b[1;34m'name'\u001b[0m\u001b[1;33m]\u001b[0m\u001b[1;33m\u001b[0m\u001b[0m\n\u001b[0m",
      "\u001b[1;31mAttributeError\u001b[0m: 'builtin_function_or_method' object has no attribute 'names'"
     ]
    }
   ],
   "source": [
    "dp.index.names=['group','name']\n"
   ]
  },
  {
   "cell_type": "code",
   "execution_count": 68,
   "metadata": {},
   "outputs": [
    {
     "ename": "AttributeError",
     "evalue": "'str' object has no attribute 'dropna'",
     "output_type": "error",
     "traceback": [
      "\u001b[1;31m---------------------------------------------------------------------------\u001b[0m",
      "\u001b[1;31mAttributeError\u001b[0m                            Traceback (most recent call last)",
      "\u001b[1;32m<ipython-input-68-939ab45fd866>\u001b[0m in \u001b[0;36m<module>\u001b[1;34m()\u001b[0m\n\u001b[1;32m----> 1\u001b[1;33m \u001b[0mdp\u001b[0m\u001b[1;33m.\u001b[0m\u001b[0mdropna\u001b[0m\u001b[1;33m(\u001b[0m\u001b[1;33m)\u001b[0m\u001b[1;33m\u001b[0m\u001b[0m\n\u001b[0m",
      "\u001b[1;31mAttributeError\u001b[0m: 'str' object has no attribute 'dropna'"
     ]
    }
   ],
   "source": [
    "dp.dropna()"
   ]
  },
  {
   "cell_type": "code",
   "execution_count": 69,
   "metadata": {
    "scrolled": true
   },
   "outputs": [
    {
     "ename": "SyntaxError",
     "evalue": "invalid syntax (<ipython-input-69-1423f265679b>, line 1)",
     "output_type": "error",
     "traceback": [
      "\u001b[1;36m  File \u001b[1;32m\"<ipython-input-69-1423f265679b>\"\u001b[1;36m, line \u001b[1;32m1\u001b[0m\n\u001b[1;33m    dp=pd.DataFrame{{}'A':[1,2,np,nam],'B':[5,np.nan,np.nan],'C':[1,2,3]}}\u001b[0m\n\u001b[1;37m                   ^\u001b[0m\n\u001b[1;31mSyntaxError\u001b[0m\u001b[1;31m:\u001b[0m invalid syntax\n"
     ]
    }
   ],
   "source": [
    "dp=pd.DataFrame{{}'A':[1,2,np,nam],'B':[5,np.nan,np.nan],'C':[1,2,3]}}\n",
    "dp"
   ]
  },
  {
   "cell_type": "code",
   "execution_count": 70,
   "metadata": {},
   "outputs": [
    {
     "data": {
      "text/html": [
       "<div>\n",
       "<style scoped>\n",
       "    .dataframe tbody tr th:only-of-type {\n",
       "        vertical-align: middle;\n",
       "    }\n",
       "\n",
       "    .dataframe tbody tr th {\n",
       "        vertical-align: top;\n",
       "    }\n",
       "\n",
       "    .dataframe thead th {\n",
       "        text-align: right;\n",
       "    }\n",
       "</style>\n",
       "<table border=\"1\" class=\"dataframe\">\n",
       "  <thead>\n",
       "    <tr style=\"text-align: right;\">\n",
       "      <th></th>\n",
       "      <th>a</th>\n",
       "      <th>b</th>\n",
       "      <th>c</th>\n",
       "      <th>d</th>\n",
       "    </tr>\n",
       "  </thead>\n",
       "  <tbody>\n",
       "    <tr>\n",
       "      <th>0</th>\n",
       "      <td>0</td>\n",
       "      <td>1</td>\n",
       "      <td>2</td>\n",
       "      <td>3</td>\n",
       "    </tr>\n",
       "    <tr>\n",
       "      <th>1</th>\n",
       "      <td>4</td>\n",
       "      <td>5</td>\n",
       "      <td>6</td>\n",
       "      <td>7</td>\n",
       "    </tr>\n",
       "    <tr>\n",
       "      <th>2</th>\n",
       "      <td>8</td>\n",
       "      <td>9</td>\n",
       "      <td>10</td>\n",
       "      <td>11</td>\n",
       "    </tr>\n",
       "    <tr>\n",
       "      <th>3</th>\n",
       "      <td>12</td>\n",
       "      <td>13</td>\n",
       "      <td>14</td>\n",
       "      <td>15</td>\n",
       "    </tr>\n",
       "  </tbody>\n",
       "</table>\n",
       "</div>"
      ],
      "text/plain": [
       "    a   b   c   d\n",
       "0   0   1   2   3\n",
       "1   4   5   6   7\n",
       "2   8   9  10  11\n",
       "3  12  13  14  15"
      ]
     },
     "execution_count": 70,
     "metadata": {},
     "output_type": "execute_result"
    }
   ],
   "source": [
    "dp=pd.read_csv('example')\n",
    "dp"
   ]
  },
  {
   "cell_type": "code",
   "execution_count": 72,
   "metadata": {},
   "outputs": [
    {
     "data": {
      "text/html": [
       "<div>\n",
       "<style scoped>\n",
       "    .dataframe tbody tr th:only-of-type {\n",
       "        vertical-align: middle;\n",
       "    }\n",
       "\n",
       "    .dataframe tbody tr th {\n",
       "        vertical-align: top;\n",
       "    }\n",
       "\n",
       "    .dataframe thead th {\n",
       "        text-align: right;\n",
       "    }\n",
       "</style>\n",
       "<table border=\"1\" class=\"dataframe\">\n",
       "  <thead>\n",
       "    <tr style=\"text-align: right;\">\n",
       "      <th></th>\n",
       "      <th>a</th>\n",
       "      <th>b</th>\n",
       "      <th>c</th>\n",
       "      <th>d</th>\n",
       "    </tr>\n",
       "  </thead>\n",
       "  <tbody>\n",
       "    <tr>\n",
       "      <th>0</th>\n",
       "      <td>0</td>\n",
       "      <td>1</td>\n",
       "      <td>2</td>\n",
       "      <td>3</td>\n",
       "    </tr>\n",
       "    <tr>\n",
       "      <th>1</th>\n",
       "      <td>4</td>\n",
       "      <td>5</td>\n",
       "      <td>6</td>\n",
       "      <td>7</td>\n",
       "    </tr>\n",
       "    <tr>\n",
       "      <th>2</th>\n",
       "      <td>8</td>\n",
       "      <td>9</td>\n",
       "      <td>10</td>\n",
       "      <td>11</td>\n",
       "    </tr>\n",
       "    <tr>\n",
       "      <th>3</th>\n",
       "      <td>12</td>\n",
       "      <td>13</td>\n",
       "      <td>14</td>\n",
       "      <td>15</td>\n",
       "    </tr>\n",
       "  </tbody>\n",
       "</table>\n",
       "</div>"
      ],
      "text/plain": [
       "    a   b   c   d\n",
       "0   0   1   2   3\n",
       "1   4   5   6   7\n",
       "2   8   9  10  11\n",
       "3  12  13  14  15"
      ]
     },
     "execution_count": 72,
     "metadata": {},
     "output_type": "execute_result"
    }
   ],
   "source": [
    "pd.read_excel('Excel_Sample.xlsx',Sheetname='Sheet1')"
   ]
  },
  {
   "cell_type": "code",
   "execution_count": null,
   "metadata": {},
   "outputs": [],
   "source": []
  },
  {
   "cell_type": "code",
   "execution_count": 73,
   "metadata": {},
   "outputs": [],
   "source": [
    "dp=pd.read_html('http://www.fdic.gov/bank/individual/failed/banklist.html')"
   ]
  },
  {
   "cell_type": "code",
   "execution_count": 74,
   "metadata": {},
   "outputs": [
    {
     "data": {
      "text/plain": [
       "[                                             Bank Name                City  \\\n",
       " 0                                 The Enloe State Bank              Cooper   \n",
       " 1                  Washington Federal Bank for Savings             Chicago   \n",
       " 2      The Farmers and Merchants State Bank of Argonia             Argonia   \n",
       " 3                                  Fayette County Bank          Saint Elmo   \n",
       " 4    Guaranty Bank, (d/b/a BestBank in Georgia & Mi...           Milwaukee   \n",
       " 5                                       First NBC Bank         New Orleans   \n",
       " 6                                        Proficio Bank  Cottonwood Heights   \n",
       " 7                        Seaway Bank and Trust Company             Chicago   \n",
       " 8                               Harvest Community Bank          Pennsville   \n",
       " 9                                          Allied Bank            Mulberry   \n",
       " 10                        The Woodbury Banking Company            Woodbury   \n",
       " 11                              First CornerStone Bank     King of Prussia   \n",
       " 12                                  Trust Company Bank             Memphis   \n",
       " 13                          North Milwaukee State Bank           Milwaukee   \n",
       " 14                              Hometown National Bank            Longview   \n",
       " 15                                 The Bank of Georgia      Peachtree City   \n",
       " 16                                        Premier Bank              Denver   \n",
       " 17                                      Edgebrook Bank             Chicago   \n",
       " 18                              Doral Bank  En Español            San Juan   \n",
       " 19                   Capitol City Bank & Trust Company             Atlanta   \n",
       " 20                             Highland Community Bank             Chicago   \n",
       " 21                    First National Bank of Crestview           Crestview   \n",
       " 22                                  Northern Star Bank             Mankato   \n",
       " 23              Frontier Bank, FSB D/B/A El Paseo Bank         Palm Desert   \n",
       " 24               The National Republic Bank of Chicago             Chicago   \n",
       " 25                                      NBRS Financial          Rising Sun   \n",
       " 26                               GreenChoice Bank, fsb             Chicago   \n",
       " 27                            Eastside Commercial Bank             Conyers   \n",
       " 28                              The Freedom State Bank             Freedom   \n",
       " 29                                         Valley Bank     Fort Lauderdale   \n",
       " ..                                                 ...                 ...   \n",
       " 526                                  ANB Financial, NA         Bentonville   \n",
       " 527                                          Hume Bank                Hume   \n",
       " 528                             Douglass National Bank         Kansas City   \n",
       " 529                                  Miami Valley Bank            Lakeview   \n",
       " 530                                            NetBank          Alpharetta   \n",
       " 531                          Metropolitan Savings Bank          Pittsburgh   \n",
       " 532                                    Bank of Ephraim             Ephraim   \n",
       " 533                                      Reliance Bank        White Plains   \n",
       " 534              Guaranty National Bank of Tallahassee         Tallahassee   \n",
       " 535                                Dollar Savings Bank              Newark   \n",
       " 536                               Pulaski Savings Bank        Philadelphia   \n",
       " 537              First National Bank of Blanchardville      Blanchardville   \n",
       " 538                              Southern Pacific Bank            Torrance   \n",
       " 539                        Farmers Bank of Cheneyville         Cheneyville   \n",
       " 540                                      Bank of Alamo               Alamo   \n",
       " 541             AmTrade International Bank  En Español             Atlanta   \n",
       " 542                     Universal Federal Savings Bank             Chicago   \n",
       " 543                       Connecticut Bank of Commerce            Stamford   \n",
       " 544                                   New Century Bank     Shelby Township   \n",
       " 545                              Net 1st National Bank          Boca Raton   \n",
       " 546                                       NextBank, NA             Phoenix   \n",
       " 547                           Oakwood Deposit Bank Co.             Oakwood   \n",
       " 548                              Bank of Sierra Blanca       Sierra Blanca   \n",
       " 549                      Hamilton Bank, NA  En Español               Miami   \n",
       " 550                             Sinclair National Bank            Gravette   \n",
       " 551                                 Superior Bank, FSB            Hinsdale   \n",
       " 552                                Malta National Bank               Malta   \n",
       " 553                    First Alliance Bank & Trust Co.          Manchester   \n",
       " 554                  National State Bank of Metropolis          Metropolis   \n",
       " 555                                   Bank of Honolulu            Honolulu   \n",
       " \n",
       "      ST   CERT                Acquiring Institution        Closing Date  \\\n",
       " 0    TX  10716                   Legend Bank, N. A.        May 31, 2019   \n",
       " 1    IL  30570                   Royal Savings Bank   December 15, 2017   \n",
       " 2    KS  17719                          Conway Bank    October 13, 2017   \n",
       " 3    IL   1802            United Fidelity Bank, fsb        May 26, 2017   \n",
       " 4    WI  30003  First-Citizens Bank & Trust Company         May 5, 2017   \n",
       " 5    LA  58302                         Whitney Bank      April 28, 2017   \n",
       " 6    UT  35495                    Cache Valley Bank       March 3, 2017   \n",
       " 7    IL  19328                  State Bank of Texas    January 27, 2017   \n",
       " 8    NJ  34951  First-Citizens Bank & Trust Company    January 13, 2017   \n",
       " 9    AR     91                         Today's Bank  September 23, 2016   \n",
       " 10   GA  11297                          United Bank     August 19, 2016   \n",
       " 11   PA  35312  First-Citizens Bank & Trust Company         May 6, 2016   \n",
       " 12   TN   9956           The Bank of Fayette County      April 29, 2016   \n",
       " 13   WI  20364  First-Citizens Bank & Trust Company      March 11, 2016   \n",
       " 14   WA  35156                       Twin City Bank     October 2, 2015   \n",
       " 15   GA  35259                        Fidelity Bank     October 2, 2015   \n",
       " 16   CO  34112            United Fidelity Bank, fsb       July 10, 2015   \n",
       " 17   IL  57772             Republic Bank of Chicago         May 8, 2015   \n",
       " 18   PR  32102         Banco Popular de Puerto Rico   February 27, 2015   \n",
       " 19   GA  33938  First-Citizens Bank & Trust Company   February 13, 2015   \n",
       " 20   IL  20290            United Fidelity Bank, fsb    January 23, 2015   \n",
       " 21   FL  17557                       First NBC Bank    January 16, 2015   \n",
       " 22   MN  34983                            BankVista   December 19, 2014   \n",
       " 23   CA  34738    Bank of Southern California, N.A.    November 7, 2014   \n",
       " 24   IL    916                  State Bank of Texas    October 24, 2014   \n",
       " 25   MD   4862                          Howard Bank    October 17, 2014   \n",
       " 26   IL  28462                 Providence Bank, LLC       July 25, 2014   \n",
       " 27   GA  58125            Community & Southern Bank       July 18, 2014   \n",
       " 28   OK  12483      Alva State Bank & Trust Company       June 27, 2014   \n",
       " 29   FL  21793  Landmark Bank, National Association       June 20, 2014   \n",
       " ..   ..    ...                                  ...                 ...   \n",
       " 526  AR  33901       Pulaski Bank and Trust Company         May 9, 2008   \n",
       " 527  MO   1971                        Security Bank       March 7, 2008   \n",
       " 528  MO  24660       Liberty Bank and Trust Company    January 25, 2008   \n",
       " 529  OH  16848         The Citizens Banking Company     October 4, 2007   \n",
       " 530  GA  32575                           ING DIRECT  September 28, 2007   \n",
       " 531  PA  35353  Allegheny Valley Bank of Pittsburgh    February 2, 2007   \n",
       " 532  UT   1249                        Far West Bank       June 25, 2004   \n",
       " 533  NY  26778                     Union State Bank      March 19, 2004   \n",
       " 534  FL  26838              Hancock Bank of Florida      March 12, 2004   \n",
       " 535  NJ  31330                          No Acquirer   February 14, 2004   \n",
       " 536  PA  27203                       Earthstar Bank   November 14, 2003   \n",
       " 537  WI  11639                        The Park Bank         May 9, 2003   \n",
       " 538  CA  27094                            Beal Bank    February 7, 2003   \n",
       " 539  LA  16445            Sabine State Bank & Trust   December 17, 2002   \n",
       " 540  TN   9961                          No Acquirer    November 8, 2002   \n",
       " 541  GA  33784                          No Acquirer  September 30, 2002   \n",
       " 542  IL  29355               Chicago Community Bank       June 27, 2002   \n",
       " 543  CT  19183                   Hudson United Bank       June 26, 2002   \n",
       " 544  MI  34979                          No Acquirer      March 28, 2002   \n",
       " 545  FL  26652                       Bank Leumi USA       March 1, 2002   \n",
       " 546  AZ  22314                          No Acquirer    February 7, 2002   \n",
       " 547  OH   8966       The State Bank & Trust Company    February 1, 2002   \n",
       " 548  TX  22002     The Security State Bank of Pecos    January 18, 2002   \n",
       " 549  FL  24382     Israel Discount Bank of New York    January 11, 2002   \n",
       " 550  AR  34248                   Delta Trust & Bank   September 7, 2001   \n",
       " 551  IL  32646                Superior Federal, FSB       July 27, 2001   \n",
       " 552  OH   6629                    North Valley Bank         May 3, 2001   \n",
       " 553  NH  34264  Southern New Hampshire Bank & Trust    February 2, 2001   \n",
       " 554  IL   3815              Banterra Bank of Marion   December 14, 2000   \n",
       " 555  HI  21029                   Bank of the Orient    October 13, 2000   \n",
       " \n",
       "            Updated Date  \n",
       " 0         June 18, 2019  \n",
       " 1      February 1, 2019  \n",
       " 2     February 21, 2018  \n",
       " 3      January 29, 2019  \n",
       " 4        March 22, 2018  \n",
       " 5      January 29, 2019  \n",
       " 6      January 29, 2019  \n",
       " 7      January 29, 2019  \n",
       " 8          May 18, 2017  \n",
       " 9          May 13, 2019  \n",
       " 10    December 13, 2018  \n",
       " 11    November 13, 2018  \n",
       " 12   September 14, 2018  \n",
       " 13     January 29, 2019  \n",
       " 14    February 19, 2018  \n",
       " 15         July 9, 2018  \n",
       " 16    February 20, 2018  \n",
       " 17     January 29, 2019  \n",
       " 18     January 29, 2019  \n",
       " 19     January 29, 2019  \n",
       " 20    November 15, 2017  \n",
       " 21    November 15, 2017  \n",
       " 22      January 3, 2018  \n",
       " 23    November 10, 2016  \n",
       " 24      January 6, 2016  \n",
       " 25     January 29, 2019  \n",
       " 26    December 12, 2016  \n",
       " 27      October 6, 2017  \n",
       " 28    February 21, 2018  \n",
       " 29     January 29, 2019  \n",
       " ..                  ...  \n",
       " 526    February 1, 2019  \n",
       " 527    January 31, 2019  \n",
       " 528    October 26, 2012  \n",
       " 529  September 12, 2016  \n",
       " 530    January 31, 2019  \n",
       " 531    October 27, 2010  \n",
       " 532       April 9, 2008  \n",
       " 533       April 9, 2008  \n",
       " 534      April 17, 2018  \n",
       " 535       April 9, 2008  \n",
       " 536     October 6, 2017  \n",
       " 537        June 5, 2012  \n",
       " 538    October 20, 2008  \n",
       " 539    October 20, 2004  \n",
       " 540      March 18, 2005  \n",
       " 541  September 11, 2006  \n",
       " 542     October 6, 2017  \n",
       " 543   February 14, 2012  \n",
       " 544      March 18, 2005  \n",
       " 545       April 9, 2008  \n",
       " 546    February 5, 2015  \n",
       " 547    October 25, 2012  \n",
       " 548    November 6, 2003  \n",
       " 549  September 21, 2015  \n",
       " 550     October 6, 2017  \n",
       " 551     August 19, 2014  \n",
       " 552   November 18, 2002  \n",
       " 553   February 18, 2003  \n",
       " 554      March 17, 2005  \n",
       " 555      March 17, 2005  \n",
       " \n",
       " [556 rows x 7 columns]]"
      ]
     },
     "execution_count": 74,
     "metadata": {},
     "output_type": "execute_result"
    }
   ],
   "source": [
    "dp"
   ]
  },
  {
   "cell_type": "code",
   "execution_count": 76,
   "metadata": {},
   "outputs": [
    {
     "data": {
      "text/html": [
       "<div>\n",
       "<style scoped>\n",
       "    .dataframe tbody tr th:only-of-type {\n",
       "        vertical-align: middle;\n",
       "    }\n",
       "\n",
       "    .dataframe tbody tr th {\n",
       "        vertical-align: top;\n",
       "    }\n",
       "\n",
       "    .dataframe thead th {\n",
       "        text-align: right;\n",
       "    }\n",
       "</style>\n",
       "<table border=\"1\" class=\"dataframe\">\n",
       "  <thead>\n",
       "    <tr style=\"text-align: right;\">\n",
       "      <th></th>\n",
       "      <th>col1</th>\n",
       "      <th>col2</th>\n",
       "      <th>col</th>\n",
       "    </tr>\n",
       "  </thead>\n",
       "  <tbody>\n",
       "    <tr>\n",
       "      <th>0</th>\n",
       "      <td>1</td>\n",
       "      <td>444</td>\n",
       "      <td>abc</td>\n",
       "    </tr>\n",
       "    <tr>\n",
       "      <th>1</th>\n",
       "      <td>2</td>\n",
       "      <td>555</td>\n",
       "      <td>def</td>\n",
       "    </tr>\n",
       "    <tr>\n",
       "      <th>2</th>\n",
       "      <td>3</td>\n",
       "      <td>666</td>\n",
       "      <td>ghi</td>\n",
       "    </tr>\n",
       "    <tr>\n",
       "      <th>3</th>\n",
       "      <td>4</td>\n",
       "      <td>444</td>\n",
       "      <td>xyz</td>\n",
       "    </tr>\n",
       "  </tbody>\n",
       "</table>\n",
       "</div>"
      ],
      "text/plain": [
       "   col1  col2  col\n",
       "0     1   444  abc\n",
       "1     2   555  def\n",
       "2     3   666  ghi\n",
       "3     4   444  xyz"
      ]
     },
     "execution_count": 76,
     "metadata": {},
     "output_type": "execute_result"
    }
   ],
   "source": [
    "import pandas as pd\n",
    "dp=pd.DataFrame({'col1':[1,2,3,4],'col2':[444,555,666,444],'col':['abc','def','ghi','xyz']})\n",
    "dp.head()"
   ]
  },
  {
   "cell_type": "code",
   "execution_count": 77,
   "metadata": {},
   "outputs": [],
   "source": [
    "newdp=dp=dp[(dp['col1']>2)&(dp['col2']==444)]"
   ]
  },
  {
   "cell_type": "code",
   "execution_count": 78,
   "metadata": {},
   "outputs": [
    {
     "data": {
      "text/html": [
       "<div>\n",
       "<style scoped>\n",
       "    .dataframe tbody tr th:only-of-type {\n",
       "        vertical-align: middle;\n",
       "    }\n",
       "\n",
       "    .dataframe tbody tr th {\n",
       "        vertical-align: top;\n",
       "    }\n",
       "\n",
       "    .dataframe thead th {\n",
       "        text-align: right;\n",
       "    }\n",
       "</style>\n",
       "<table border=\"1\" class=\"dataframe\">\n",
       "  <thead>\n",
       "    <tr style=\"text-align: right;\">\n",
       "      <th></th>\n",
       "      <th>col1</th>\n",
       "      <th>col2</th>\n",
       "      <th>col</th>\n",
       "    </tr>\n",
       "  </thead>\n",
       "  <tbody>\n",
       "    <tr>\n",
       "      <th>3</th>\n",
       "      <td>4</td>\n",
       "      <td>444</td>\n",
       "      <td>xyz</td>\n",
       "    </tr>\n",
       "  </tbody>\n",
       "</table>\n",
       "</div>"
      ],
      "text/plain": [
       "   col1  col2  col\n",
       "3     4   444  xyz"
      ]
     },
     "execution_count": 78,
     "metadata": {},
     "output_type": "execute_result"
    }
   ],
   "source": [
    "newdp"
   ]
  },
  {
   "cell_type": "code",
   "execution_count": 79,
   "metadata": {},
   "outputs": [],
   "source": [
    "def times2(x):\n",
    "    return x*2"
   ]
  },
  {
   "cell_type": "code",
   "execution_count": 81,
   "metadata": {},
   "outputs": [
    {
     "data": {
      "text/plain": [
       "3    8\n",
       "Name: col1, dtype: int64"
      ]
     },
     "execution_count": 81,
     "metadata": {},
     "output_type": "execute_result"
    }
   ],
   "source": [
    "dp['col1'].apply(times2)"
   ]
  },
  {
   "cell_type": "code",
   "execution_count": 90,
   "metadata": {},
   "outputs": [
    {
     "data": {
      "text/html": [
       "<div>\n",
       "<style scoped>\n",
       "    .dataframe tbody tr th:only-of-type {\n",
       "        vertical-align: middle;\n",
       "    }\n",
       "\n",
       "    .dataframe tbody tr th {\n",
       "        vertical-align: top;\n",
       "    }\n",
       "\n",
       "    .dataframe thead th {\n",
       "        text-align: right;\n",
       "    }\n",
       "</style>\n",
       "<table border=\"1\" class=\"dataframe\">\n",
       "  <thead>\n",
       "    <tr style=\"text-align: right;\">\n",
       "      <th></th>\n",
       "      <th>Address</th>\n",
       "      <th>Lot</th>\n",
       "      <th>AM or PM</th>\n",
       "      <th>Browser Info</th>\n",
       "      <th>Company</th>\n",
       "      <th>Credit Card</th>\n",
       "      <th>CC Exp Date</th>\n",
       "      <th>CC Security Code</th>\n",
       "      <th>CC Provider</th>\n",
       "      <th>Email</th>\n",
       "      <th>Job</th>\n",
       "      <th>IP Address</th>\n",
       "      <th>Language</th>\n",
       "      <th>Purchase Price</th>\n",
       "    </tr>\n",
       "  </thead>\n",
       "  <tbody>\n",
       "    <tr>\n",
       "      <th>0</th>\n",
       "      <td>16629 Pace Camp Apt. 448\\nAlexisborough, NE 77...</td>\n",
       "      <td>46 in</td>\n",
       "      <td>PM</td>\n",
       "      <td>Opera/9.56.(X11; Linux x86_64; sl-SI) Presto/2...</td>\n",
       "      <td>Martinez-Herman</td>\n",
       "      <td>6011929061123406</td>\n",
       "      <td>02/20</td>\n",
       "      <td>900</td>\n",
       "      <td>JCB 16 digit</td>\n",
       "      <td>pdunlap@yahoo.com</td>\n",
       "      <td>Scientist, product/process development</td>\n",
       "      <td>149.146.147.205</td>\n",
       "      <td>el</td>\n",
       "      <td>98.14</td>\n",
       "    </tr>\n",
       "    <tr>\n",
       "      <th>1</th>\n",
       "      <td>9374 Jasmine Spurs Suite 508\\nSouth John, TN 8...</td>\n",
       "      <td>28 rn</td>\n",
       "      <td>PM</td>\n",
       "      <td>Opera/8.93.(Windows 98; Win 9x 4.90; en-US) Pr...</td>\n",
       "      <td>Fletcher, Richards and Whitaker</td>\n",
       "      <td>3337758169645356</td>\n",
       "      <td>11/18</td>\n",
       "      <td>561</td>\n",
       "      <td>Mastercard</td>\n",
       "      <td>anthony41@reed.com</td>\n",
       "      <td>Drilling engineer</td>\n",
       "      <td>15.160.41.51</td>\n",
       "      <td>fr</td>\n",
       "      <td>70.73</td>\n",
       "    </tr>\n",
       "    <tr>\n",
       "      <th>2</th>\n",
       "      <td>Unit 0065 Box 5052\\nDPO AP 27450</td>\n",
       "      <td>94 vE</td>\n",
       "      <td>PM</td>\n",
       "      <td>Mozilla/5.0 (compatible; MSIE 9.0; Windows NT ...</td>\n",
       "      <td>Simpson, Williams and Pham</td>\n",
       "      <td>675957666125</td>\n",
       "      <td>08/19</td>\n",
       "      <td>699</td>\n",
       "      <td>JCB 16 digit</td>\n",
       "      <td>amymiller@morales-harrison.com</td>\n",
       "      <td>Customer service manager</td>\n",
       "      <td>132.207.160.22</td>\n",
       "      <td>de</td>\n",
       "      <td>0.95</td>\n",
       "    </tr>\n",
       "    <tr>\n",
       "      <th>3</th>\n",
       "      <td>7780 Julia Fords\\nNew Stacy, WA 45798</td>\n",
       "      <td>36 vm</td>\n",
       "      <td>PM</td>\n",
       "      <td>Mozilla/5.0 (Macintosh; Intel Mac OS X 10_8_0 ...</td>\n",
       "      <td>Williams, Marshall and Buchanan</td>\n",
       "      <td>6011578504430710</td>\n",
       "      <td>02/24</td>\n",
       "      <td>384</td>\n",
       "      <td>Discover</td>\n",
       "      <td>brent16@olson-robinson.info</td>\n",
       "      <td>Drilling engineer</td>\n",
       "      <td>30.250.74.19</td>\n",
       "      <td>es</td>\n",
       "      <td>78.04</td>\n",
       "    </tr>\n",
       "    <tr>\n",
       "      <th>4</th>\n",
       "      <td>23012 Munoz Drive Suite 337\\nNew Cynthia, TX 5...</td>\n",
       "      <td>20 IE</td>\n",
       "      <td>AM</td>\n",
       "      <td>Opera/9.58.(X11; Linux x86_64; it-IT) Presto/2...</td>\n",
       "      <td>Brown, Watson and Andrews</td>\n",
       "      <td>6011456623207998</td>\n",
       "      <td>10/25</td>\n",
       "      <td>678</td>\n",
       "      <td>Diners Club / Carte Blanche</td>\n",
       "      <td>christopherwright@gmail.com</td>\n",
       "      <td>Fine artist</td>\n",
       "      <td>24.140.33.94</td>\n",
       "      <td>es</td>\n",
       "      <td>77.82</td>\n",
       "    </tr>\n",
       "    <tr>\n",
       "      <th>5</th>\n",
       "      <td>7502 Powell Mission Apt. 768\\nTravisland, VA 3...</td>\n",
       "      <td>21 XT</td>\n",
       "      <td>PM</td>\n",
       "      <td>Mozilla/5.0 (Macintosh; U; PPC Mac OS X 10_8_5...</td>\n",
       "      <td>Silva-Anderson</td>\n",
       "      <td>30246185196287</td>\n",
       "      <td>07/25</td>\n",
       "      <td>7169</td>\n",
       "      <td>Discover</td>\n",
       "      <td>ynguyen@gmail.com</td>\n",
       "      <td>Fish farm manager</td>\n",
       "      <td>55.96.152.147</td>\n",
       "      <td>ru</td>\n",
       "      <td>25.15</td>\n",
       "    </tr>\n",
       "    <tr>\n",
       "      <th>6</th>\n",
       "      <td>93971 Conway Causeway\\nAndersonburgh, AZ 75107</td>\n",
       "      <td>96 Xt</td>\n",
       "      <td>AM</td>\n",
       "      <td>Mozilla/5.0 (compatible; MSIE 7.0; Windows NT ...</td>\n",
       "      <td>Gibson and Sons</td>\n",
       "      <td>6011398782655569</td>\n",
       "      <td>07/24</td>\n",
       "      <td>714</td>\n",
       "      <td>VISA 16 digit</td>\n",
       "      <td>olivia04@yahoo.com</td>\n",
       "      <td>Dancer</td>\n",
       "      <td>127.252.144.18</td>\n",
       "      <td>de</td>\n",
       "      <td>88.56</td>\n",
       "    </tr>\n",
       "    <tr>\n",
       "      <th>7</th>\n",
       "      <td>260 Rachel Plains Suite 366\\nCastroberg, WV 24...</td>\n",
       "      <td>96 pG</td>\n",
       "      <td>PM</td>\n",
       "      <td>Mozilla/5.0 (X11; Linux i686) AppleWebKit/5350...</td>\n",
       "      <td>Marshall-Collins</td>\n",
       "      <td>561252141909</td>\n",
       "      <td>06/25</td>\n",
       "      <td>256</td>\n",
       "      <td>VISA 13 digit</td>\n",
       "      <td>phillip48@parks.info</td>\n",
       "      <td>Event organiser</td>\n",
       "      <td>224.247.97.150</td>\n",
       "      <td>pt</td>\n",
       "      <td>44.25</td>\n",
       "    </tr>\n",
       "    <tr>\n",
       "      <th>8</th>\n",
       "      <td>2129 Dylan Burg\\nNew Michelle, ME 28650</td>\n",
       "      <td>45 JN</td>\n",
       "      <td>PM</td>\n",
       "      <td>Mozilla/5.0 (Macintosh; U; Intel Mac OS X 10_7...</td>\n",
       "      <td>Galloway and Sons</td>\n",
       "      <td>180041795790001</td>\n",
       "      <td>04/24</td>\n",
       "      <td>899</td>\n",
       "      <td>JCB 16 digit</td>\n",
       "      <td>kdavis@rasmussen.com</td>\n",
       "      <td>Financial manager</td>\n",
       "      <td>146.234.201.229</td>\n",
       "      <td>ru</td>\n",
       "      <td>59.54</td>\n",
       "    </tr>\n",
       "    <tr>\n",
       "      <th>9</th>\n",
       "      <td>3795 Dawson Extensions\\nLake Tinafort, ID 88739</td>\n",
       "      <td>15 Ug</td>\n",
       "      <td>AM</td>\n",
       "      <td>Mozilla/5.0 (X11; Linux i686; rv:1.9.7.20) Gec...</td>\n",
       "      <td>Rivera, Buchanan and Ramirez</td>\n",
       "      <td>4396283918371</td>\n",
       "      <td>01/17</td>\n",
       "      <td>931</td>\n",
       "      <td>American Express</td>\n",
       "      <td>qcoleman@hunt-huerta.com</td>\n",
       "      <td>Forensic scientist</td>\n",
       "      <td>236.198.199.8</td>\n",
       "      <td>zh</td>\n",
       "      <td>95.63</td>\n",
       "    </tr>\n",
       "    <tr>\n",
       "      <th>10</th>\n",
       "      <td>650 Elizabeth Park\\nLake Maria, LA 13526-2530</td>\n",
       "      <td>65 Yn</td>\n",
       "      <td>PM</td>\n",
       "      <td>Mozilla/5.0 (iPod; U; CPU iPhone OS 4_1 like M...</td>\n",
       "      <td>Strickland, Michael and Gonzales</td>\n",
       "      <td>180036417827355</td>\n",
       "      <td>02/17</td>\n",
       "      <td>754</td>\n",
       "      <td>Voyager</td>\n",
       "      <td>ustewart@hotmail.com</td>\n",
       "      <td>Development worker, community</td>\n",
       "      <td>26.59.93.1</td>\n",
       "      <td>el</td>\n",
       "      <td>96.89</td>\n",
       "    </tr>\n",
       "    <tr>\n",
       "      <th>11</th>\n",
       "      <td>349 Laurie Parks\\nThomasview, ID 08970</td>\n",
       "      <td>30 kK</td>\n",
       "      <td>PM</td>\n",
       "      <td>Mozilla/5.0 (X11; Linux i686; rv:1.9.6.20) Gec...</td>\n",
       "      <td>Kim-Oliver</td>\n",
       "      <td>869975209012056</td>\n",
       "      <td>06/26</td>\n",
       "      <td>9717</td>\n",
       "      <td>JCB 15 digit</td>\n",
       "      <td>johnnymiller@coleman.com</td>\n",
       "      <td>Diagnostic radiographer</td>\n",
       "      <td>128.222.40.234</td>\n",
       "      <td>en</td>\n",
       "      <td>19.26</td>\n",
       "    </tr>\n",
       "    <tr>\n",
       "      <th>12</th>\n",
       "      <td>733 Heather Rest Apt. 670\\nBoltonport, UT 78662</td>\n",
       "      <td>69 DO</td>\n",
       "      <td>AM</td>\n",
       "      <td>Mozilla/5.0 (Macintosh; Intel Mac OS X 10_5_3 ...</td>\n",
       "      <td>Moore-Martin</td>\n",
       "      <td>5115990487067905</td>\n",
       "      <td>05/26</td>\n",
       "      <td>119</td>\n",
       "      <td>VISA 16 digit</td>\n",
       "      <td>tholt@hotmail.com</td>\n",
       "      <td>Surveyor, quantity</td>\n",
       "      <td>236.71.234.240</td>\n",
       "      <td>en</td>\n",
       "      <td>39.65</td>\n",
       "    </tr>\n",
       "    <tr>\n",
       "      <th>13</th>\n",
       "      <td>118 Melton Via Suite 681\\nAlexanderbury, FL 32104</td>\n",
       "      <td>36 bu</td>\n",
       "      <td>PM</td>\n",
       "      <td>Mozilla/5.0 (Macintosh; U; Intel Mac OS X 10_8...</td>\n",
       "      <td>Keller PLC</td>\n",
       "      <td>4603635169938574</td>\n",
       "      <td>01/25</td>\n",
       "      <td>557</td>\n",
       "      <td>VISA 16 digit</td>\n",
       "      <td>caitlin57@yahoo.com</td>\n",
       "      <td>Accountant, chartered public finance</td>\n",
       "      <td>84.212.92.11</td>\n",
       "      <td>it</td>\n",
       "      <td>8.93</td>\n",
       "    </tr>\n",
       "    <tr>\n",
       "      <th>14</th>\n",
       "      <td>8774 Jason Keys Suite 427\\nEast Scottborough, ...</td>\n",
       "      <td>70 zH</td>\n",
       "      <td>AM</td>\n",
       "      <td>Mozilla/5.0 (Windows 98; it-IT; rv:1.9.2.20) G...</td>\n",
       "      <td>Leach, Howe and Ferguson</td>\n",
       "      <td>869967499275071</td>\n",
       "      <td>09/22</td>\n",
       "      <td>427</td>\n",
       "      <td>VISA 16 digit</td>\n",
       "      <td>aburns@yahoo.com</td>\n",
       "      <td>Acupuncturist</td>\n",
       "      <td>50.25.148.1</td>\n",
       "      <td>de</td>\n",
       "      <td>24.18</td>\n",
       "    </tr>\n",
       "    <tr>\n",
       "      <th>15</th>\n",
       "      <td>31730 Chelsea Crest\\nBlakemouth, CT 90395-0620</td>\n",
       "      <td>41 Cj</td>\n",
       "      <td>PM</td>\n",
       "      <td>Opera/8.95.(Windows NT 5.0; en-US) Presto/2.9....</td>\n",
       "      <td>Garcia-Steele</td>\n",
       "      <td>180069437020404</td>\n",
       "      <td>04/25</td>\n",
       "      <td>404</td>\n",
       "      <td>Diners Club / Carte Blanche</td>\n",
       "      <td>amanda39@yahoo.com</td>\n",
       "      <td>Retail manager</td>\n",
       "      <td>53.176.235.33</td>\n",
       "      <td>el</td>\n",
       "      <td>71.78</td>\n",
       "    </tr>\n",
       "    <tr>\n",
       "      <th>16</th>\n",
       "      <td>5283 Thomas Trafficway Suite 343\\nEast Brittne...</td>\n",
       "      <td>31 ho</td>\n",
       "      <td>AM</td>\n",
       "      <td>Opera/9.73.(Windows NT 6.2; sl-SI) Presto/2.9....</td>\n",
       "      <td>Stanton, Villanueva and Swanson</td>\n",
       "      <td>676121145525</td>\n",
       "      <td>06/22</td>\n",
       "      <td>285</td>\n",
       "      <td>Diners Club / Carte Blanche</td>\n",
       "      <td>griffincatherine@wilson.com</td>\n",
       "      <td>Therapist, art</td>\n",
       "      <td>8.145.170.52</td>\n",
       "      <td>de</td>\n",
       "      <td>84.44</td>\n",
       "    </tr>\n",
       "    <tr>\n",
       "      <th>17</th>\n",
       "      <td>950 Jacqueline Village Apt. 592\\nPort Kimberly...</td>\n",
       "      <td>23 Rh</td>\n",
       "      <td>PM</td>\n",
       "      <td>Mozilla/5.0 (compatible; MSIE 9.0; Windows NT ...</td>\n",
       "      <td>Fernandez, Melton and Gilbert</td>\n",
       "      <td>3337515540944084</td>\n",
       "      <td>01/26</td>\n",
       "      <td>771</td>\n",
       "      <td>American Express</td>\n",
       "      <td>stacymitchell@hall.com</td>\n",
       "      <td>Designer, jewellery</td>\n",
       "      <td>223.25.125.61</td>\n",
       "      <td>el</td>\n",
       "      <td>58.68</td>\n",
       "    </tr>\n",
       "    <tr>\n",
       "      <th>18</th>\n",
       "      <td>461 Christopher Square\\nWest Michaelchester, C...</td>\n",
       "      <td>17 SB</td>\n",
       "      <td>PM</td>\n",
       "      <td>Mozilla/5.0 (X11; Linux i686; rv:1.9.6.20) Gec...</td>\n",
       "      <td>Beard, Abbott and Pena</td>\n",
       "      <td>6011350184276270</td>\n",
       "      <td>12/22</td>\n",
       "      <td>767</td>\n",
       "      <td>Mastercard</td>\n",
       "      <td>hannah63@yahoo.com</td>\n",
       "      <td>Photographer</td>\n",
       "      <td>73.250.176.201</td>\n",
       "      <td>el</td>\n",
       "      <td>70.15</td>\n",
       "    </tr>\n",
       "    <tr>\n",
       "      <th>19</th>\n",
       "      <td>125 Hall Summit\\nBoothton, IL 41721</td>\n",
       "      <td>99 CU</td>\n",
       "      <td>PM</td>\n",
       "      <td>Mozilla/5.0 (compatible; MSIE 7.0; Windows NT ...</td>\n",
       "      <td>Turner-Mckinney</td>\n",
       "      <td>676343504830</td>\n",
       "      <td>02/20</td>\n",
       "      <td>440</td>\n",
       "      <td>VISA 16 digit</td>\n",
       "      <td>ruiznicole@gmail.com</td>\n",
       "      <td>Designer, interior/spatial</td>\n",
       "      <td>25.105.209.214</td>\n",
       "      <td>fr</td>\n",
       "      <td>58.39</td>\n",
       "    </tr>\n",
       "    <tr>\n",
       "      <th>20</th>\n",
       "      <td>7383 George Village\\nLake Jamesview, CO 79828</td>\n",
       "      <td>23 dk</td>\n",
       "      <td>PM</td>\n",
       "      <td>Mozilla/5.0 (Windows; U; Windows NT 4.0) Apple...</td>\n",
       "      <td>Santana, Montes and Pierce</td>\n",
       "      <td>6011833038852776</td>\n",
       "      <td>03/22</td>\n",
       "      <td>740</td>\n",
       "      <td>Maestro</td>\n",
       "      <td>zstephenson@smith.info</td>\n",
       "      <td>Public relations officer</td>\n",
       "      <td>250.71.54.180</td>\n",
       "      <td>de</td>\n",
       "      <td>30.33</td>\n",
       "    </tr>\n",
       "    <tr>\n",
       "      <th>21</th>\n",
       "      <td>282 Miller Valleys Suite 404\\nWilkinsonbury, M...</td>\n",
       "      <td>24 RZ</td>\n",
       "      <td>AM</td>\n",
       "      <td>Mozilla/5.0 (compatible; MSIE 6.0; Windows NT ...</td>\n",
       "      <td>Guzman-Reese</td>\n",
       "      <td>5491255326230898</td>\n",
       "      <td>03/25</td>\n",
       "      <td>506</td>\n",
       "      <td>JCB 16 digit</td>\n",
       "      <td>rsmith@hotmail.com</td>\n",
       "      <td>Presenter, broadcasting</td>\n",
       "      <td>125.58.66.253</td>\n",
       "      <td>it</td>\n",
       "      <td>90.93</td>\n",
       "    </tr>\n",
       "    <tr>\n",
       "      <th>22</th>\n",
       "      <td>625 Laura Summit Suite 112\\nShortmouth, AK 97156</td>\n",
       "      <td>45 oa</td>\n",
       "      <td>PM</td>\n",
       "      <td>Mozilla/5.0 (Windows 95) AppleWebKit/5342 (KHT...</td>\n",
       "      <td>Burnett Ltd</td>\n",
       "      <td>3158663456056588</td>\n",
       "      <td>07/22</td>\n",
       "      <td>508</td>\n",
       "      <td>Discover</td>\n",
       "      <td>chambersmichael@gmail.com</td>\n",
       "      <td>Retail manager</td>\n",
       "      <td>65.106.61.141</td>\n",
       "      <td>en</td>\n",
       "      <td>33.62</td>\n",
       "    </tr>\n",
       "    <tr>\n",
       "      <th>23</th>\n",
       "      <td>25292 Shepherd Trail Apt. 798\\nRussellmouth, S...</td>\n",
       "      <td>31 pS</td>\n",
       "      <td>PM</td>\n",
       "      <td>Mozilla/5.0 (compatible; MSIE 5.0; Windows 98;...</td>\n",
       "      <td>Cruz Inc</td>\n",
       "      <td>502010078983</td>\n",
       "      <td>02/23</td>\n",
       "      <td>60</td>\n",
       "      <td>VISA 13 digit</td>\n",
       "      <td>ltaylor@gardner-meadows.com</td>\n",
       "      <td>Field seismologist</td>\n",
       "      <td>25.193.145.116</td>\n",
       "      <td>ru</td>\n",
       "      <td>97.97</td>\n",
       "    </tr>\n",
       "    <tr>\n",
       "      <th>24</th>\n",
       "      <td>Unit 3046 Box 3197\\nDPO AE 61496-4172</td>\n",
       "      <td>62 Ac</td>\n",
       "      <td>AM</td>\n",
       "      <td>Mozilla/5.0 (compatible; MSIE 6.0; Windows CE;...</td>\n",
       "      <td>Morris PLC</td>\n",
       "      <td>4749728852401144</td>\n",
       "      <td>07/18</td>\n",
       "      <td>11</td>\n",
       "      <td>JCB 15 digit</td>\n",
       "      <td>james07@yahoo.com</td>\n",
       "      <td>Musician</td>\n",
       "      <td>21.113.231.220</td>\n",
       "      <td>es</td>\n",
       "      <td>85.31</td>\n",
       "    </tr>\n",
       "    <tr>\n",
       "      <th>25</th>\n",
       "      <td>80797 Ryan Trail Apt. 752\\nAaronhaven, MI 0622...</td>\n",
       "      <td>66 SO</td>\n",
       "      <td>PM</td>\n",
       "      <td>Mozilla/5.0 (Macintosh; U; PPC Mac OS X 10_7_1...</td>\n",
       "      <td>Saunders-Mendez</td>\n",
       "      <td>869938033091779</td>\n",
       "      <td>05/19</td>\n",
       "      <td>901</td>\n",
       "      <td>Voyager</td>\n",
       "      <td>madison41@mooney.com</td>\n",
       "      <td>Training and development officer</td>\n",
       "      <td>67.26.186.226</td>\n",
       "      <td>de</td>\n",
       "      <td>6.25</td>\n",
       "    </tr>\n",
       "    <tr>\n",
       "      <th>26</th>\n",
       "      <td>5334 Sheppard Fort\\nNorth Kirsten, ND 71170</td>\n",
       "      <td>40 ND</td>\n",
       "      <td>AM</td>\n",
       "      <td>Mozilla/5.0 (Macintosh; Intel Mac OS X 10_6_3)...</td>\n",
       "      <td>Stephens, Johnson and Combs</td>\n",
       "      <td>60488441233</td>\n",
       "      <td>03/19</td>\n",
       "      <td>70</td>\n",
       "      <td>VISA 13 digit</td>\n",
       "      <td>mlogan@gmail.com</td>\n",
       "      <td>Barrister's clerk</td>\n",
       "      <td>61.197.134.185</td>\n",
       "      <td>en</td>\n",
       "      <td>17.75</td>\n",
       "    </tr>\n",
       "    <tr>\n",
       "      <th>27</th>\n",
       "      <td>5015 Smith Harbors\\nSouth Ashley, OK 81283</td>\n",
       "      <td>34 JQ</td>\n",
       "      <td>PM</td>\n",
       "      <td>Opera/9.75.(Windows NT 6.0; en-US) Presto/2.9....</td>\n",
       "      <td>Levine, Shaw and Jenkins</td>\n",
       "      <td>869948145612941</td>\n",
       "      <td>12/16</td>\n",
       "      <td>310</td>\n",
       "      <td>Diners Club / Carte Blanche</td>\n",
       "      <td>michael35@hotmail.com</td>\n",
       "      <td>Careers adviser</td>\n",
       "      <td>177.220.131.93</td>\n",
       "      <td>es</td>\n",
       "      <td>39.40</td>\n",
       "    </tr>\n",
       "    <tr>\n",
       "      <th>28</th>\n",
       "      <td>50533 Cooper Cliffs\\nNorth Jonathanberg, MD 20482</td>\n",
       "      <td>17 kP</td>\n",
       "      <td>PM</td>\n",
       "      <td>Mozilla/5.0 (Windows; U; Windows NT 6.1) Apple...</td>\n",
       "      <td>Reed Inc</td>\n",
       "      <td>180026477662982</td>\n",
       "      <td>11/24</td>\n",
       "      <td>16</td>\n",
       "      <td>JCB 15 digit</td>\n",
       "      <td>khandeborah@yahoo.com</td>\n",
       "      <td>Scientist, research (life sciences)</td>\n",
       "      <td>142.131.235.225</td>\n",
       "      <td>es</td>\n",
       "      <td>70.75</td>\n",
       "    </tr>\n",
       "    <tr>\n",
       "      <th>29</th>\n",
       "      <td>30755 Joshua Plaza Apt. 567\\nWest Susanton, FM...</td>\n",
       "      <td>93 OP</td>\n",
       "      <td>PM</td>\n",
       "      <td>Mozilla/5.0 (Macintosh; U; PPC Mac OS X 10_6_7...</td>\n",
       "      <td>Goodwin Ltd</td>\n",
       "      <td>4170734785397597</td>\n",
       "      <td>07/22</td>\n",
       "      <td>319</td>\n",
       "      <td>Maestro</td>\n",
       "      <td>stonekaren@yahoo.com</td>\n",
       "      <td>Recycling officer</td>\n",
       "      <td>218.189.145.248</td>\n",
       "      <td>it</td>\n",
       "      <td>82.16</td>\n",
       "    </tr>\n",
       "    <tr>\n",
       "      <th>...</th>\n",
       "      <td>...</td>\n",
       "      <td>...</td>\n",
       "      <td>...</td>\n",
       "      <td>...</td>\n",
       "      <td>...</td>\n",
       "      <td>...</td>\n",
       "      <td>...</td>\n",
       "      <td>...</td>\n",
       "      <td>...</td>\n",
       "      <td>...</td>\n",
       "      <td>...</td>\n",
       "      <td>...</td>\n",
       "      <td>...</td>\n",
       "      <td>...</td>\n",
       "    </tr>\n",
       "    <tr>\n",
       "      <th>9970</th>\n",
       "      <td>0060 Keith Stream\\nWestport, CO 47097</td>\n",
       "      <td>11 nt</td>\n",
       "      <td>PM</td>\n",
       "      <td>Mozilla/5.0 (Macintosh; U; Intel Mac OS X 10_8...</td>\n",
       "      <td>Carpenter, Good and Hart</td>\n",
       "      <td>6011485664704662</td>\n",
       "      <td>07/19</td>\n",
       "      <td>543</td>\n",
       "      <td>Discover</td>\n",
       "      <td>rangelbrian@hotmail.com</td>\n",
       "      <td>Electrical engineer</td>\n",
       "      <td>242.8.85.205</td>\n",
       "      <td>en</td>\n",
       "      <td>17.76</td>\n",
       "    </tr>\n",
       "    <tr>\n",
       "      <th>9971</th>\n",
       "      <td>5806 Martinez Point\\nLake Abigailstad, MD 6183...</td>\n",
       "      <td>07 wl</td>\n",
       "      <td>AM</td>\n",
       "      <td>Mozilla/5.0 (X11; Linux i686) AppleWebKit/5360...</td>\n",
       "      <td>Brewer-Howard</td>\n",
       "      <td>5359660631103048</td>\n",
       "      <td>01/21</td>\n",
       "      <td>586</td>\n",
       "      <td>Voyager</td>\n",
       "      <td>leslierichards@warner.org</td>\n",
       "      <td>Therapist, art</td>\n",
       "      <td>81.2.189.127</td>\n",
       "      <td>de</td>\n",
       "      <td>65.06</td>\n",
       "    </tr>\n",
       "    <tr>\n",
       "      <th>9972</th>\n",
       "      <td>89504 Flynn Overpass Suite 822\\nNew Elijah, WV...</td>\n",
       "      <td>23 eL</td>\n",
       "      <td>AM</td>\n",
       "      <td>Mozilla/5.0 (Windows NT 5.1; en-US; rv:1.9.2.2...</td>\n",
       "      <td>Davis, Wise and Diaz</td>\n",
       "      <td>370589883240776</td>\n",
       "      <td>04/22</td>\n",
       "      <td>748</td>\n",
       "      <td>VISA 13 digit</td>\n",
       "      <td>kellycole@hotmail.com</td>\n",
       "      <td>Sales professional, IT</td>\n",
       "      <td>102.53.225.61</td>\n",
       "      <td>zh</td>\n",
       "      <td>18.10</td>\n",
       "    </tr>\n",
       "    <tr>\n",
       "      <th>9973</th>\n",
       "      <td>92126 Daniel Streets\\nNorth Patricia, IA 10477</td>\n",
       "      <td>04 QN</td>\n",
       "      <td>PM</td>\n",
       "      <td>Mozilla/5.0 (Windows NT 5.2) AppleWebKit/5362 ...</td>\n",
       "      <td>Morrow Inc</td>\n",
       "      <td>501850922854</td>\n",
       "      <td>02/19</td>\n",
       "      <td>2708</td>\n",
       "      <td>American Express</td>\n",
       "      <td>rlewis@yahoo.com</td>\n",
       "      <td>Editor, magazine features</td>\n",
       "      <td>201.88.164.123</td>\n",
       "      <td>en</td>\n",
       "      <td>83.30</td>\n",
       "    </tr>\n",
       "    <tr>\n",
       "      <th>9974</th>\n",
       "      <td>500 Powell Rapid Apt. 114\\nClarkfort, FL 70488</td>\n",
       "      <td>48 is</td>\n",
       "      <td>AM</td>\n",
       "      <td>Mozilla/5.0 (Windows 95) AppleWebKit/5312 (KHT...</td>\n",
       "      <td>Griffin-Lopez</td>\n",
       "      <td>630407297302</td>\n",
       "      <td>04/26</td>\n",
       "      <td>627</td>\n",
       "      <td>VISA 16 digit</td>\n",
       "      <td>paula72@yahoo.com</td>\n",
       "      <td>Sports therapist</td>\n",
       "      <td>166.220.170.176</td>\n",
       "      <td>el</td>\n",
       "      <td>66.45</td>\n",
       "    </tr>\n",
       "    <tr>\n",
       "      <th>9975</th>\n",
       "      <td>5208 Hanson Trail Suite 527\\nSouth Jonathanshi...</td>\n",
       "      <td>67 OX</td>\n",
       "      <td>PM</td>\n",
       "      <td>Mozilla/5.0 (Macintosh; U; PPC Mac OS X 10_7_8...</td>\n",
       "      <td>Bowen-Nelson</td>\n",
       "      <td>5361597780221625</td>\n",
       "      <td>01/19</td>\n",
       "      <td>225</td>\n",
       "      <td>JCB 16 digit</td>\n",
       "      <td>taylordiaz@roman.net</td>\n",
       "      <td>Education officer, museum</td>\n",
       "      <td>114.197.6.210</td>\n",
       "      <td>zh</td>\n",
       "      <td>3.77</td>\n",
       "    </tr>\n",
       "    <tr>\n",
       "      <th>9976</th>\n",
       "      <td>5419 Cruz Island Apt. 033\\nLake Todd, AK 24863...</td>\n",
       "      <td>93 FM</td>\n",
       "      <td>PM</td>\n",
       "      <td>Opera/9.38.(Windows NT 5.01; it-IT) Presto/2.9...</td>\n",
       "      <td>Henderson-Kelley</td>\n",
       "      <td>4458996242274056</td>\n",
       "      <td>08/21</td>\n",
       "      <td>291</td>\n",
       "      <td>VISA 16 digit</td>\n",
       "      <td>pbrown@gmail.com</td>\n",
       "      <td>Furniture designer</td>\n",
       "      <td>109.108.177.2</td>\n",
       "      <td>es</td>\n",
       "      <td>37.73</td>\n",
       "    </tr>\n",
       "    <tr>\n",
       "      <th>9977</th>\n",
       "      <td>02182 Keith Expressway\\nEast Shannon, CT 20578...</td>\n",
       "      <td>34 RL</td>\n",
       "      <td>AM</td>\n",
       "      <td>Mozilla/5.0 (compatible; MSIE 9.0; Windows NT ...</td>\n",
       "      <td>Deleon, Jacobson and Benton</td>\n",
       "      <td>4186094003664688</td>\n",
       "      <td>06/21</td>\n",
       "      <td>397</td>\n",
       "      <td>JCB 16 digit</td>\n",
       "      <td>daltoncarter@yahoo.com</td>\n",
       "      <td>Biomedical engineer</td>\n",
       "      <td>146.238.118.2</td>\n",
       "      <td>fr</td>\n",
       "      <td>94.93</td>\n",
       "    </tr>\n",
       "    <tr>\n",
       "      <th>9978</th>\n",
       "      <td>991 Watts Court\\nSouth Danielstad, IA 39032-8865</td>\n",
       "      <td>66 eb</td>\n",
       "      <td>AM</td>\n",
       "      <td>Mozilla/5.0 (Macintosh; PPC Mac OS X 10_7_3; r...</td>\n",
       "      <td>Perez Group</td>\n",
       "      <td>3088185172584201</td>\n",
       "      <td>11/21</td>\n",
       "      <td>589</td>\n",
       "      <td>Discover</td>\n",
       "      <td>ywhite@hotmail.com</td>\n",
       "      <td>Designer, exhibition/display</td>\n",
       "      <td>232.219.30.162</td>\n",
       "      <td>de</td>\n",
       "      <td>14.49</td>\n",
       "    </tr>\n",
       "    <tr>\n",
       "      <th>9979</th>\n",
       "      <td>00490 Joseph Haven Apt. 149\\nWest Keithfurt, S...</td>\n",
       "      <td>69 XK</td>\n",
       "      <td>PM</td>\n",
       "      <td>Mozilla/5.0 (Windows NT 6.1) AppleWebKit/5311 ...</td>\n",
       "      <td>Randall-Ramirez</td>\n",
       "      <td>346734838013255</td>\n",
       "      <td>10/23</td>\n",
       "      <td>224</td>\n",
       "      <td>JCB 16 digit</td>\n",
       "      <td>qjohnson@yahoo.com</td>\n",
       "      <td>Lawyer</td>\n",
       "      <td>17.76.83.105</td>\n",
       "      <td>en</td>\n",
       "      <td>14.55</td>\n",
       "    </tr>\n",
       "    <tr>\n",
       "      <th>9980</th>\n",
       "      <td>6061 Dave Lights\\nPhillipsview, UT 40500</td>\n",
       "      <td>25 Mv</td>\n",
       "      <td>AM</td>\n",
       "      <td>Opera/8.58.(Windows NT 5.0; it-IT) Presto/2.9....</td>\n",
       "      <td>Cortez-Frye</td>\n",
       "      <td>6011944199756993</td>\n",
       "      <td>12/24</td>\n",
       "      <td>755</td>\n",
       "      <td>JCB 15 digit</td>\n",
       "      <td>mark74@kirby-stewart.org</td>\n",
       "      <td>Textile designer</td>\n",
       "      <td>110.103.77.195</td>\n",
       "      <td>fr</td>\n",
       "      <td>16.05</td>\n",
       "    </tr>\n",
       "    <tr>\n",
       "      <th>9981</th>\n",
       "      <td>087 Larson Roads Apt. 587\\nRicestad, WI 98077-...</td>\n",
       "      <td>95 Kw</td>\n",
       "      <td>AM</td>\n",
       "      <td>Opera/9.63.(Windows NT 5.01; en-US) Presto/2.9...</td>\n",
       "      <td>Ortiz, Schultz and Adams</td>\n",
       "      <td>4690863684605</td>\n",
       "      <td>01/19</td>\n",
       "      <td>695</td>\n",
       "      <td>Mastercard</td>\n",
       "      <td>laurenbennett@richards.com</td>\n",
       "      <td>Environmental education officer</td>\n",
       "      <td>106.21.237.73</td>\n",
       "      <td>pt</td>\n",
       "      <td>63.61</td>\n",
       "    </tr>\n",
       "    <tr>\n",
       "      <th>9982</th>\n",
       "      <td>18044 Mcintosh Row Apt. 122\\nLake Jennifer, NC...</td>\n",
       "      <td>77 uq</td>\n",
       "      <td>PM</td>\n",
       "      <td>Mozilla/5.0 (Macintosh; U; PPC Mac OS X 10_6_0...</td>\n",
       "      <td>Chen LLC</td>\n",
       "      <td>210040992311995</td>\n",
       "      <td>09/18</td>\n",
       "      <td>79</td>\n",
       "      <td>JCB 16 digit</td>\n",
       "      <td>heather24@gmail.com</td>\n",
       "      <td>Restaurant manager</td>\n",
       "      <td>93.254.124.2</td>\n",
       "      <td>it</td>\n",
       "      <td>56.25</td>\n",
       "    </tr>\n",
       "    <tr>\n",
       "      <th>9983</th>\n",
       "      <td>PSC 5678, Box 4503\\nAPO AP 94998-5546</td>\n",
       "      <td>79 cd</td>\n",
       "      <td>AM</td>\n",
       "      <td>Mozilla/5.0 (compatible; MSIE 8.0; Windows NT ...</td>\n",
       "      <td>Hall-Cantu</td>\n",
       "      <td>343856674589081</td>\n",
       "      <td>04/23</td>\n",
       "      <td>206</td>\n",
       "      <td>JCB 16 digit</td>\n",
       "      <td>jacksonmanuel@rodriguez-welch.com</td>\n",
       "      <td>Scientist, research (life sciences)</td>\n",
       "      <td>245.22.66.225</td>\n",
       "      <td>de</td>\n",
       "      <td>47.70</td>\n",
       "    </tr>\n",
       "    <tr>\n",
       "      <th>9984</th>\n",
       "      <td>7560 Boyle Keys\\nAntoniomouth, DC 00522-0367</td>\n",
       "      <td>72 Qb</td>\n",
       "      <td>AM</td>\n",
       "      <td>Mozilla/5.0 (Windows; U; Windows 98; Win 9x 4....</td>\n",
       "      <td>Johnson-Brandt</td>\n",
       "      <td>3088208142188125</td>\n",
       "      <td>03/21</td>\n",
       "      <td>572</td>\n",
       "      <td>Maestro</td>\n",
       "      <td>clee@vasquez-luna.com</td>\n",
       "      <td>Editor, commissioning</td>\n",
       "      <td>140.157.37.218</td>\n",
       "      <td>el</td>\n",
       "      <td>33.57</td>\n",
       "    </tr>\n",
       "    <tr>\n",
       "      <th>9985</th>\n",
       "      <td>7456 Stevens Rest\\nEricside, FL 16389</td>\n",
       "      <td>27 Yv</td>\n",
       "      <td>PM</td>\n",
       "      <td>Mozilla/5.0 (Macintosh; U; Intel Mac OS X 10_7...</td>\n",
       "      <td>Murphy-Cook</td>\n",
       "      <td>6011264939622870</td>\n",
       "      <td>08/21</td>\n",
       "      <td>847</td>\n",
       "      <td>VISA 16 digit</td>\n",
       "      <td>cranejames@white.com</td>\n",
       "      <td>Designer, interior/spatial</td>\n",
       "      <td>188.73.131.92</td>\n",
       "      <td>de</td>\n",
       "      <td>46.33</td>\n",
       "    </tr>\n",
       "    <tr>\n",
       "      <th>9986</th>\n",
       "      <td>2719 Troy Drive Suite 062\\nLisachester, PW 414...</td>\n",
       "      <td>80 Wl</td>\n",
       "      <td>PM</td>\n",
       "      <td>Mozilla/5.0 (Windows NT 5.2; sl-SI; rv:1.9.1.2...</td>\n",
       "      <td>Campbell-Hurley</td>\n",
       "      <td>4220882411745414</td>\n",
       "      <td>08/18</td>\n",
       "      <td>460</td>\n",
       "      <td>JCB 16 digit</td>\n",
       "      <td>belindaleon@schwartz.com</td>\n",
       "      <td>Cabin crew</td>\n",
       "      <td>110.103.102.55</td>\n",
       "      <td>it</td>\n",
       "      <td>22.02</td>\n",
       "    </tr>\n",
       "    <tr>\n",
       "      <th>9987</th>\n",
       "      <td>2754 Klein Mission\\nJohnsonview, PA 64925-9624</td>\n",
       "      <td>65 Fg</td>\n",
       "      <td>PM</td>\n",
       "      <td>Opera/9.26.(Windows CE; sl-SI) Presto/2.9.188 ...</td>\n",
       "      <td>Curtis LLC</td>\n",
       "      <td>180027305702263</td>\n",
       "      <td>12/24</td>\n",
       "      <td>865</td>\n",
       "      <td>Mastercard</td>\n",
       "      <td>denisehamilton@novak.biz</td>\n",
       "      <td>Primary school teacher</td>\n",
       "      <td>164.39.190.217</td>\n",
       "      <td>es</td>\n",
       "      <td>60.83</td>\n",
       "    </tr>\n",
       "    <tr>\n",
       "      <th>9988</th>\n",
       "      <td>0154 Green Forest\\nNew Timothy, IL 33670-4620</td>\n",
       "      <td>11 MC</td>\n",
       "      <td>AM</td>\n",
       "      <td>Mozilla/5.0 (compatible; MSIE 7.0; Windows 98;...</td>\n",
       "      <td>Williams-Walker</td>\n",
       "      <td>4207292109379681</td>\n",
       "      <td>10/16</td>\n",
       "      <td>571</td>\n",
       "      <td>Diners Club / Carte Blanche</td>\n",
       "      <td>hudsonmichael@pace.com</td>\n",
       "      <td>Charity fundraiser</td>\n",
       "      <td>136.169.160.82</td>\n",
       "      <td>de</td>\n",
       "      <td>89.76</td>\n",
       "    </tr>\n",
       "    <tr>\n",
       "      <th>9989</th>\n",
       "      <td>5674 Cruz Trace\\nNew Shelby, KY 51047-5469</td>\n",
       "      <td>12 Kf</td>\n",
       "      <td>AM</td>\n",
       "      <td>Mozilla/5.0 (compatible; MSIE 9.0; Windows NT ...</td>\n",
       "      <td>Vargas, Nichols and Martinez</td>\n",
       "      <td>5278049688438382</td>\n",
       "      <td>12/23</td>\n",
       "      <td>996</td>\n",
       "      <td>VISA 16 digit</td>\n",
       "      <td>walterswilliam@hotmail.com</td>\n",
       "      <td>Community development worker</td>\n",
       "      <td>39.162.164.169</td>\n",
       "      <td>pt</td>\n",
       "      <td>17.18</td>\n",
       "    </tr>\n",
       "    <tr>\n",
       "      <th>9990</th>\n",
       "      <td>75731 Molly Springs\\nWest Danielle, VT 96934-5102</td>\n",
       "      <td>93 ty</td>\n",
       "      <td>PM</td>\n",
       "      <td>Mozilla/5.0 (Macintosh; Intel Mac OS X 10_7_4;...</td>\n",
       "      <td>Pace, Vazquez and Richards</td>\n",
       "      <td>869968197049750</td>\n",
       "      <td>04/24</td>\n",
       "      <td>877</td>\n",
       "      <td>JCB 15 digit</td>\n",
       "      <td>andersonmichael@sherman.biz</td>\n",
       "      <td>Early years teacher</td>\n",
       "      <td>54.170.3.185</td>\n",
       "      <td>ru</td>\n",
       "      <td>18.35</td>\n",
       "    </tr>\n",
       "    <tr>\n",
       "      <th>9991</th>\n",
       "      <td>PSC 8165, Box 8498\\nAPO AP 60327-0346</td>\n",
       "      <td>50 dA</td>\n",
       "      <td>AM</td>\n",
       "      <td>Mozilla/5.0 (compatible; MSIE 8.0; Windows NT ...</td>\n",
       "      <td>Snyder Inc</td>\n",
       "      <td>4221582137197481</td>\n",
       "      <td>02/24</td>\n",
       "      <td>969</td>\n",
       "      <td>Voyager</td>\n",
       "      <td>kking@wise-liu.com</td>\n",
       "      <td>IT sales professional</td>\n",
       "      <td>254.25.31.156</td>\n",
       "      <td>el</td>\n",
       "      <td>25.93</td>\n",
       "    </tr>\n",
       "    <tr>\n",
       "      <th>9992</th>\n",
       "      <td>885 Allen Mountains Apt. 230\\nWallhaven, LA 16995</td>\n",
       "      <td>40 vH</td>\n",
       "      <td>PM</td>\n",
       "      <td>Mozilla/5.0 (Macintosh; PPC Mac OS X 10_6_5) A...</td>\n",
       "      <td>Wells Ltd</td>\n",
       "      <td>4664825258997302</td>\n",
       "      <td>10/20</td>\n",
       "      <td>431</td>\n",
       "      <td>Discover</td>\n",
       "      <td>bberry@wright.net</td>\n",
       "      <td>Set designer</td>\n",
       "      <td>174.173.51.32</td>\n",
       "      <td>de</td>\n",
       "      <td>67.96</td>\n",
       "    </tr>\n",
       "    <tr>\n",
       "      <th>9993</th>\n",
       "      <td>7555 Larson Locks Suite 229\\nEllisburgh, MA 34...</td>\n",
       "      <td>72 jg</td>\n",
       "      <td>PM</td>\n",
       "      <td>Mozilla/5.0 (Macintosh; U; Intel Mac OS X 10_8...</td>\n",
       "      <td>Colon and Sons</td>\n",
       "      <td>30025560104631</td>\n",
       "      <td>10/25</td>\n",
       "      <td>629</td>\n",
       "      <td>Maestro</td>\n",
       "      <td>chelseawilliams@lopez.biz</td>\n",
       "      <td>Designer, exhibition/display</td>\n",
       "      <td>177.46.82.128</td>\n",
       "      <td>el</td>\n",
       "      <td>65.61</td>\n",
       "    </tr>\n",
       "    <tr>\n",
       "      <th>9994</th>\n",
       "      <td>6276 Rojas Hollow\\nLake Louis, WY 56410-7837</td>\n",
       "      <td>93 Ex</td>\n",
       "      <td>PM</td>\n",
       "      <td>Opera/9.68.(X11; Linux x86_64; sl-SI) Presto/2...</td>\n",
       "      <td>Ritter-Smith</td>\n",
       "      <td>3112186784121077</td>\n",
       "      <td>01/25</td>\n",
       "      <td>1823</td>\n",
       "      <td>Maestro</td>\n",
       "      <td>iroberts@gmail.com</td>\n",
       "      <td>Education officer, museum</td>\n",
       "      <td>242.44.112.18</td>\n",
       "      <td>zh</td>\n",
       "      <td>31.85</td>\n",
       "    </tr>\n",
       "    <tr>\n",
       "      <th>9995</th>\n",
       "      <td>966 Castaneda Locks\\nWest Juliafurt, CO 96415</td>\n",
       "      <td>92 XI</td>\n",
       "      <td>PM</td>\n",
       "      <td>Mozilla/5.0 (Windows NT 5.1) AppleWebKit/5352 ...</td>\n",
       "      <td>Randall-Sloan</td>\n",
       "      <td>342945015358701</td>\n",
       "      <td>03/22</td>\n",
       "      <td>838</td>\n",
       "      <td>JCB 15 digit</td>\n",
       "      <td>iscott@wade-garner.com</td>\n",
       "      <td>Printmaker</td>\n",
       "      <td>29.73.197.114</td>\n",
       "      <td>it</td>\n",
       "      <td>82.21</td>\n",
       "    </tr>\n",
       "    <tr>\n",
       "      <th>9996</th>\n",
       "      <td>832 Curtis Dam Suite 785\\nNorth Edwardburgh, T...</td>\n",
       "      <td>41 JY</td>\n",
       "      <td>AM</td>\n",
       "      <td>Mozilla/5.0 (compatible; MSIE 9.0; Windows NT ...</td>\n",
       "      <td>Hale, Collins and Wilson</td>\n",
       "      <td>210033169205009</td>\n",
       "      <td>07/25</td>\n",
       "      <td>207</td>\n",
       "      <td>JCB 16 digit</td>\n",
       "      <td>mary85@hotmail.com</td>\n",
       "      <td>Energy engineer</td>\n",
       "      <td>121.133.168.51</td>\n",
       "      <td>pt</td>\n",
       "      <td>25.63</td>\n",
       "    </tr>\n",
       "    <tr>\n",
       "      <th>9997</th>\n",
       "      <td>Unit 4434 Box 6343\\nDPO AE 28026-0283</td>\n",
       "      <td>74 Zh</td>\n",
       "      <td>AM</td>\n",
       "      <td>Mozilla/5.0 (Macintosh; U; Intel Mac OS X 10_7...</td>\n",
       "      <td>Anderson Ltd</td>\n",
       "      <td>6011539787356311</td>\n",
       "      <td>05/21</td>\n",
       "      <td>1</td>\n",
       "      <td>VISA 16 digit</td>\n",
       "      <td>tyler16@gmail.com</td>\n",
       "      <td>Veterinary surgeon</td>\n",
       "      <td>156.210.0.254</td>\n",
       "      <td>el</td>\n",
       "      <td>83.98</td>\n",
       "    </tr>\n",
       "    <tr>\n",
       "      <th>9998</th>\n",
       "      <td>0096 English Rest\\nRoystad, IA 12457</td>\n",
       "      <td>74 cL</td>\n",
       "      <td>PM</td>\n",
       "      <td>Mozilla/5.0 (Macintosh; Intel Mac OS X 10_8_8;...</td>\n",
       "      <td>Cook Inc</td>\n",
       "      <td>180003348082930</td>\n",
       "      <td>11/17</td>\n",
       "      <td>987</td>\n",
       "      <td>American Express</td>\n",
       "      <td>elizabethmoore@reid.net</td>\n",
       "      <td>Local government officer</td>\n",
       "      <td>55.78.26.143</td>\n",
       "      <td>es</td>\n",
       "      <td>38.84</td>\n",
       "    </tr>\n",
       "    <tr>\n",
       "      <th>9999</th>\n",
       "      <td>40674 Barrett Stravenue\\nGrimesville, WI 79682</td>\n",
       "      <td>64 Hr</td>\n",
       "      <td>AM</td>\n",
       "      <td>Mozilla/5.0 (X11; Linux i686; rv:1.9.5.20) Gec...</td>\n",
       "      <td>Greene Inc</td>\n",
       "      <td>4139972901927273</td>\n",
       "      <td>02/19</td>\n",
       "      <td>302</td>\n",
       "      <td>JCB 15 digit</td>\n",
       "      <td>rachelford@vaughn.com</td>\n",
       "      <td>Embryologist, clinical</td>\n",
       "      <td>176.119.198.199</td>\n",
       "      <td>el</td>\n",
       "      <td>67.59</td>\n",
       "    </tr>\n",
       "  </tbody>\n",
       "</table>\n",
       "<p>10000 rows × 14 columns</p>\n",
       "</div>"
      ],
      "text/plain": [
       "                                                Address    Lot AM or PM  \\\n",
       "0     16629 Pace Camp Apt. 448\\nAlexisborough, NE 77...  46 in       PM   \n",
       "1     9374 Jasmine Spurs Suite 508\\nSouth John, TN 8...  28 rn       PM   \n",
       "2                      Unit 0065 Box 5052\\nDPO AP 27450  94 vE       PM   \n",
       "3                 7780 Julia Fords\\nNew Stacy, WA 45798  36 vm       PM   \n",
       "4     23012 Munoz Drive Suite 337\\nNew Cynthia, TX 5...  20 IE       AM   \n",
       "5     7502 Powell Mission Apt. 768\\nTravisland, VA 3...  21 XT       PM   \n",
       "6        93971 Conway Causeway\\nAndersonburgh, AZ 75107  96 Xt       AM   \n",
       "7     260 Rachel Plains Suite 366\\nCastroberg, WV 24...  96 pG       PM   \n",
       "8               2129 Dylan Burg\\nNew Michelle, ME 28650  45 JN       PM   \n",
       "9       3795 Dawson Extensions\\nLake Tinafort, ID 88739  15 Ug       AM   \n",
       "10        650 Elizabeth Park\\nLake Maria, LA 13526-2530  65 Yn       PM   \n",
       "11               349 Laurie Parks\\nThomasview, ID 08970  30 kK       PM   \n",
       "12      733 Heather Rest Apt. 670\\nBoltonport, UT 78662  69 DO       AM   \n",
       "13    118 Melton Via Suite 681\\nAlexanderbury, FL 32104  36 bu       PM   \n",
       "14    8774 Jason Keys Suite 427\\nEast Scottborough, ...  70 zH       AM   \n",
       "15       31730 Chelsea Crest\\nBlakemouth, CT 90395-0620  41 Cj       PM   \n",
       "16    5283 Thomas Trafficway Suite 343\\nEast Brittne...  31 ho       AM   \n",
       "17    950 Jacqueline Village Apt. 592\\nPort Kimberly...  23 Rh       PM   \n",
       "18    461 Christopher Square\\nWest Michaelchester, C...  17 SB       PM   \n",
       "19                  125 Hall Summit\\nBoothton, IL 41721  99 CU       PM   \n",
       "20        7383 George Village\\nLake Jamesview, CO 79828  23 dk       PM   \n",
       "21    282 Miller Valleys Suite 404\\nWilkinsonbury, M...  24 RZ       AM   \n",
       "22     625 Laura Summit Suite 112\\nShortmouth, AK 97156  45 oa       PM   \n",
       "23    25292 Shepherd Trail Apt. 798\\nRussellmouth, S...  31 pS       PM   \n",
       "24                Unit 3046 Box 3197\\nDPO AE 61496-4172  62 Ac       AM   \n",
       "25    80797 Ryan Trail Apt. 752\\nAaronhaven, MI 0622...  66 SO       PM   \n",
       "26          5334 Sheppard Fort\\nNorth Kirsten, ND 71170  40 ND       AM   \n",
       "27           5015 Smith Harbors\\nSouth Ashley, OK 81283  34 JQ       PM   \n",
       "28    50533 Cooper Cliffs\\nNorth Jonathanberg, MD 20482  17 kP       PM   \n",
       "29    30755 Joshua Plaza Apt. 567\\nWest Susanton, FM...  93 OP       PM   \n",
       "...                                                 ...    ...      ...   \n",
       "9970              0060 Keith Stream\\nWestport, CO 47097  11 nt       PM   \n",
       "9971  5806 Martinez Point\\nLake Abigailstad, MD 6183...  07 wl       AM   \n",
       "9972  89504 Flynn Overpass Suite 822\\nNew Elijah, WV...  23 eL       AM   \n",
       "9973     92126 Daniel Streets\\nNorth Patricia, IA 10477  04 QN       PM   \n",
       "9974     500 Powell Rapid Apt. 114\\nClarkfort, FL 70488  48 is       AM   \n",
       "9975  5208 Hanson Trail Suite 527\\nSouth Jonathanshi...  67 OX       PM   \n",
       "9976  5419 Cruz Island Apt. 033\\nLake Todd, AK 24863...  93 FM       PM   \n",
       "9977  02182 Keith Expressway\\nEast Shannon, CT 20578...  34 RL       AM   \n",
       "9978   991 Watts Court\\nSouth Danielstad, IA 39032-8865  66 eb       AM   \n",
       "9979  00490 Joseph Haven Apt. 149\\nWest Keithfurt, S...  69 XK       PM   \n",
       "9980           6061 Dave Lights\\nPhillipsview, UT 40500  25 Mv       AM   \n",
       "9981  087 Larson Roads Apt. 587\\nRicestad, WI 98077-...  95 Kw       AM   \n",
       "9982  18044 Mcintosh Row Apt. 122\\nLake Jennifer, NC...  77 uq       PM   \n",
       "9983              PSC 5678, Box 4503\\nAPO AP 94998-5546  79 cd       AM   \n",
       "9984       7560 Boyle Keys\\nAntoniomouth, DC 00522-0367  72 Qb       AM   \n",
       "9985              7456 Stevens Rest\\nEricside, FL 16389  27 Yv       PM   \n",
       "9986  2719 Troy Drive Suite 062\\nLisachester, PW 414...  80 Wl       PM   \n",
       "9987     2754 Klein Mission\\nJohnsonview, PA 64925-9624  65 Fg       PM   \n",
       "9988      0154 Green Forest\\nNew Timothy, IL 33670-4620  11 MC       AM   \n",
       "9989         5674 Cruz Trace\\nNew Shelby, KY 51047-5469  12 Kf       AM   \n",
       "9990  75731 Molly Springs\\nWest Danielle, VT 96934-5102  93 ty       PM   \n",
       "9991              PSC 8165, Box 8498\\nAPO AP 60327-0346  50 dA       AM   \n",
       "9992  885 Allen Mountains Apt. 230\\nWallhaven, LA 16995  40 vH       PM   \n",
       "9993  7555 Larson Locks Suite 229\\nEllisburgh, MA 34...  72 jg       PM   \n",
       "9994       6276 Rojas Hollow\\nLake Louis, WY 56410-7837  93 Ex       PM   \n",
       "9995      966 Castaneda Locks\\nWest Juliafurt, CO 96415  92 XI       PM   \n",
       "9996  832 Curtis Dam Suite 785\\nNorth Edwardburgh, T...  41 JY       AM   \n",
       "9997              Unit 4434 Box 6343\\nDPO AE 28026-0283  74 Zh       AM   \n",
       "9998               0096 English Rest\\nRoystad, IA 12457  74 cL       PM   \n",
       "9999     40674 Barrett Stravenue\\nGrimesville, WI 79682  64 Hr       AM   \n",
       "\n",
       "                                           Browser Info  \\\n",
       "0     Opera/9.56.(X11; Linux x86_64; sl-SI) Presto/2...   \n",
       "1     Opera/8.93.(Windows 98; Win 9x 4.90; en-US) Pr...   \n",
       "2     Mozilla/5.0 (compatible; MSIE 9.0; Windows NT ...   \n",
       "3     Mozilla/5.0 (Macintosh; Intel Mac OS X 10_8_0 ...   \n",
       "4     Opera/9.58.(X11; Linux x86_64; it-IT) Presto/2...   \n",
       "5     Mozilla/5.0 (Macintosh; U; PPC Mac OS X 10_8_5...   \n",
       "6     Mozilla/5.0 (compatible; MSIE 7.0; Windows NT ...   \n",
       "7     Mozilla/5.0 (X11; Linux i686) AppleWebKit/5350...   \n",
       "8     Mozilla/5.0 (Macintosh; U; Intel Mac OS X 10_7...   \n",
       "9     Mozilla/5.0 (X11; Linux i686; rv:1.9.7.20) Gec...   \n",
       "10    Mozilla/5.0 (iPod; U; CPU iPhone OS 4_1 like M...   \n",
       "11    Mozilla/5.0 (X11; Linux i686; rv:1.9.6.20) Gec...   \n",
       "12    Mozilla/5.0 (Macintosh; Intel Mac OS X 10_5_3 ...   \n",
       "13    Mozilla/5.0 (Macintosh; U; Intel Mac OS X 10_8...   \n",
       "14    Mozilla/5.0 (Windows 98; it-IT; rv:1.9.2.20) G...   \n",
       "15    Opera/8.95.(Windows NT 5.0; en-US) Presto/2.9....   \n",
       "16    Opera/9.73.(Windows NT 6.2; sl-SI) Presto/2.9....   \n",
       "17    Mozilla/5.0 (compatible; MSIE 9.0; Windows NT ...   \n",
       "18    Mozilla/5.0 (X11; Linux i686; rv:1.9.6.20) Gec...   \n",
       "19    Mozilla/5.0 (compatible; MSIE 7.0; Windows NT ...   \n",
       "20    Mozilla/5.0 (Windows; U; Windows NT 4.0) Apple...   \n",
       "21    Mozilla/5.0 (compatible; MSIE 6.0; Windows NT ...   \n",
       "22    Mozilla/5.0 (Windows 95) AppleWebKit/5342 (KHT...   \n",
       "23    Mozilla/5.0 (compatible; MSIE 5.0; Windows 98;...   \n",
       "24    Mozilla/5.0 (compatible; MSIE 6.0; Windows CE;...   \n",
       "25    Mozilla/5.0 (Macintosh; U; PPC Mac OS X 10_7_1...   \n",
       "26    Mozilla/5.0 (Macintosh; Intel Mac OS X 10_6_3)...   \n",
       "27    Opera/9.75.(Windows NT 6.0; en-US) Presto/2.9....   \n",
       "28    Mozilla/5.0 (Windows; U; Windows NT 6.1) Apple...   \n",
       "29    Mozilla/5.0 (Macintosh; U; PPC Mac OS X 10_6_7...   \n",
       "...                                                 ...   \n",
       "9970  Mozilla/5.0 (Macintosh; U; Intel Mac OS X 10_8...   \n",
       "9971  Mozilla/5.0 (X11; Linux i686) AppleWebKit/5360...   \n",
       "9972  Mozilla/5.0 (Windows NT 5.1; en-US; rv:1.9.2.2...   \n",
       "9973  Mozilla/5.0 (Windows NT 5.2) AppleWebKit/5362 ...   \n",
       "9974  Mozilla/5.0 (Windows 95) AppleWebKit/5312 (KHT...   \n",
       "9975  Mozilla/5.0 (Macintosh; U; PPC Mac OS X 10_7_8...   \n",
       "9976  Opera/9.38.(Windows NT 5.01; it-IT) Presto/2.9...   \n",
       "9977  Mozilla/5.0 (compatible; MSIE 9.0; Windows NT ...   \n",
       "9978  Mozilla/5.0 (Macintosh; PPC Mac OS X 10_7_3; r...   \n",
       "9979  Mozilla/5.0 (Windows NT 6.1) AppleWebKit/5311 ...   \n",
       "9980  Opera/8.58.(Windows NT 5.0; it-IT) Presto/2.9....   \n",
       "9981  Opera/9.63.(Windows NT 5.01; en-US) Presto/2.9...   \n",
       "9982  Mozilla/5.0 (Macintosh; U; PPC Mac OS X 10_6_0...   \n",
       "9983  Mozilla/5.0 (compatible; MSIE 8.0; Windows NT ...   \n",
       "9984  Mozilla/5.0 (Windows; U; Windows 98; Win 9x 4....   \n",
       "9985  Mozilla/5.0 (Macintosh; U; Intel Mac OS X 10_7...   \n",
       "9986  Mozilla/5.0 (Windows NT 5.2; sl-SI; rv:1.9.1.2...   \n",
       "9987  Opera/9.26.(Windows CE; sl-SI) Presto/2.9.188 ...   \n",
       "9988  Mozilla/5.0 (compatible; MSIE 7.0; Windows 98;...   \n",
       "9989  Mozilla/5.0 (compatible; MSIE 9.0; Windows NT ...   \n",
       "9990  Mozilla/5.0 (Macintosh; Intel Mac OS X 10_7_4;...   \n",
       "9991  Mozilla/5.0 (compatible; MSIE 8.0; Windows NT ...   \n",
       "9992  Mozilla/5.0 (Macintosh; PPC Mac OS X 10_6_5) A...   \n",
       "9993  Mozilla/5.0 (Macintosh; U; Intel Mac OS X 10_8...   \n",
       "9994  Opera/9.68.(X11; Linux x86_64; sl-SI) Presto/2...   \n",
       "9995  Mozilla/5.0 (Windows NT 5.1) AppleWebKit/5352 ...   \n",
       "9996  Mozilla/5.0 (compatible; MSIE 9.0; Windows NT ...   \n",
       "9997  Mozilla/5.0 (Macintosh; U; Intel Mac OS X 10_7...   \n",
       "9998  Mozilla/5.0 (Macintosh; Intel Mac OS X 10_8_8;...   \n",
       "9999  Mozilla/5.0 (X11; Linux i686; rv:1.9.5.20) Gec...   \n",
       "\n",
       "                               Company       Credit Card CC Exp Date  \\\n",
       "0                      Martinez-Herman  6011929061123406       02/20   \n",
       "1      Fletcher, Richards and Whitaker  3337758169645356       11/18   \n",
       "2           Simpson, Williams and Pham      675957666125       08/19   \n",
       "3      Williams, Marshall and Buchanan  6011578504430710       02/24   \n",
       "4            Brown, Watson and Andrews  6011456623207998       10/25   \n",
       "5                       Silva-Anderson    30246185196287       07/25   \n",
       "6                      Gibson and Sons  6011398782655569       07/24   \n",
       "7                     Marshall-Collins      561252141909       06/25   \n",
       "8                    Galloway and Sons   180041795790001       04/24   \n",
       "9         Rivera, Buchanan and Ramirez     4396283918371       01/17   \n",
       "10    Strickland, Michael and Gonzales   180036417827355       02/17   \n",
       "11                          Kim-Oliver   869975209012056       06/26   \n",
       "12                        Moore-Martin  5115990487067905       05/26   \n",
       "13                          Keller PLC  4603635169938574       01/25   \n",
       "14            Leach, Howe and Ferguson   869967499275071       09/22   \n",
       "15                       Garcia-Steele   180069437020404       04/25   \n",
       "16     Stanton, Villanueva and Swanson      676121145525       06/22   \n",
       "17       Fernandez, Melton and Gilbert  3337515540944084       01/26   \n",
       "18              Beard, Abbott and Pena  6011350184276270       12/22   \n",
       "19                     Turner-Mckinney      676343504830       02/20   \n",
       "20          Santana, Montes and Pierce  6011833038852776       03/22   \n",
       "21                        Guzman-Reese  5491255326230898       03/25   \n",
       "22                         Burnett Ltd  3158663456056588       07/22   \n",
       "23                            Cruz Inc      502010078983       02/23   \n",
       "24                          Morris PLC  4749728852401144       07/18   \n",
       "25                     Saunders-Mendez   869938033091779       05/19   \n",
       "26         Stephens, Johnson and Combs       60488441233       03/19   \n",
       "27            Levine, Shaw and Jenkins   869948145612941       12/16   \n",
       "28                            Reed Inc   180026477662982       11/24   \n",
       "29                         Goodwin Ltd  4170734785397597       07/22   \n",
       "...                                ...               ...         ...   \n",
       "9970          Carpenter, Good and Hart  6011485664704662       07/19   \n",
       "9971                     Brewer-Howard  5359660631103048       01/21   \n",
       "9972              Davis, Wise and Diaz   370589883240776       04/22   \n",
       "9973                        Morrow Inc      501850922854       02/19   \n",
       "9974                     Griffin-Lopez      630407297302       04/26   \n",
       "9975                      Bowen-Nelson  5361597780221625       01/19   \n",
       "9976                  Henderson-Kelley  4458996242274056       08/21   \n",
       "9977       Deleon, Jacobson and Benton  4186094003664688       06/21   \n",
       "9978                       Perez Group  3088185172584201       11/21   \n",
       "9979                   Randall-Ramirez   346734838013255       10/23   \n",
       "9980                       Cortez-Frye  6011944199756993       12/24   \n",
       "9981          Ortiz, Schultz and Adams     4690863684605       01/19   \n",
       "9982                          Chen LLC   210040992311995       09/18   \n",
       "9983                        Hall-Cantu   343856674589081       04/23   \n",
       "9984                    Johnson-Brandt  3088208142188125       03/21   \n",
       "9985                       Murphy-Cook  6011264939622870       08/21   \n",
       "9986                   Campbell-Hurley  4220882411745414       08/18   \n",
       "9987                        Curtis LLC   180027305702263       12/24   \n",
       "9988                   Williams-Walker  4207292109379681       10/16   \n",
       "9989      Vargas, Nichols and Martinez  5278049688438382       12/23   \n",
       "9990        Pace, Vazquez and Richards   869968197049750       04/24   \n",
       "9991                        Snyder Inc  4221582137197481       02/24   \n",
       "9992                         Wells Ltd  4664825258997302       10/20   \n",
       "9993                    Colon and Sons    30025560104631       10/25   \n",
       "9994                      Ritter-Smith  3112186784121077       01/25   \n",
       "9995                     Randall-Sloan   342945015358701       03/22   \n",
       "9996          Hale, Collins and Wilson   210033169205009       07/25   \n",
       "9997                      Anderson Ltd  6011539787356311       05/21   \n",
       "9998                          Cook Inc   180003348082930       11/17   \n",
       "9999                        Greene Inc  4139972901927273       02/19   \n",
       "\n",
       "      CC Security Code                  CC Provider  \\\n",
       "0                  900                 JCB 16 digit   \n",
       "1                  561                   Mastercard   \n",
       "2                  699                 JCB 16 digit   \n",
       "3                  384                     Discover   \n",
       "4                  678  Diners Club / Carte Blanche   \n",
       "5                 7169                     Discover   \n",
       "6                  714                VISA 16 digit   \n",
       "7                  256                VISA 13 digit   \n",
       "8                  899                 JCB 16 digit   \n",
       "9                  931             American Express   \n",
       "10                 754                      Voyager   \n",
       "11                9717                 JCB 15 digit   \n",
       "12                 119                VISA 16 digit   \n",
       "13                 557                VISA 16 digit   \n",
       "14                 427                VISA 16 digit   \n",
       "15                 404  Diners Club / Carte Blanche   \n",
       "16                 285  Diners Club / Carte Blanche   \n",
       "17                 771             American Express   \n",
       "18                 767                   Mastercard   \n",
       "19                 440                VISA 16 digit   \n",
       "20                 740                      Maestro   \n",
       "21                 506                 JCB 16 digit   \n",
       "22                 508                     Discover   \n",
       "23                  60                VISA 13 digit   \n",
       "24                  11                 JCB 15 digit   \n",
       "25                 901                      Voyager   \n",
       "26                  70                VISA 13 digit   \n",
       "27                 310  Diners Club / Carte Blanche   \n",
       "28                  16                 JCB 15 digit   \n",
       "29                 319                      Maestro   \n",
       "...                ...                          ...   \n",
       "9970               543                     Discover   \n",
       "9971               586                      Voyager   \n",
       "9972               748                VISA 13 digit   \n",
       "9973              2708             American Express   \n",
       "9974               627                VISA 16 digit   \n",
       "9975               225                 JCB 16 digit   \n",
       "9976               291                VISA 16 digit   \n",
       "9977               397                 JCB 16 digit   \n",
       "9978               589                     Discover   \n",
       "9979               224                 JCB 16 digit   \n",
       "9980               755                 JCB 15 digit   \n",
       "9981               695                   Mastercard   \n",
       "9982                79                 JCB 16 digit   \n",
       "9983               206                 JCB 16 digit   \n",
       "9984               572                      Maestro   \n",
       "9985               847                VISA 16 digit   \n",
       "9986               460                 JCB 16 digit   \n",
       "9987               865                   Mastercard   \n",
       "9988               571  Diners Club / Carte Blanche   \n",
       "9989               996                VISA 16 digit   \n",
       "9990               877                 JCB 15 digit   \n",
       "9991               969                      Voyager   \n",
       "9992               431                     Discover   \n",
       "9993               629                      Maestro   \n",
       "9994              1823                      Maestro   \n",
       "9995               838                 JCB 15 digit   \n",
       "9996               207                 JCB 16 digit   \n",
       "9997                 1                VISA 16 digit   \n",
       "9998               987             American Express   \n",
       "9999               302                 JCB 15 digit   \n",
       "\n",
       "                                  Email  \\\n",
       "0                     pdunlap@yahoo.com   \n",
       "1                    anthony41@reed.com   \n",
       "2        amymiller@morales-harrison.com   \n",
       "3           brent16@olson-robinson.info   \n",
       "4           christopherwright@gmail.com   \n",
       "5                     ynguyen@gmail.com   \n",
       "6                    olivia04@yahoo.com   \n",
       "7                  phillip48@parks.info   \n",
       "8                  kdavis@rasmussen.com   \n",
       "9              qcoleman@hunt-huerta.com   \n",
       "10                 ustewart@hotmail.com   \n",
       "11             johnnymiller@coleman.com   \n",
       "12                    tholt@hotmail.com   \n",
       "13                  caitlin57@yahoo.com   \n",
       "14                     aburns@yahoo.com   \n",
       "15                   amanda39@yahoo.com   \n",
       "16          griffincatherine@wilson.com   \n",
       "17               stacymitchell@hall.com   \n",
       "18                   hannah63@yahoo.com   \n",
       "19                 ruiznicole@gmail.com   \n",
       "20               zstephenson@smith.info   \n",
       "21                   rsmith@hotmail.com   \n",
       "22            chambersmichael@gmail.com   \n",
       "23          ltaylor@gardner-meadows.com   \n",
       "24                    james07@yahoo.com   \n",
       "25                 madison41@mooney.com   \n",
       "26                     mlogan@gmail.com   \n",
       "27                michael35@hotmail.com   \n",
       "28                khandeborah@yahoo.com   \n",
       "29                 stonekaren@yahoo.com   \n",
       "...                                 ...   \n",
       "9970            rangelbrian@hotmail.com   \n",
       "9971          leslierichards@warner.org   \n",
       "9972              kellycole@hotmail.com   \n",
       "9973                   rlewis@yahoo.com   \n",
       "9974                  paula72@yahoo.com   \n",
       "9975               taylordiaz@roman.net   \n",
       "9976                   pbrown@gmail.com   \n",
       "9977             daltoncarter@yahoo.com   \n",
       "9978                 ywhite@hotmail.com   \n",
       "9979                 qjohnson@yahoo.com   \n",
       "9980           mark74@kirby-stewart.org   \n",
       "9981         laurenbennett@richards.com   \n",
       "9982                heather24@gmail.com   \n",
       "9983  jacksonmanuel@rodriguez-welch.com   \n",
       "9984              clee@vasquez-luna.com   \n",
       "9985               cranejames@white.com   \n",
       "9986           belindaleon@schwartz.com   \n",
       "9987           denisehamilton@novak.biz   \n",
       "9988             hudsonmichael@pace.com   \n",
       "9989         walterswilliam@hotmail.com   \n",
       "9990        andersonmichael@sherman.biz   \n",
       "9991                 kking@wise-liu.com   \n",
       "9992                  bberry@wright.net   \n",
       "9993          chelseawilliams@lopez.biz   \n",
       "9994                 iroberts@gmail.com   \n",
       "9995             iscott@wade-garner.com   \n",
       "9996                 mary85@hotmail.com   \n",
       "9997                  tyler16@gmail.com   \n",
       "9998            elizabethmoore@reid.net   \n",
       "9999              rachelford@vaughn.com   \n",
       "\n",
       "                                         Job       IP Address Language  \\\n",
       "0     Scientist, product/process development  149.146.147.205       el   \n",
       "1                          Drilling engineer     15.160.41.51       fr   \n",
       "2                   Customer service manager   132.207.160.22       de   \n",
       "3                          Drilling engineer     30.250.74.19       es   \n",
       "4                                Fine artist     24.140.33.94       es   \n",
       "5                          Fish farm manager    55.96.152.147       ru   \n",
       "6                                     Dancer   127.252.144.18       de   \n",
       "7                            Event organiser   224.247.97.150       pt   \n",
       "8                          Financial manager  146.234.201.229       ru   \n",
       "9                         Forensic scientist    236.198.199.8       zh   \n",
       "10             Development worker, community       26.59.93.1       el   \n",
       "11                   Diagnostic radiographer   128.222.40.234       en   \n",
       "12                        Surveyor, quantity   236.71.234.240       en   \n",
       "13      Accountant, chartered public finance     84.212.92.11       it   \n",
       "14                             Acupuncturist      50.25.148.1       de   \n",
       "15                            Retail manager    53.176.235.33       el   \n",
       "16                            Therapist, art     8.145.170.52       de   \n",
       "17                       Designer, jewellery    223.25.125.61       el   \n",
       "18                              Photographer   73.250.176.201       el   \n",
       "19                Designer, interior/spatial   25.105.209.214       fr   \n",
       "20                  Public relations officer    250.71.54.180       de   \n",
       "21                   Presenter, broadcasting    125.58.66.253       it   \n",
       "22                            Retail manager    65.106.61.141       en   \n",
       "23                        Field seismologist   25.193.145.116       ru   \n",
       "24                                  Musician   21.113.231.220       es   \n",
       "25          Training and development officer    67.26.186.226       de   \n",
       "26                         Barrister's clerk   61.197.134.185       en   \n",
       "27                           Careers adviser   177.220.131.93       es   \n",
       "28       Scientist, research (life sciences)  142.131.235.225       es   \n",
       "29                         Recycling officer  218.189.145.248       it   \n",
       "...                                      ...              ...      ...   \n",
       "9970                     Electrical engineer     242.8.85.205       en   \n",
       "9971                          Therapist, art     81.2.189.127       de   \n",
       "9972                  Sales professional, IT    102.53.225.61       zh   \n",
       "9973               Editor, magazine features   201.88.164.123       en   \n",
       "9974                        Sports therapist  166.220.170.176       el   \n",
       "9975               Education officer, museum    114.197.6.210       zh   \n",
       "9976                      Furniture designer    109.108.177.2       es   \n",
       "9977                     Biomedical engineer    146.238.118.2       fr   \n",
       "9978            Designer, exhibition/display   232.219.30.162       de   \n",
       "9979                                  Lawyer     17.76.83.105       en   \n",
       "9980                        Textile designer   110.103.77.195       fr   \n",
       "9981         Environmental education officer    106.21.237.73       pt   \n",
       "9982                      Restaurant manager     93.254.124.2       it   \n",
       "9983     Scientist, research (life sciences)    245.22.66.225       de   \n",
       "9984                   Editor, commissioning   140.157.37.218       el   \n",
       "9985              Designer, interior/spatial    188.73.131.92       de   \n",
       "9986                              Cabin crew   110.103.102.55       it   \n",
       "9987                  Primary school teacher   164.39.190.217       es   \n",
       "9988                      Charity fundraiser   136.169.160.82       de   \n",
       "9989            Community development worker   39.162.164.169       pt   \n",
       "9990                     Early years teacher     54.170.3.185       ru   \n",
       "9991                   IT sales professional    254.25.31.156       el   \n",
       "9992                            Set designer    174.173.51.32       de   \n",
       "9993            Designer, exhibition/display    177.46.82.128       el   \n",
       "9994               Education officer, museum    242.44.112.18       zh   \n",
       "9995                              Printmaker    29.73.197.114       it   \n",
       "9996                         Energy engineer   121.133.168.51       pt   \n",
       "9997                      Veterinary surgeon    156.210.0.254       el   \n",
       "9998                Local government officer     55.78.26.143       es   \n",
       "9999                  Embryologist, clinical  176.119.198.199       el   \n",
       "\n",
       "      Purchase Price  \n",
       "0              98.14  \n",
       "1              70.73  \n",
       "2               0.95  \n",
       "3              78.04  \n",
       "4              77.82  \n",
       "5              25.15  \n",
       "6              88.56  \n",
       "7              44.25  \n",
       "8              59.54  \n",
       "9              95.63  \n",
       "10             96.89  \n",
       "11             19.26  \n",
       "12             39.65  \n",
       "13              8.93  \n",
       "14             24.18  \n",
       "15             71.78  \n",
       "16             84.44  \n",
       "17             58.68  \n",
       "18             70.15  \n",
       "19             58.39  \n",
       "20             30.33  \n",
       "21             90.93  \n",
       "22             33.62  \n",
       "23             97.97  \n",
       "24             85.31  \n",
       "25              6.25  \n",
       "26             17.75  \n",
       "27             39.40  \n",
       "28             70.75  \n",
       "29             82.16  \n",
       "...              ...  \n",
       "9970           17.76  \n",
       "9971           65.06  \n",
       "9972           18.10  \n",
       "9973           83.30  \n",
       "9974           66.45  \n",
       "9975            3.77  \n",
       "9976           37.73  \n",
       "9977           94.93  \n",
       "9978           14.49  \n",
       "9979           14.55  \n",
       "9980           16.05  \n",
       "9981           63.61  \n",
       "9982           56.25  \n",
       "9983           47.70  \n",
       "9984           33.57  \n",
       "9985           46.33  \n",
       "9986           22.02  \n",
       "9987           60.83  \n",
       "9988           89.76  \n",
       "9989           17.18  \n",
       "9990           18.35  \n",
       "9991           25.93  \n",
       "9992           67.96  \n",
       "9993           65.61  \n",
       "9994           31.85  \n",
       "9995           82.21  \n",
       "9996           25.63  \n",
       "9997           83.98  \n",
       "9998           38.84  \n",
       "9999           67.59  \n",
       "\n",
       "[10000 rows x 14 columns]"
      ]
     },
     "execution_count": 90,
     "metadata": {},
     "output_type": "execute_result"
    }
   ],
   "source": [
    "dp1=pd.read_csv('Ecommerce Purchases')\n",
    "dp1"
   ]
  },
  {
   "cell_type": "code",
   "execution_count": 83,
   "metadata": {},
   "outputs": [],
   "source": [
    "data = {'Company':['GOOG','GOOG','MSFT','MSFT','FB','FB'],\n",
    "'Person':['Sam','Charlie','Amy','Vanessa','Carl','Sarah'],\n",
    "'Sales':[200,120,340,124,243,350]}"
   ]
  },
  {
   "cell_type": "code",
   "execution_count": 84,
   "metadata": {},
   "outputs": [],
   "source": [
    "dp=pd.DataFrame(data)"
   ]
  },
  {
   "cell_type": "code",
   "execution_count": 85,
   "metadata": {},
   "outputs": [
    {
     "data": {
      "text/html": [
       "<div>\n",
       "<style scoped>\n",
       "    .dataframe tbody tr th:only-of-type {\n",
       "        vertical-align: middle;\n",
       "    }\n",
       "\n",
       "    .dataframe tbody tr th {\n",
       "        vertical-align: top;\n",
       "    }\n",
       "\n",
       "    .dataframe thead th {\n",
       "        text-align: right;\n",
       "    }\n",
       "</style>\n",
       "<table border=\"1\" class=\"dataframe\">\n",
       "  <thead>\n",
       "    <tr style=\"text-align: right;\">\n",
       "      <th></th>\n",
       "      <th>Company</th>\n",
       "      <th>Person</th>\n",
       "      <th>Sales</th>\n",
       "    </tr>\n",
       "  </thead>\n",
       "  <tbody>\n",
       "    <tr>\n",
       "      <th>0</th>\n",
       "      <td>GOOG</td>\n",
       "      <td>Sam</td>\n",
       "      <td>200</td>\n",
       "    </tr>\n",
       "    <tr>\n",
       "      <th>1</th>\n",
       "      <td>GOOG</td>\n",
       "      <td>Charlie</td>\n",
       "      <td>120</td>\n",
       "    </tr>\n",
       "    <tr>\n",
       "      <th>2</th>\n",
       "      <td>MSFT</td>\n",
       "      <td>Amy</td>\n",
       "      <td>340</td>\n",
       "    </tr>\n",
       "    <tr>\n",
       "      <th>3</th>\n",
       "      <td>MSFT</td>\n",
       "      <td>Vanessa</td>\n",
       "      <td>124</td>\n",
       "    </tr>\n",
       "    <tr>\n",
       "      <th>4</th>\n",
       "      <td>FB</td>\n",
       "      <td>Carl</td>\n",
       "      <td>243</td>\n",
       "    </tr>\n",
       "    <tr>\n",
       "      <th>5</th>\n",
       "      <td>FB</td>\n",
       "      <td>Sarah</td>\n",
       "      <td>350</td>\n",
       "    </tr>\n",
       "  </tbody>\n",
       "</table>\n",
       "</div>"
      ],
      "text/plain": [
       "  Company   Person  Sales\n",
       "0    GOOG      Sam    200\n",
       "1    GOOG  Charlie    120\n",
       "2    MSFT      Amy    340\n",
       "3    MSFT  Vanessa    124\n",
       "4      FB     Carl    243\n",
       "5      FB    Sarah    350"
      ]
     },
     "execution_count": 85,
     "metadata": {},
     "output_type": "execute_result"
    }
   ],
   "source": [
    "dp"
   ]
  },
  {
   "cell_type": "code",
   "execution_count": 86,
   "metadata": {},
   "outputs": [
    {
     "data": {
      "text/plain": [
       "<pandas.core.groupby.groupby.DataFrameGroupBy object at 0x000002E2CA4B19E8>"
      ]
     },
     "execution_count": 86,
     "metadata": {},
     "output_type": "execute_result"
    }
   ],
   "source": [
    "dp.groupby('Company')\n"
   ]
  },
  {
   "cell_type": "code",
   "execution_count": 87,
   "metadata": {},
   "outputs": [
    {
     "data": {
      "text/html": [
       "<div>\n",
       "<style scoped>\n",
       "    .dataframe tbody tr th:only-of-type {\n",
       "        vertical-align: middle;\n",
       "    }\n",
       "\n",
       "    .dataframe tbody tr th {\n",
       "        vertical-align: top;\n",
       "    }\n",
       "\n",
       "    .dataframe thead th {\n",
       "        text-align: right;\n",
       "    }\n",
       "</style>\n",
       "<table border=\"1\" class=\"dataframe\">\n",
       "  <thead>\n",
       "    <tr style=\"text-align: right;\">\n",
       "      <th></th>\n",
       "      <th>Sales</th>\n",
       "    </tr>\n",
       "    <tr>\n",
       "      <th>Company</th>\n",
       "      <th></th>\n",
       "    </tr>\n",
       "  </thead>\n",
       "  <tbody>\n",
       "    <tr>\n",
       "      <th>FB</th>\n",
       "      <td>296.5</td>\n",
       "    </tr>\n",
       "    <tr>\n",
       "      <th>GOOG</th>\n",
       "      <td>160.0</td>\n",
       "    </tr>\n",
       "    <tr>\n",
       "      <th>MSFT</th>\n",
       "      <td>232.0</td>\n",
       "    </tr>\n",
       "  </tbody>\n",
       "</table>\n",
       "</div>"
      ],
      "text/plain": [
       "         Sales\n",
       "Company       \n",
       "FB       296.5\n",
       "GOOG     160.0\n",
       "MSFT     232.0"
      ]
     },
     "execution_count": 87,
     "metadata": {},
     "output_type": "execute_result"
    }
   ],
   "source": [
    "dp.groupby('Company').mean()"
   ]
  },
  {
   "cell_type": "code",
   "execution_count": 88,
   "metadata": {},
   "outputs": [
    {
     "ename": "NameError",
     "evalue": "name 'by_com' is not defined",
     "output_type": "error",
     "traceback": [
      "\u001b[1;31m---------------------------------------------------------------------------\u001b[0m",
      "\u001b[1;31mNameError\u001b[0m                                 Traceback (most recent call last)",
      "\u001b[1;32m<ipython-input-88-b3bf144cf57a>\u001b[0m in \u001b[0;36m<module>\u001b[1;34m()\u001b[0m\n\u001b[1;32m----> 1\u001b[1;33m \u001b[0mby_com\u001b[0m\u001b[1;33m.\u001b[0m\u001b[0mdescribe\u001b[0m\u001b[1;33m(\u001b[0m\u001b[1;33m)\u001b[0m\u001b[1;33m\u001b[0m\u001b[0m\n\u001b[0m",
      "\u001b[1;31mNameError\u001b[0m: name 'by_com' is not defined"
     ]
    }
   ],
   "source": [
    "by_com.describe()"
   ]
  },
  {
   "cell_type": "code",
   "execution_count": 91,
   "metadata": {},
   "outputs": [
    {
     "data": {
      "text/html": [
       "<div>\n",
       "<style scoped>\n",
       "    .dataframe tbody tr th:only-of-type {\n",
       "        vertical-align: middle;\n",
       "    }\n",
       "\n",
       "    .dataframe tbody tr th {\n",
       "        vertical-align: top;\n",
       "    }\n",
       "\n",
       "    .dataframe thead th {\n",
       "        text-align: right;\n",
       "    }\n",
       "</style>\n",
       "<table border=\"1\" class=\"dataframe\">\n",
       "  <thead>\n",
       "    <tr style=\"text-align: right;\">\n",
       "      <th></th>\n",
       "      <th>Credit Card</th>\n",
       "      <th>CC Security Code</th>\n",
       "      <th>Purchase Price</th>\n",
       "    </tr>\n",
       "  </thead>\n",
       "  <tbody>\n",
       "    <tr>\n",
       "      <th>count</th>\n",
       "      <td>1.000000e+04</td>\n",
       "      <td>10000.000000</td>\n",
       "      <td>10000.000000</td>\n",
       "    </tr>\n",
       "    <tr>\n",
       "      <th>mean</th>\n",
       "      <td>2.341374e+15</td>\n",
       "      <td>907.217800</td>\n",
       "      <td>50.347302</td>\n",
       "    </tr>\n",
       "    <tr>\n",
       "      <th>std</th>\n",
       "      <td>2.256103e+15</td>\n",
       "      <td>1589.693035</td>\n",
       "      <td>29.015836</td>\n",
       "    </tr>\n",
       "    <tr>\n",
       "      <th>min</th>\n",
       "      <td>6.040186e+10</td>\n",
       "      <td>0.000000</td>\n",
       "      <td>0.000000</td>\n",
       "    </tr>\n",
       "    <tr>\n",
       "      <th>25%</th>\n",
       "      <td>3.056322e+13</td>\n",
       "      <td>280.000000</td>\n",
       "      <td>25.150000</td>\n",
       "    </tr>\n",
       "    <tr>\n",
       "      <th>50%</th>\n",
       "      <td>8.699942e+14</td>\n",
       "      <td>548.000000</td>\n",
       "      <td>50.505000</td>\n",
       "    </tr>\n",
       "    <tr>\n",
       "      <th>75%</th>\n",
       "      <td>4.492298e+15</td>\n",
       "      <td>816.000000</td>\n",
       "      <td>75.770000</td>\n",
       "    </tr>\n",
       "    <tr>\n",
       "      <th>max</th>\n",
       "      <td>6.012000e+15</td>\n",
       "      <td>9993.000000</td>\n",
       "      <td>99.990000</td>\n",
       "    </tr>\n",
       "  </tbody>\n",
       "</table>\n",
       "</div>"
      ],
      "text/plain": [
       "        Credit Card  CC Security Code  Purchase Price\n",
       "count  1.000000e+04      10000.000000    10000.000000\n",
       "mean   2.341374e+15        907.217800       50.347302\n",
       "std    2.256103e+15       1589.693035       29.015836\n",
       "min    6.040186e+10          0.000000        0.000000\n",
       "25%    3.056322e+13        280.000000       25.150000\n",
       "50%    8.699942e+14        548.000000       50.505000\n",
       "75%    4.492298e+15        816.000000       75.770000\n",
       "max    6.012000e+15       9993.000000       99.990000"
      ]
     },
     "execution_count": 91,
     "metadata": {},
     "output_type": "execute_result"
    }
   ],
   "source": [
    "  dp1.describe()"
   ]
  },
  {
   "cell_type": "code",
   "execution_count": 92,
   "metadata": {},
   "outputs": [
    {
     "data": {
      "text/plain": [
       "50.34730200000025"
      ]
     },
     "execution_count": 92,
     "metadata": {},
     "output_type": "execute_result"
    }
   ],
   "source": [
    "dp1['Purchase Price'].mean()"
   ]
  },
  {
   "cell_type": "code",
   "execution_count": 93,
   "metadata": {},
   "outputs": [
    {
     "data": {
      "text/plain": [
       "99.99"
      ]
     },
     "execution_count": 93,
     "metadata": {},
     "output_type": "execute_result"
    }
   ],
   "source": [
    "dp1['Purchase Price'].max()"
   ]
  },
  {
   "cell_type": "code",
   "execution_count": 94,
   "metadata": {},
   "outputs": [
    {
     "data": {
      "text/plain": [
       "<bound method DataFrame.info of                                                 Address    Lot AM or PM  \\\n",
       "0     16629 Pace Camp Apt. 448\\nAlexisborough, NE 77...  46 in       PM   \n",
       "1     9374 Jasmine Spurs Suite 508\\nSouth John, TN 8...  28 rn       PM   \n",
       "2                      Unit 0065 Box 5052\\nDPO AP 27450  94 vE       PM   \n",
       "3                 7780 Julia Fords\\nNew Stacy, WA 45798  36 vm       PM   \n",
       "4     23012 Munoz Drive Suite 337\\nNew Cynthia, TX 5...  20 IE       AM   \n",
       "5     7502 Powell Mission Apt. 768\\nTravisland, VA 3...  21 XT       PM   \n",
       "6        93971 Conway Causeway\\nAndersonburgh, AZ 75107  96 Xt       AM   \n",
       "7     260 Rachel Plains Suite 366\\nCastroberg, WV 24...  96 pG       PM   \n",
       "8               2129 Dylan Burg\\nNew Michelle, ME 28650  45 JN       PM   \n",
       "9       3795 Dawson Extensions\\nLake Tinafort, ID 88739  15 Ug       AM   \n",
       "10        650 Elizabeth Park\\nLake Maria, LA 13526-2530  65 Yn       PM   \n",
       "11               349 Laurie Parks\\nThomasview, ID 08970  30 kK       PM   \n",
       "12      733 Heather Rest Apt. 670\\nBoltonport, UT 78662  69 DO       AM   \n",
       "13    118 Melton Via Suite 681\\nAlexanderbury, FL 32104  36 bu       PM   \n",
       "14    8774 Jason Keys Suite 427\\nEast Scottborough, ...  70 zH       AM   \n",
       "15       31730 Chelsea Crest\\nBlakemouth, CT 90395-0620  41 Cj       PM   \n",
       "16    5283 Thomas Trafficway Suite 343\\nEast Brittne...  31 ho       AM   \n",
       "17    950 Jacqueline Village Apt. 592\\nPort Kimberly...  23 Rh       PM   \n",
       "18    461 Christopher Square\\nWest Michaelchester, C...  17 SB       PM   \n",
       "19                  125 Hall Summit\\nBoothton, IL 41721  99 CU       PM   \n",
       "20        7383 George Village\\nLake Jamesview, CO 79828  23 dk       PM   \n",
       "21    282 Miller Valleys Suite 404\\nWilkinsonbury, M...  24 RZ       AM   \n",
       "22     625 Laura Summit Suite 112\\nShortmouth, AK 97156  45 oa       PM   \n",
       "23    25292 Shepherd Trail Apt. 798\\nRussellmouth, S...  31 pS       PM   \n",
       "24                Unit 3046 Box 3197\\nDPO AE 61496-4172  62 Ac       AM   \n",
       "25    80797 Ryan Trail Apt. 752\\nAaronhaven, MI 0622...  66 SO       PM   \n",
       "26          5334 Sheppard Fort\\nNorth Kirsten, ND 71170  40 ND       AM   \n",
       "27           5015 Smith Harbors\\nSouth Ashley, OK 81283  34 JQ       PM   \n",
       "28    50533 Cooper Cliffs\\nNorth Jonathanberg, MD 20482  17 kP       PM   \n",
       "29    30755 Joshua Plaza Apt. 567\\nWest Susanton, FM...  93 OP       PM   \n",
       "...                                                 ...    ...      ...   \n",
       "9970              0060 Keith Stream\\nWestport, CO 47097  11 nt       PM   \n",
       "9971  5806 Martinez Point\\nLake Abigailstad, MD 6183...  07 wl       AM   \n",
       "9972  89504 Flynn Overpass Suite 822\\nNew Elijah, WV...  23 eL       AM   \n",
       "9973     92126 Daniel Streets\\nNorth Patricia, IA 10477  04 QN       PM   \n",
       "9974     500 Powell Rapid Apt. 114\\nClarkfort, FL 70488  48 is       AM   \n",
       "9975  5208 Hanson Trail Suite 527\\nSouth Jonathanshi...  67 OX       PM   \n",
       "9976  5419 Cruz Island Apt. 033\\nLake Todd, AK 24863...  93 FM       PM   \n",
       "9977  02182 Keith Expressway\\nEast Shannon, CT 20578...  34 RL       AM   \n",
       "9978   991 Watts Court\\nSouth Danielstad, IA 39032-8865  66 eb       AM   \n",
       "9979  00490 Joseph Haven Apt. 149\\nWest Keithfurt, S...  69 XK       PM   \n",
       "9980           6061 Dave Lights\\nPhillipsview, UT 40500  25 Mv       AM   \n",
       "9981  087 Larson Roads Apt. 587\\nRicestad, WI 98077-...  95 Kw       AM   \n",
       "9982  18044 Mcintosh Row Apt. 122\\nLake Jennifer, NC...  77 uq       PM   \n",
       "9983              PSC 5678, Box 4503\\nAPO AP 94998-5546  79 cd       AM   \n",
       "9984       7560 Boyle Keys\\nAntoniomouth, DC 00522-0367  72 Qb       AM   \n",
       "9985              7456 Stevens Rest\\nEricside, FL 16389  27 Yv       PM   \n",
       "9986  2719 Troy Drive Suite 062\\nLisachester, PW 414...  80 Wl       PM   \n",
       "9987     2754 Klein Mission\\nJohnsonview, PA 64925-9624  65 Fg       PM   \n",
       "9988      0154 Green Forest\\nNew Timothy, IL 33670-4620  11 MC       AM   \n",
       "9989         5674 Cruz Trace\\nNew Shelby, KY 51047-5469  12 Kf       AM   \n",
       "9990  75731 Molly Springs\\nWest Danielle, VT 96934-5102  93 ty       PM   \n",
       "9991              PSC 8165, Box 8498\\nAPO AP 60327-0346  50 dA       AM   \n",
       "9992  885 Allen Mountains Apt. 230\\nWallhaven, LA 16995  40 vH       PM   \n",
       "9993  7555 Larson Locks Suite 229\\nEllisburgh, MA 34...  72 jg       PM   \n",
       "9994       6276 Rojas Hollow\\nLake Louis, WY 56410-7837  93 Ex       PM   \n",
       "9995      966 Castaneda Locks\\nWest Juliafurt, CO 96415  92 XI       PM   \n",
       "9996  832 Curtis Dam Suite 785\\nNorth Edwardburgh, T...  41 JY       AM   \n",
       "9997              Unit 4434 Box 6343\\nDPO AE 28026-0283  74 Zh       AM   \n",
       "9998               0096 English Rest\\nRoystad, IA 12457  74 cL       PM   \n",
       "9999     40674 Barrett Stravenue\\nGrimesville, WI 79682  64 Hr       AM   \n",
       "\n",
       "                                           Browser Info  \\\n",
       "0     Opera/9.56.(X11; Linux x86_64; sl-SI) Presto/2...   \n",
       "1     Opera/8.93.(Windows 98; Win 9x 4.90; en-US) Pr...   \n",
       "2     Mozilla/5.0 (compatible; MSIE 9.0; Windows NT ...   \n",
       "3     Mozilla/5.0 (Macintosh; Intel Mac OS X 10_8_0 ...   \n",
       "4     Opera/9.58.(X11; Linux x86_64; it-IT) Presto/2...   \n",
       "5     Mozilla/5.0 (Macintosh; U; PPC Mac OS X 10_8_5...   \n",
       "6     Mozilla/5.0 (compatible; MSIE 7.0; Windows NT ...   \n",
       "7     Mozilla/5.0 (X11; Linux i686) AppleWebKit/5350...   \n",
       "8     Mozilla/5.0 (Macintosh; U; Intel Mac OS X 10_7...   \n",
       "9     Mozilla/5.0 (X11; Linux i686; rv:1.9.7.20) Gec...   \n",
       "10    Mozilla/5.0 (iPod; U; CPU iPhone OS 4_1 like M...   \n",
       "11    Mozilla/5.0 (X11; Linux i686; rv:1.9.6.20) Gec...   \n",
       "12    Mozilla/5.0 (Macintosh; Intel Mac OS X 10_5_3 ...   \n",
       "13    Mozilla/5.0 (Macintosh; U; Intel Mac OS X 10_8...   \n",
       "14    Mozilla/5.0 (Windows 98; it-IT; rv:1.9.2.20) G...   \n",
       "15    Opera/8.95.(Windows NT 5.0; en-US) Presto/2.9....   \n",
       "16    Opera/9.73.(Windows NT 6.2; sl-SI) Presto/2.9....   \n",
       "17    Mozilla/5.0 (compatible; MSIE 9.0; Windows NT ...   \n",
       "18    Mozilla/5.0 (X11; Linux i686; rv:1.9.6.20) Gec...   \n",
       "19    Mozilla/5.0 (compatible; MSIE 7.0; Windows NT ...   \n",
       "20    Mozilla/5.0 (Windows; U; Windows NT 4.0) Apple...   \n",
       "21    Mozilla/5.0 (compatible; MSIE 6.0; Windows NT ...   \n",
       "22    Mozilla/5.0 (Windows 95) AppleWebKit/5342 (KHT...   \n",
       "23    Mozilla/5.0 (compatible; MSIE 5.0; Windows 98;...   \n",
       "24    Mozilla/5.0 (compatible; MSIE 6.0; Windows CE;...   \n",
       "25    Mozilla/5.0 (Macintosh; U; PPC Mac OS X 10_7_1...   \n",
       "26    Mozilla/5.0 (Macintosh; Intel Mac OS X 10_6_3)...   \n",
       "27    Opera/9.75.(Windows NT 6.0; en-US) Presto/2.9....   \n",
       "28    Mozilla/5.0 (Windows; U; Windows NT 6.1) Apple...   \n",
       "29    Mozilla/5.0 (Macintosh; U; PPC Mac OS X 10_6_7...   \n",
       "...                                                 ...   \n",
       "9970  Mozilla/5.0 (Macintosh; U; Intel Mac OS X 10_8...   \n",
       "9971  Mozilla/5.0 (X11; Linux i686) AppleWebKit/5360...   \n",
       "9972  Mozilla/5.0 (Windows NT 5.1; en-US; rv:1.9.2.2...   \n",
       "9973  Mozilla/5.0 (Windows NT 5.2) AppleWebKit/5362 ...   \n",
       "9974  Mozilla/5.0 (Windows 95) AppleWebKit/5312 (KHT...   \n",
       "9975  Mozilla/5.0 (Macintosh; U; PPC Mac OS X 10_7_8...   \n",
       "9976  Opera/9.38.(Windows NT 5.01; it-IT) Presto/2.9...   \n",
       "9977  Mozilla/5.0 (compatible; MSIE 9.0; Windows NT ...   \n",
       "9978  Mozilla/5.0 (Macintosh; PPC Mac OS X 10_7_3; r...   \n",
       "9979  Mozilla/5.0 (Windows NT 6.1) AppleWebKit/5311 ...   \n",
       "9980  Opera/8.58.(Windows NT 5.0; it-IT) Presto/2.9....   \n",
       "9981  Opera/9.63.(Windows NT 5.01; en-US) Presto/2.9...   \n",
       "9982  Mozilla/5.0 (Macintosh; U; PPC Mac OS X 10_6_0...   \n",
       "9983  Mozilla/5.0 (compatible; MSIE 8.0; Windows NT ...   \n",
       "9984  Mozilla/5.0 (Windows; U; Windows 98; Win 9x 4....   \n",
       "9985  Mozilla/5.0 (Macintosh; U; Intel Mac OS X 10_7...   \n",
       "9986  Mozilla/5.0 (Windows NT 5.2; sl-SI; rv:1.9.1.2...   \n",
       "9987  Opera/9.26.(Windows CE; sl-SI) Presto/2.9.188 ...   \n",
       "9988  Mozilla/5.0 (compatible; MSIE 7.0; Windows 98;...   \n",
       "9989  Mozilla/5.0 (compatible; MSIE 9.0; Windows NT ...   \n",
       "9990  Mozilla/5.0 (Macintosh; Intel Mac OS X 10_7_4;...   \n",
       "9991  Mozilla/5.0 (compatible; MSIE 8.0; Windows NT ...   \n",
       "9992  Mozilla/5.0 (Macintosh; PPC Mac OS X 10_6_5) A...   \n",
       "9993  Mozilla/5.0 (Macintosh; U; Intel Mac OS X 10_8...   \n",
       "9994  Opera/9.68.(X11; Linux x86_64; sl-SI) Presto/2...   \n",
       "9995  Mozilla/5.0 (Windows NT 5.1) AppleWebKit/5352 ...   \n",
       "9996  Mozilla/5.0 (compatible; MSIE 9.0; Windows NT ...   \n",
       "9997  Mozilla/5.0 (Macintosh; U; Intel Mac OS X 10_7...   \n",
       "9998  Mozilla/5.0 (Macintosh; Intel Mac OS X 10_8_8;...   \n",
       "9999  Mozilla/5.0 (X11; Linux i686; rv:1.9.5.20) Gec...   \n",
       "\n",
       "                               Company       Credit Card CC Exp Date  \\\n",
       "0                      Martinez-Herman  6011929061123406       02/20   \n",
       "1      Fletcher, Richards and Whitaker  3337758169645356       11/18   \n",
       "2           Simpson, Williams and Pham      675957666125       08/19   \n",
       "3      Williams, Marshall and Buchanan  6011578504430710       02/24   \n",
       "4            Brown, Watson and Andrews  6011456623207998       10/25   \n",
       "5                       Silva-Anderson    30246185196287       07/25   \n",
       "6                      Gibson and Sons  6011398782655569       07/24   \n",
       "7                     Marshall-Collins      561252141909       06/25   \n",
       "8                    Galloway and Sons   180041795790001       04/24   \n",
       "9         Rivera, Buchanan and Ramirez     4396283918371       01/17   \n",
       "10    Strickland, Michael and Gonzales   180036417827355       02/17   \n",
       "11                          Kim-Oliver   869975209012056       06/26   \n",
       "12                        Moore-Martin  5115990487067905       05/26   \n",
       "13                          Keller PLC  4603635169938574       01/25   \n",
       "14            Leach, Howe and Ferguson   869967499275071       09/22   \n",
       "15                       Garcia-Steele   180069437020404       04/25   \n",
       "16     Stanton, Villanueva and Swanson      676121145525       06/22   \n",
       "17       Fernandez, Melton and Gilbert  3337515540944084       01/26   \n",
       "18              Beard, Abbott and Pena  6011350184276270       12/22   \n",
       "19                     Turner-Mckinney      676343504830       02/20   \n",
       "20          Santana, Montes and Pierce  6011833038852776       03/22   \n",
       "21                        Guzman-Reese  5491255326230898       03/25   \n",
       "22                         Burnett Ltd  3158663456056588       07/22   \n",
       "23                            Cruz Inc      502010078983       02/23   \n",
       "24                          Morris PLC  4749728852401144       07/18   \n",
       "25                     Saunders-Mendez   869938033091779       05/19   \n",
       "26         Stephens, Johnson and Combs       60488441233       03/19   \n",
       "27            Levine, Shaw and Jenkins   869948145612941       12/16   \n",
       "28                            Reed Inc   180026477662982       11/24   \n",
       "29                         Goodwin Ltd  4170734785397597       07/22   \n",
       "...                                ...               ...         ...   \n",
       "9970          Carpenter, Good and Hart  6011485664704662       07/19   \n",
       "9971                     Brewer-Howard  5359660631103048       01/21   \n",
       "9972              Davis, Wise and Diaz   370589883240776       04/22   \n",
       "9973                        Morrow Inc      501850922854       02/19   \n",
       "9974                     Griffin-Lopez      630407297302       04/26   \n",
       "9975                      Bowen-Nelson  5361597780221625       01/19   \n",
       "9976                  Henderson-Kelley  4458996242274056       08/21   \n",
       "9977       Deleon, Jacobson and Benton  4186094003664688       06/21   \n",
       "9978                       Perez Group  3088185172584201       11/21   \n",
       "9979                   Randall-Ramirez   346734838013255       10/23   \n",
       "9980                       Cortez-Frye  6011944199756993       12/24   \n",
       "9981          Ortiz, Schultz and Adams     4690863684605       01/19   \n",
       "9982                          Chen LLC   210040992311995       09/18   \n",
       "9983                        Hall-Cantu   343856674589081       04/23   \n",
       "9984                    Johnson-Brandt  3088208142188125       03/21   \n",
       "9985                       Murphy-Cook  6011264939622870       08/21   \n",
       "9986                   Campbell-Hurley  4220882411745414       08/18   \n",
       "9987                        Curtis LLC   180027305702263       12/24   \n",
       "9988                   Williams-Walker  4207292109379681       10/16   \n",
       "9989      Vargas, Nichols and Martinez  5278049688438382       12/23   \n",
       "9990        Pace, Vazquez and Richards   869968197049750       04/24   \n",
       "9991                        Snyder Inc  4221582137197481       02/24   \n",
       "9992                         Wells Ltd  4664825258997302       10/20   \n",
       "9993                    Colon and Sons    30025560104631       10/25   \n",
       "9994                      Ritter-Smith  3112186784121077       01/25   \n",
       "9995                     Randall-Sloan   342945015358701       03/22   \n",
       "9996          Hale, Collins and Wilson   210033169205009       07/25   \n",
       "9997                      Anderson Ltd  6011539787356311       05/21   \n",
       "9998                          Cook Inc   180003348082930       11/17   \n",
       "9999                        Greene Inc  4139972901927273       02/19   \n",
       "\n",
       "      CC Security Code                  CC Provider  \\\n",
       "0                  900                 JCB 16 digit   \n",
       "1                  561                   Mastercard   \n",
       "2                  699                 JCB 16 digit   \n",
       "3                  384                     Discover   \n",
       "4                  678  Diners Club / Carte Blanche   \n",
       "5                 7169                     Discover   \n",
       "6                  714                VISA 16 digit   \n",
       "7                  256                VISA 13 digit   \n",
       "8                  899                 JCB 16 digit   \n",
       "9                  931             American Express   \n",
       "10                 754                      Voyager   \n",
       "11                9717                 JCB 15 digit   \n",
       "12                 119                VISA 16 digit   \n",
       "13                 557                VISA 16 digit   \n",
       "14                 427                VISA 16 digit   \n",
       "15                 404  Diners Club / Carte Blanche   \n",
       "16                 285  Diners Club / Carte Blanche   \n",
       "17                 771             American Express   \n",
       "18                 767                   Mastercard   \n",
       "19                 440                VISA 16 digit   \n",
       "20                 740                      Maestro   \n",
       "21                 506                 JCB 16 digit   \n",
       "22                 508                     Discover   \n",
       "23                  60                VISA 13 digit   \n",
       "24                  11                 JCB 15 digit   \n",
       "25                 901                      Voyager   \n",
       "26                  70                VISA 13 digit   \n",
       "27                 310  Diners Club / Carte Blanche   \n",
       "28                  16                 JCB 15 digit   \n",
       "29                 319                      Maestro   \n",
       "...                ...                          ...   \n",
       "9970               543                     Discover   \n",
       "9971               586                      Voyager   \n",
       "9972               748                VISA 13 digit   \n",
       "9973              2708             American Express   \n",
       "9974               627                VISA 16 digit   \n",
       "9975               225                 JCB 16 digit   \n",
       "9976               291                VISA 16 digit   \n",
       "9977               397                 JCB 16 digit   \n",
       "9978               589                     Discover   \n",
       "9979               224                 JCB 16 digit   \n",
       "9980               755                 JCB 15 digit   \n",
       "9981               695                   Mastercard   \n",
       "9982                79                 JCB 16 digit   \n",
       "9983               206                 JCB 16 digit   \n",
       "9984               572                      Maestro   \n",
       "9985               847                VISA 16 digit   \n",
       "9986               460                 JCB 16 digit   \n",
       "9987               865                   Mastercard   \n",
       "9988               571  Diners Club / Carte Blanche   \n",
       "9989               996                VISA 16 digit   \n",
       "9990               877                 JCB 15 digit   \n",
       "9991               969                      Voyager   \n",
       "9992               431                     Discover   \n",
       "9993               629                      Maestro   \n",
       "9994              1823                      Maestro   \n",
       "9995               838                 JCB 15 digit   \n",
       "9996               207                 JCB 16 digit   \n",
       "9997                 1                VISA 16 digit   \n",
       "9998               987             American Express   \n",
       "9999               302                 JCB 15 digit   \n",
       "\n",
       "                                  Email  \\\n",
       "0                     pdunlap@yahoo.com   \n",
       "1                    anthony41@reed.com   \n",
       "2        amymiller@morales-harrison.com   \n",
       "3           brent16@olson-robinson.info   \n",
       "4           christopherwright@gmail.com   \n",
       "5                     ynguyen@gmail.com   \n",
       "6                    olivia04@yahoo.com   \n",
       "7                  phillip48@parks.info   \n",
       "8                  kdavis@rasmussen.com   \n",
       "9              qcoleman@hunt-huerta.com   \n",
       "10                 ustewart@hotmail.com   \n",
       "11             johnnymiller@coleman.com   \n",
       "12                    tholt@hotmail.com   \n",
       "13                  caitlin57@yahoo.com   \n",
       "14                     aburns@yahoo.com   \n",
       "15                   amanda39@yahoo.com   \n",
       "16          griffincatherine@wilson.com   \n",
       "17               stacymitchell@hall.com   \n",
       "18                   hannah63@yahoo.com   \n",
       "19                 ruiznicole@gmail.com   \n",
       "20               zstephenson@smith.info   \n",
       "21                   rsmith@hotmail.com   \n",
       "22            chambersmichael@gmail.com   \n",
       "23          ltaylor@gardner-meadows.com   \n",
       "24                    james07@yahoo.com   \n",
       "25                 madison41@mooney.com   \n",
       "26                     mlogan@gmail.com   \n",
       "27                michael35@hotmail.com   \n",
       "28                khandeborah@yahoo.com   \n",
       "29                 stonekaren@yahoo.com   \n",
       "...                                 ...   \n",
       "9970            rangelbrian@hotmail.com   \n",
       "9971          leslierichards@warner.org   \n",
       "9972              kellycole@hotmail.com   \n",
       "9973                   rlewis@yahoo.com   \n",
       "9974                  paula72@yahoo.com   \n",
       "9975               taylordiaz@roman.net   \n",
       "9976                   pbrown@gmail.com   \n",
       "9977             daltoncarter@yahoo.com   \n",
       "9978                 ywhite@hotmail.com   \n",
       "9979                 qjohnson@yahoo.com   \n",
       "9980           mark74@kirby-stewart.org   \n",
       "9981         laurenbennett@richards.com   \n",
       "9982                heather24@gmail.com   \n",
       "9983  jacksonmanuel@rodriguez-welch.com   \n",
       "9984              clee@vasquez-luna.com   \n",
       "9985               cranejames@white.com   \n",
       "9986           belindaleon@schwartz.com   \n",
       "9987           denisehamilton@novak.biz   \n",
       "9988             hudsonmichael@pace.com   \n",
       "9989         walterswilliam@hotmail.com   \n",
       "9990        andersonmichael@sherman.biz   \n",
       "9991                 kking@wise-liu.com   \n",
       "9992                  bberry@wright.net   \n",
       "9993          chelseawilliams@lopez.biz   \n",
       "9994                 iroberts@gmail.com   \n",
       "9995             iscott@wade-garner.com   \n",
       "9996                 mary85@hotmail.com   \n",
       "9997                  tyler16@gmail.com   \n",
       "9998            elizabethmoore@reid.net   \n",
       "9999              rachelford@vaughn.com   \n",
       "\n",
       "                                         Job       IP Address Language  \\\n",
       "0     Scientist, product/process development  149.146.147.205       el   \n",
       "1                          Drilling engineer     15.160.41.51       fr   \n",
       "2                   Customer service manager   132.207.160.22       de   \n",
       "3                          Drilling engineer     30.250.74.19       es   \n",
       "4                                Fine artist     24.140.33.94       es   \n",
       "5                          Fish farm manager    55.96.152.147       ru   \n",
       "6                                     Dancer   127.252.144.18       de   \n",
       "7                            Event organiser   224.247.97.150       pt   \n",
       "8                          Financial manager  146.234.201.229       ru   \n",
       "9                         Forensic scientist    236.198.199.8       zh   \n",
       "10             Development worker, community       26.59.93.1       el   \n",
       "11                   Diagnostic radiographer   128.222.40.234       en   \n",
       "12                        Surveyor, quantity   236.71.234.240       en   \n",
       "13      Accountant, chartered public finance     84.212.92.11       it   \n",
       "14                             Acupuncturist      50.25.148.1       de   \n",
       "15                            Retail manager    53.176.235.33       el   \n",
       "16                            Therapist, art     8.145.170.52       de   \n",
       "17                       Designer, jewellery    223.25.125.61       el   \n",
       "18                              Photographer   73.250.176.201       el   \n",
       "19                Designer, interior/spatial   25.105.209.214       fr   \n",
       "20                  Public relations officer    250.71.54.180       de   \n",
       "21                   Presenter, broadcasting    125.58.66.253       it   \n",
       "22                            Retail manager    65.106.61.141       en   \n",
       "23                        Field seismologist   25.193.145.116       ru   \n",
       "24                                  Musician   21.113.231.220       es   \n",
       "25          Training and development officer    67.26.186.226       de   \n",
       "26                         Barrister's clerk   61.197.134.185       en   \n",
       "27                           Careers adviser   177.220.131.93       es   \n",
       "28       Scientist, research (life sciences)  142.131.235.225       es   \n",
       "29                         Recycling officer  218.189.145.248       it   \n",
       "...                                      ...              ...      ...   \n",
       "9970                     Electrical engineer     242.8.85.205       en   \n",
       "9971                          Therapist, art     81.2.189.127       de   \n",
       "9972                  Sales professional, IT    102.53.225.61       zh   \n",
       "9973               Editor, magazine features   201.88.164.123       en   \n",
       "9974                        Sports therapist  166.220.170.176       el   \n",
       "9975               Education officer, museum    114.197.6.210       zh   \n",
       "9976                      Furniture designer    109.108.177.2       es   \n",
       "9977                     Biomedical engineer    146.238.118.2       fr   \n",
       "9978            Designer, exhibition/display   232.219.30.162       de   \n",
       "9979                                  Lawyer     17.76.83.105       en   \n",
       "9980                        Textile designer   110.103.77.195       fr   \n",
       "9981         Environmental education officer    106.21.237.73       pt   \n",
       "9982                      Restaurant manager     93.254.124.2       it   \n",
       "9983     Scientist, research (life sciences)    245.22.66.225       de   \n",
       "9984                   Editor, commissioning   140.157.37.218       el   \n",
       "9985              Designer, interior/spatial    188.73.131.92       de   \n",
       "9986                              Cabin crew   110.103.102.55       it   \n",
       "9987                  Primary school teacher   164.39.190.217       es   \n",
       "9988                      Charity fundraiser   136.169.160.82       de   \n",
       "9989            Community development worker   39.162.164.169       pt   \n",
       "9990                     Early years teacher     54.170.3.185       ru   \n",
       "9991                   IT sales professional    254.25.31.156       el   \n",
       "9992                            Set designer    174.173.51.32       de   \n",
       "9993            Designer, exhibition/display    177.46.82.128       el   \n",
       "9994               Education officer, museum    242.44.112.18       zh   \n",
       "9995                              Printmaker    29.73.197.114       it   \n",
       "9996                         Energy engineer   121.133.168.51       pt   \n",
       "9997                      Veterinary surgeon    156.210.0.254       el   \n",
       "9998                Local government officer     55.78.26.143       es   \n",
       "9999                  Embryologist, clinical  176.119.198.199       el   \n",
       "\n",
       "      Purchase Price  \n",
       "0              98.14  \n",
       "1              70.73  \n",
       "2               0.95  \n",
       "3              78.04  \n",
       "4              77.82  \n",
       "5              25.15  \n",
       "6              88.56  \n",
       "7              44.25  \n",
       "8              59.54  \n",
       "9              95.63  \n",
       "10             96.89  \n",
       "11             19.26  \n",
       "12             39.65  \n",
       "13              8.93  \n",
       "14             24.18  \n",
       "15             71.78  \n",
       "16             84.44  \n",
       "17             58.68  \n",
       "18             70.15  \n",
       "19             58.39  \n",
       "20             30.33  \n",
       "21             90.93  \n",
       "22             33.62  \n",
       "23             97.97  \n",
       "24             85.31  \n",
       "25              6.25  \n",
       "26             17.75  \n",
       "27             39.40  \n",
       "28             70.75  \n",
       "29             82.16  \n",
       "...              ...  \n",
       "9970           17.76  \n",
       "9971           65.06  \n",
       "9972           18.10  \n",
       "9973           83.30  \n",
       "9974           66.45  \n",
       "9975            3.77  \n",
       "9976           37.73  \n",
       "9977           94.93  \n",
       "9978           14.49  \n",
       "9979           14.55  \n",
       "9980           16.05  \n",
       "9981           63.61  \n",
       "9982           56.25  \n",
       "9983           47.70  \n",
       "9984           33.57  \n",
       "9985           46.33  \n",
       "9986           22.02  \n",
       "9987           60.83  \n",
       "9988           89.76  \n",
       "9989           17.18  \n",
       "9990           18.35  \n",
       "9991           25.93  \n",
       "9992           67.96  \n",
       "9993           65.61  \n",
       "9994           31.85  \n",
       "9995           82.21  \n",
       "9996           25.63  \n",
       "9997           83.98  \n",
       "9998           38.84  \n",
       "9999           67.59  \n",
       "\n",
       "[10000 rows x 14 columns]>"
      ]
     },
     "execution_count": 94,
     "metadata": {},
     "output_type": "execute_result"
    }
   ],
   "source": [
    "dp1.info"
   ]
  },
  {
   "cell_type": "code",
   "execution_count": 95,
   "metadata": {},
   "outputs": [
    {
     "data": {
      "text/plain": [
       "Address             0\n",
       "Lot                 0\n",
       "AM or PM            0\n",
       "Browser Info        0\n",
       "Company             0\n",
       "Credit Card         0\n",
       "CC Exp Date         0\n",
       "CC Security Code    0\n",
       "CC Provider         0\n",
       "Email               0\n",
       "Job                 0\n",
       "IP Address          0\n",
       "Language            0\n",
       "Purchase Price      0\n",
       "dtype: int64"
      ]
     },
     "execution_count": 95,
     "metadata": {},
     "output_type": "execute_result"
    }
   ],
   "source": [
    "dp1[dp1['Language']=='e1'].count()"
   ]
  },
  {
   "cell_type": "code",
   "execution_count": 97,
   "metadata": {},
   "outputs": [
    {
     "data": {
      "text/plain": [
       "PM    5068\n",
       "AM    4932\n",
       "Name: AM or PM, dtype: int64"
      ]
     },
     "execution_count": 97,
     "metadata": {},
     "output_type": "execute_result"
    }
   ],
   "source": [
    "dp1['AM or PM'].value_counts()"
   ]
  },
  {
   "cell_type": "code",
   "execution_count": 98,
   "metadata": {},
   "outputs": [
    {
     "data": {
      "text/plain": [
       "1234    bondellen@williams-garza.com\n",
       "Name: Email, dtype: object"
      ]
     },
     "execution_count": 98,
     "metadata": {},
     "output_type": "execute_result"
    }
   ],
   "source": [
    "dp1[dp1['Credit Card']== 4926535242672853]['Email']"
   ]
  },
  {
   "cell_type": "code",
   "execution_count": 4,
   "metadata": {},
   "outputs": [],
   "source": [
    "import numpy as np\n"
   ]
  },
  {
   "cell_type": "code",
   "execution_count": 5,
   "metadata": {},
   "outputs": [],
   "source": [
    "import pandas as pd"
   ]
  },
  {
   "cell_type": "markdown",
   "metadata": {},
   "source": [
    "dp2=pd.DataFrame({'A':['A8','A9','A10','A11'],'B':['B8','B9','B10','B11'],'C':['C8','C9','C10','C11'],'D':['DB','D9','D10','D11']},index=[1,2,3,4])\n"
   ]
  },
  {
   "cell_type": "code",
   "execution_count": 3,
   "metadata": {},
   "outputs": [
    {
     "ename": "NameError",
     "evalue": "name 'dp2' is not defined",
     "output_type": "error",
     "traceback": [
      "\u001b[1;31m---------------------------------------------------------------------------\u001b[0m",
      "\u001b[1;31mNameError\u001b[0m                                 Traceback (most recent call last)",
      "\u001b[1;32m<ipython-input-3-e65128ada45e>\u001b[0m in \u001b[0;36m<module>\u001b[1;34m()\u001b[0m\n\u001b[1;32m----> 1\u001b[1;33m \u001b[0mdp2\u001b[0m\u001b[1;33m\u001b[0m\u001b[0m\n\u001b[0m",
      "\u001b[1;31mNameError\u001b[0m: name 'dp2' is not defined"
     ]
    }
   ],
   "source": [
    "dp2"
   ]
  },
  {
   "cell_type": "code",
   "execution_count": null,
   "metadata": {},
   "outputs": [],
   "source": []
  },
  {
   "cell_type": "code",
   "execution_count": 5,
   "metadata": {},
   "outputs": [],
   "source": [
    "dp2=pd.DataFrame({'A':['A8','A9','A10','A11'],'B':['B8','B9','B10','B11'],'C':['C8','C9','C10','C11'],'D':['DB','D9','D10','D11']},index=[1,2,3,4])\n"
   ]
  },
  {
   "cell_type": "code",
   "execution_count": 6,
   "metadata": {},
   "outputs": [
    {
     "data": {
      "text/html": [
       "<div>\n",
       "<style scoped>\n",
       "    .dataframe tbody tr th:only-of-type {\n",
       "        vertical-align: middle;\n",
       "    }\n",
       "\n",
       "    .dataframe tbody tr th {\n",
       "        vertical-align: top;\n",
       "    }\n",
       "\n",
       "    .dataframe thead th {\n",
       "        text-align: right;\n",
       "    }\n",
       "</style>\n",
       "<table border=\"1\" class=\"dataframe\">\n",
       "  <thead>\n",
       "    <tr style=\"text-align: right;\">\n",
       "      <th></th>\n",
       "      <th>A</th>\n",
       "      <th>B</th>\n",
       "      <th>C</th>\n",
       "      <th>D</th>\n",
       "    </tr>\n",
       "  </thead>\n",
       "  <tbody>\n",
       "    <tr>\n",
       "      <th>1</th>\n",
       "      <td>A8</td>\n",
       "      <td>B8</td>\n",
       "      <td>C8</td>\n",
       "      <td>DB</td>\n",
       "    </tr>\n",
       "    <tr>\n",
       "      <th>2</th>\n",
       "      <td>A9</td>\n",
       "      <td>B9</td>\n",
       "      <td>C9</td>\n",
       "      <td>D9</td>\n",
       "    </tr>\n",
       "    <tr>\n",
       "      <th>3</th>\n",
       "      <td>A10</td>\n",
       "      <td>B10</td>\n",
       "      <td>C10</td>\n",
       "      <td>D10</td>\n",
       "    </tr>\n",
       "    <tr>\n",
       "      <th>4</th>\n",
       "      <td>A11</td>\n",
       "      <td>B11</td>\n",
       "      <td>C11</td>\n",
       "      <td>D11</td>\n",
       "    </tr>\n",
       "  </tbody>\n",
       "</table>\n",
       "</div>"
      ],
      "text/plain": [
       "     A    B    C    D\n",
       "1   A8   B8   C8   DB\n",
       "2   A9   B9   C9   D9\n",
       "3  A10  B10  C10  D10\n",
       "4  A11  B11  C11  D11"
      ]
     },
     "execution_count": 6,
     "metadata": {},
     "output_type": "execute_result"
    }
   ],
   "source": [
    "dp2"
   ]
  },
  {
   "cell_type": "code",
   "execution_count": 7,
   "metadata": {},
   "outputs": [],
   "source": [
    "left=pd.DataFrame({'key1':['K0','K1','K2','K3'],\n",
    "'key2':['K0','K1','K2','K3'],\n",
    "'B':['B8','B9','B10','B11'],\n",
    "'C':['C8','C9','C10','C11']})\n"
   ]
  },
  {
   "cell_type": "code",
   "execution_count": 8,
   "metadata": {},
   "outputs": [
    {
     "data": {
      "text/html": [
       "<div>\n",
       "<style scoped>\n",
       "    .dataframe tbody tr th:only-of-type {\n",
       "        vertical-align: middle;\n",
       "    }\n",
       "\n",
       "    .dataframe tbody tr th {\n",
       "        vertical-align: top;\n",
       "    }\n",
       "\n",
       "    .dataframe thead th {\n",
       "        text-align: right;\n",
       "    }\n",
       "</style>\n",
       "<table border=\"1\" class=\"dataframe\">\n",
       "  <thead>\n",
       "    <tr style=\"text-align: right;\">\n",
       "      <th></th>\n",
       "      <th>key1</th>\n",
       "      <th>key2</th>\n",
       "      <th>B</th>\n",
       "      <th>C</th>\n",
       "    </tr>\n",
       "  </thead>\n",
       "  <tbody>\n",
       "    <tr>\n",
       "      <th>0</th>\n",
       "      <td>K0</td>\n",
       "      <td>K0</td>\n",
       "      <td>B8</td>\n",
       "      <td>C8</td>\n",
       "    </tr>\n",
       "    <tr>\n",
       "      <th>1</th>\n",
       "      <td>K1</td>\n",
       "      <td>K1</td>\n",
       "      <td>B9</td>\n",
       "      <td>C9</td>\n",
       "    </tr>\n",
       "    <tr>\n",
       "      <th>2</th>\n",
       "      <td>K2</td>\n",
       "      <td>K2</td>\n",
       "      <td>B10</td>\n",
       "      <td>C10</td>\n",
       "    </tr>\n",
       "    <tr>\n",
       "      <th>3</th>\n",
       "      <td>K3</td>\n",
       "      <td>K3</td>\n",
       "      <td>B11</td>\n",
       "      <td>C11</td>\n",
       "    </tr>\n",
       "  </tbody>\n",
       "</table>\n",
       "</div>"
      ],
      "text/plain": [
       "  key1 key2    B    C\n",
       "0   K0   K0   B8   C8\n",
       "1   K1   K1   B9   C9\n",
       "2   K2   K2  B10  C10\n",
       "3   K3   K3  B11  C11"
      ]
     },
     "execution_count": 8,
     "metadata": {},
     "output_type": "execute_result"
    }
   ],
   "source": [
    "left"
   ]
  },
  {
   "cell_type": "code",
   "execution_count": 9,
   "metadata": {},
   "outputs": [],
   "source": [
    "right=pd.DataFrame({'key1':['K0','K1','K2','K3'],\n",
    "'key2':['K0','K1','K2','K3'],\n",
    "'D':['D8','D9','D10','D11'],\n",
    "'E':['E8','E9','E10','E11']})"
   ]
  },
  {
   "cell_type": "code",
   "execution_count": 10,
   "metadata": {},
   "outputs": [
    {
     "data": {
      "text/html": [
       "<div>\n",
       "<style scoped>\n",
       "    .dataframe tbody tr th:only-of-type {\n",
       "        vertical-align: middle;\n",
       "    }\n",
       "\n",
       "    .dataframe tbody tr th {\n",
       "        vertical-align: top;\n",
       "    }\n",
       "\n",
       "    .dataframe thead th {\n",
       "        text-align: right;\n",
       "    }\n",
       "</style>\n",
       "<table border=\"1\" class=\"dataframe\">\n",
       "  <thead>\n",
       "    <tr style=\"text-align: right;\">\n",
       "      <th></th>\n",
       "      <th>key1</th>\n",
       "      <th>key2</th>\n",
       "      <th>D</th>\n",
       "      <th>E</th>\n",
       "    </tr>\n",
       "  </thead>\n",
       "  <tbody>\n",
       "    <tr>\n",
       "      <th>0</th>\n",
       "      <td>K0</td>\n",
       "      <td>K0</td>\n",
       "      <td>D8</td>\n",
       "      <td>E8</td>\n",
       "    </tr>\n",
       "    <tr>\n",
       "      <th>1</th>\n",
       "      <td>K1</td>\n",
       "      <td>K1</td>\n",
       "      <td>D9</td>\n",
       "      <td>E9</td>\n",
       "    </tr>\n",
       "    <tr>\n",
       "      <th>2</th>\n",
       "      <td>K2</td>\n",
       "      <td>K2</td>\n",
       "      <td>D10</td>\n",
       "      <td>E10</td>\n",
       "    </tr>\n",
       "    <tr>\n",
       "      <th>3</th>\n",
       "      <td>K3</td>\n",
       "      <td>K3</td>\n",
       "      <td>D11</td>\n",
       "      <td>E11</td>\n",
       "    </tr>\n",
       "  </tbody>\n",
       "</table>\n",
       "</div>"
      ],
      "text/plain": [
       "  key1 key2    D    E\n",
       "0   K0   K0   D8   E8\n",
       "1   K1   K1   D9   E9\n",
       "2   K2   K2  D10  E10\n",
       "3   K3   K3  D11  E11"
      ]
     },
     "execution_count": 10,
     "metadata": {},
     "output_type": "execute_result"
    }
   ],
   "source": [
    "right"
   ]
  },
  {
   "cell_type": "code",
   "execution_count": 11,
   "metadata": {},
   "outputs": [
    {
     "data": {
      "text/html": [
       "<div>\n",
       "<style scoped>\n",
       "    .dataframe tbody tr th:only-of-type {\n",
       "        vertical-align: middle;\n",
       "    }\n",
       "\n",
       "    .dataframe tbody tr th {\n",
       "        vertical-align: top;\n",
       "    }\n",
       "\n",
       "    .dataframe thead th {\n",
       "        text-align: right;\n",
       "    }\n",
       "</style>\n",
       "<table border=\"1\" class=\"dataframe\">\n",
       "  <thead>\n",
       "    <tr style=\"text-align: right;\">\n",
       "      <th></th>\n",
       "      <th>key1</th>\n",
       "      <th>key2</th>\n",
       "      <th>B</th>\n",
       "      <th>C</th>\n",
       "      <th>D</th>\n",
       "      <th>E</th>\n",
       "    </tr>\n",
       "  </thead>\n",
       "  <tbody>\n",
       "    <tr>\n",
       "      <th>0</th>\n",
       "      <td>K0</td>\n",
       "      <td>K0</td>\n",
       "      <td>B8</td>\n",
       "      <td>C8</td>\n",
       "      <td>D8</td>\n",
       "      <td>E8</td>\n",
       "    </tr>\n",
       "    <tr>\n",
       "      <th>1</th>\n",
       "      <td>K1</td>\n",
       "      <td>K1</td>\n",
       "      <td>B9</td>\n",
       "      <td>C9</td>\n",
       "      <td>D9</td>\n",
       "      <td>E9</td>\n",
       "    </tr>\n",
       "    <tr>\n",
       "      <th>2</th>\n",
       "      <td>K2</td>\n",
       "      <td>K2</td>\n",
       "      <td>B10</td>\n",
       "      <td>C10</td>\n",
       "      <td>D10</td>\n",
       "      <td>E10</td>\n",
       "    </tr>\n",
       "    <tr>\n",
       "      <th>3</th>\n",
       "      <td>K3</td>\n",
       "      <td>K3</td>\n",
       "      <td>B11</td>\n",
       "      <td>C11</td>\n",
       "      <td>D11</td>\n",
       "      <td>E11</td>\n",
       "    </tr>\n",
       "  </tbody>\n",
       "</table>\n",
       "</div>"
      ],
      "text/plain": [
       "  key1 key2    B    C    D    E\n",
       "0   K0   K0   B8   C8   D8   E8\n",
       "1   K1   K1   B9   C9   D9   E9\n",
       "2   K2   K2  B10  C10  D10  E10\n",
       "3   K3   K3  B11  C11  D11  E11"
      ]
     },
     "execution_count": 11,
     "metadata": {},
     "output_type": "execute_result"
    }
   ],
   "source": [
    " pd.merge(left,right,on=['key1','key2'])"
   ]
  },
  {
   "cell_type": "code",
   "execution_count": 13,
   "metadata": {},
   "outputs": [
    {
     "data": {
      "text/html": [
       "<div>\n",
       "<style scoped>\n",
       "    .dataframe tbody tr th:only-of-type {\n",
       "        vertical-align: middle;\n",
       "    }\n",
       "\n",
       "    .dataframe tbody tr th {\n",
       "        vertical-align: top;\n",
       "    }\n",
       "\n",
       "    .dataframe thead th {\n",
       "        text-align: right;\n",
       "    }\n",
       "</style>\n",
       "<table border=\"1\" class=\"dataframe\">\n",
       "  <thead>\n",
       "    <tr style=\"text-align: right;\">\n",
       "      <th></th>\n",
       "      <th>key1</th>\n",
       "      <th>key2</th>\n",
       "      <th>B</th>\n",
       "      <th>C</th>\n",
       "      <th>D</th>\n",
       "      <th>E</th>\n",
       "    </tr>\n",
       "  </thead>\n",
       "  <tbody>\n",
       "    <tr>\n",
       "      <th>0</th>\n",
       "      <td>K0</td>\n",
       "      <td>K0</td>\n",
       "      <td>B8</td>\n",
       "      <td>C8</td>\n",
       "      <td>D8</td>\n",
       "      <td>E8</td>\n",
       "    </tr>\n",
       "    <tr>\n",
       "      <th>1</th>\n",
       "      <td>K1</td>\n",
       "      <td>K1</td>\n",
       "      <td>B9</td>\n",
       "      <td>C9</td>\n",
       "      <td>D9</td>\n",
       "      <td>E9</td>\n",
       "    </tr>\n",
       "    <tr>\n",
       "      <th>2</th>\n",
       "      <td>K2</td>\n",
       "      <td>K2</td>\n",
       "      <td>B10</td>\n",
       "      <td>C10</td>\n",
       "      <td>D10</td>\n",
       "      <td>E10</td>\n",
       "    </tr>\n",
       "    <tr>\n",
       "      <th>3</th>\n",
       "      <td>K3</td>\n",
       "      <td>K3</td>\n",
       "      <td>B11</td>\n",
       "      <td>C11</td>\n",
       "      <td>D11</td>\n",
       "      <td>E11</td>\n",
       "    </tr>\n",
       "  </tbody>\n",
       "</table>\n",
       "</div>"
      ],
      "text/plain": [
       "  key1 key2    B    C    D    E\n",
       "0   K0   K0   B8   C8   D8   E8\n",
       "1   K1   K1   B9   C9   D9   E9\n",
       "2   K2   K2  B10  C10  D10  E10\n",
       "3   K3   K3  B11  C11  D11  E11"
      ]
     },
     "execution_count": 13,
     "metadata": {},
     "output_type": "execute_result"
    }
   ],
   "source": [
    "pd.merge(left,right,how='right',on=['key1','key2'])"
   ]
  },
  {
   "cell_type": "code",
   "execution_count": 14,
   "metadata": {},
   "outputs": [],
   "source": [
    "right=pd.DataFrame({'key1':['K0','K4','K2','K3'],'key2':['K3','K0','K1','K0'],'C':['C0','C1','C3','C4'],'D':['D0','D1','D2','D3']})"
   ]
  },
  {
   "cell_type": "code",
   "execution_count": 15,
   "metadata": {},
   "outputs": [
    {
     "data": {
      "text/html": [
       "<div>\n",
       "<style scoped>\n",
       "    .dataframe tbody tr th:only-of-type {\n",
       "        vertical-align: middle;\n",
       "    }\n",
       "\n",
       "    .dataframe tbody tr th {\n",
       "        vertical-align: top;\n",
       "    }\n",
       "\n",
       "    .dataframe thead th {\n",
       "        text-align: right;\n",
       "    }\n",
       "</style>\n",
       "<table border=\"1\" class=\"dataframe\">\n",
       "  <thead>\n",
       "    <tr style=\"text-align: right;\">\n",
       "      <th></th>\n",
       "      <th>key1</th>\n",
       "      <th>key2</th>\n",
       "      <th>C</th>\n",
       "      <th>D</th>\n",
       "    </tr>\n",
       "  </thead>\n",
       "  <tbody>\n",
       "    <tr>\n",
       "      <th>0</th>\n",
       "      <td>K0</td>\n",
       "      <td>K3</td>\n",
       "      <td>C0</td>\n",
       "      <td>D0</td>\n",
       "    </tr>\n",
       "    <tr>\n",
       "      <th>1</th>\n",
       "      <td>K4</td>\n",
       "      <td>K0</td>\n",
       "      <td>C1</td>\n",
       "      <td>D1</td>\n",
       "    </tr>\n",
       "    <tr>\n",
       "      <th>2</th>\n",
       "      <td>K2</td>\n",
       "      <td>K1</td>\n",
       "      <td>C3</td>\n",
       "      <td>D2</td>\n",
       "    </tr>\n",
       "    <tr>\n",
       "      <th>3</th>\n",
       "      <td>K3</td>\n",
       "      <td>K0</td>\n",
       "      <td>C4</td>\n",
       "      <td>D3</td>\n",
       "    </tr>\n",
       "  </tbody>\n",
       "</table>\n",
       "</div>"
      ],
      "text/plain": [
       "  key1 key2   C   D\n",
       "0   K0   K3  C0  D0\n",
       "1   K4   K0  C1  D1\n",
       "2   K2   K1  C3  D2\n",
       "3   K3   K0  C4  D3"
      ]
     },
     "execution_count": 15,
     "metadata": {},
     "output_type": "execute_result"
    }
   ],
   "source": [
    "right"
   ]
  },
  {
   "cell_type": "code",
   "execution_count": 16,
   "metadata": {},
   "outputs": [],
   "source": [
    "left=pd.DataFrame({'key1':['K0','K2','K2','K3'],'key2':['K3','K0','K2','K0'],'A':['A0','A1','A2','A3'],'B':['B0','B1','B2','B3']})"
   ]
  },
  {
   "cell_type": "code",
   "execution_count": 17,
   "metadata": {},
   "outputs": [
    {
     "data": {
      "text/html": [
       "<div>\n",
       "<style scoped>\n",
       "    .dataframe tbody tr th:only-of-type {\n",
       "        vertical-align: middle;\n",
       "    }\n",
       "\n",
       "    .dataframe tbody tr th {\n",
       "        vertical-align: top;\n",
       "    }\n",
       "\n",
       "    .dataframe thead th {\n",
       "        text-align: right;\n",
       "    }\n",
       "</style>\n",
       "<table border=\"1\" class=\"dataframe\">\n",
       "  <thead>\n",
       "    <tr style=\"text-align: right;\">\n",
       "      <th></th>\n",
       "      <th>key1</th>\n",
       "      <th>key2</th>\n",
       "      <th>A</th>\n",
       "      <th>B</th>\n",
       "    </tr>\n",
       "  </thead>\n",
       "  <tbody>\n",
       "    <tr>\n",
       "      <th>0</th>\n",
       "      <td>K0</td>\n",
       "      <td>K3</td>\n",
       "      <td>A0</td>\n",
       "      <td>B0</td>\n",
       "    </tr>\n",
       "    <tr>\n",
       "      <th>1</th>\n",
       "      <td>K2</td>\n",
       "      <td>K0</td>\n",
       "      <td>A1</td>\n",
       "      <td>B1</td>\n",
       "    </tr>\n",
       "    <tr>\n",
       "      <th>2</th>\n",
       "      <td>K2</td>\n",
       "      <td>K2</td>\n",
       "      <td>A2</td>\n",
       "      <td>B2</td>\n",
       "    </tr>\n",
       "    <tr>\n",
       "      <th>3</th>\n",
       "      <td>K3</td>\n",
       "      <td>K0</td>\n",
       "      <td>A3</td>\n",
       "      <td>B3</td>\n",
       "    </tr>\n",
       "  </tbody>\n",
       "</table>\n",
       "</div>"
      ],
      "text/plain": [
       "  key1 key2   A   B\n",
       "0   K0   K3  A0  B0\n",
       "1   K2   K0  A1  B1\n",
       "2   K2   K2  A2  B2\n",
       "3   K3   K0  A3  B3"
      ]
     },
     "execution_count": 17,
     "metadata": {},
     "output_type": "execute_result"
    }
   ],
   "source": [
    "left"
   ]
  },
  {
   "cell_type": "code",
   "execution_count": 18,
   "metadata": {},
   "outputs": [
    {
     "data": {
      "text/html": [
       "<div>\n",
       "<style scoped>\n",
       "    .dataframe tbody tr th:only-of-type {\n",
       "        vertical-align: middle;\n",
       "    }\n",
       "\n",
       "    .dataframe tbody tr th {\n",
       "        vertical-align: top;\n",
       "    }\n",
       "\n",
       "    .dataframe thead th {\n",
       "        text-align: right;\n",
       "    }\n",
       "</style>\n",
       "<table border=\"1\" class=\"dataframe\">\n",
       "  <thead>\n",
       "    <tr style=\"text-align: right;\">\n",
       "      <th></th>\n",
       "      <th>key1</th>\n",
       "      <th>key2</th>\n",
       "      <th>A</th>\n",
       "      <th>B</th>\n",
       "      <th>C</th>\n",
       "      <th>D</th>\n",
       "    </tr>\n",
       "  </thead>\n",
       "  <tbody>\n",
       "    <tr>\n",
       "      <th>0</th>\n",
       "      <td>K0</td>\n",
       "      <td>K3</td>\n",
       "      <td>A0</td>\n",
       "      <td>B0</td>\n",
       "      <td>C0</td>\n",
       "      <td>D0</td>\n",
       "    </tr>\n",
       "    <tr>\n",
       "      <th>1</th>\n",
       "      <td>K3</td>\n",
       "      <td>K0</td>\n",
       "      <td>A3</td>\n",
       "      <td>B3</td>\n",
       "      <td>C4</td>\n",
       "      <td>D3</td>\n",
       "    </tr>\n",
       "    <tr>\n",
       "      <th>2</th>\n",
       "      <td>K4</td>\n",
       "      <td>K0</td>\n",
       "      <td>NaN</td>\n",
       "      <td>NaN</td>\n",
       "      <td>C1</td>\n",
       "      <td>D1</td>\n",
       "    </tr>\n",
       "    <tr>\n",
       "      <th>3</th>\n",
       "      <td>K2</td>\n",
       "      <td>K1</td>\n",
       "      <td>NaN</td>\n",
       "      <td>NaN</td>\n",
       "      <td>C3</td>\n",
       "      <td>D2</td>\n",
       "    </tr>\n",
       "  </tbody>\n",
       "</table>\n",
       "</div>"
      ],
      "text/plain": [
       "  key1 key2    A    B   C   D\n",
       "0   K0   K3   A0   B0  C0  D0\n",
       "1   K3   K0   A3   B3  C4  D3\n",
       "2   K4   K0  NaN  NaN  C1  D1\n",
       "3   K2   K1  NaN  NaN  C3  D2"
      ]
     },
     "execution_count": 18,
     "metadata": {},
     "output_type": "execute_result"
    }
   ],
   "source": [
    "pd.merge(left,right,how='right',on=['key1','key2'])"
   ]
  },
  {
   "cell_type": "code",
   "execution_count": 19,
   "metadata": {},
   "outputs": [],
   "source": [
    "right=pd.DataFrame({'C':['C0','C1','C2'],\n",
    "'D':['D0','D1','D2']},\n",
    "index=['K0','K1','K2'])"
   ]
  },
  {
   "cell_type": "code",
   "execution_count": 20,
   "metadata": {},
   "outputs": [
    {
     "data": {
      "text/html": [
       "<div>\n",
       "<style scoped>\n",
       "    .dataframe tbody tr th:only-of-type {\n",
       "        vertical-align: middle;\n",
       "    }\n",
       "\n",
       "    .dataframe tbody tr th {\n",
       "        vertical-align: top;\n",
       "    }\n",
       "\n",
       "    .dataframe thead th {\n",
       "        text-align: right;\n",
       "    }\n",
       "</style>\n",
       "<table border=\"1\" class=\"dataframe\">\n",
       "  <thead>\n",
       "    <tr style=\"text-align: right;\">\n",
       "      <th></th>\n",
       "      <th>C</th>\n",
       "      <th>D</th>\n",
       "    </tr>\n",
       "  </thead>\n",
       "  <tbody>\n",
       "    <tr>\n",
       "      <th>K0</th>\n",
       "      <td>C0</td>\n",
       "      <td>D0</td>\n",
       "    </tr>\n",
       "    <tr>\n",
       "      <th>K1</th>\n",
       "      <td>C1</td>\n",
       "      <td>D1</td>\n",
       "    </tr>\n",
       "    <tr>\n",
       "      <th>K2</th>\n",
       "      <td>C2</td>\n",
       "      <td>D2</td>\n",
       "    </tr>\n",
       "  </tbody>\n",
       "</table>\n",
       "</div>"
      ],
      "text/plain": [
       "     C   D\n",
       "K0  C0  D0\n",
       "K1  C1  D1\n",
       "K2  C2  D2"
      ]
     },
     "execution_count": 20,
     "metadata": {},
     "output_type": "execute_result"
    }
   ],
   "source": [
    "right"
   ]
  },
  {
   "cell_type": "code",
   "execution_count": 21,
   "metadata": {},
   "outputs": [],
   "source": [
    "left=pd.DataFrame({'A':['A0','A1','A2'],\n",
    "'B':['B0','B1','B2']},\n",
    "index=['K0','K1','K2'])"
   ]
  },
  {
   "cell_type": "code",
   "execution_count": 22,
   "metadata": {},
   "outputs": [
    {
     "data": {
      "text/html": [
       "<div>\n",
       "<style scoped>\n",
       "    .dataframe tbody tr th:only-of-type {\n",
       "        vertical-align: middle;\n",
       "    }\n",
       "\n",
       "    .dataframe tbody tr th {\n",
       "        vertical-align: top;\n",
       "    }\n",
       "\n",
       "    .dataframe thead th {\n",
       "        text-align: right;\n",
       "    }\n",
       "</style>\n",
       "<table border=\"1\" class=\"dataframe\">\n",
       "  <thead>\n",
       "    <tr style=\"text-align: right;\">\n",
       "      <th></th>\n",
       "      <th>A</th>\n",
       "      <th>B</th>\n",
       "    </tr>\n",
       "  </thead>\n",
       "  <tbody>\n",
       "    <tr>\n",
       "      <th>K0</th>\n",
       "      <td>A0</td>\n",
       "      <td>B0</td>\n",
       "    </tr>\n",
       "    <tr>\n",
       "      <th>K1</th>\n",
       "      <td>A1</td>\n",
       "      <td>B1</td>\n",
       "    </tr>\n",
       "    <tr>\n",
       "      <th>K2</th>\n",
       "      <td>A2</td>\n",
       "      <td>B2</td>\n",
       "    </tr>\n",
       "  </tbody>\n",
       "</table>\n",
       "</div>"
      ],
      "text/plain": [
       "     A   B\n",
       "K0  A0  B0\n",
       "K1  A1  B1\n",
       "K2  A2  B2"
      ]
     },
     "execution_count": 22,
     "metadata": {},
     "output_type": "execute_result"
    }
   ],
   "source": [
    "left"
   ]
  },
  {
   "cell_type": "code",
   "execution_count": 24,
   "metadata": {},
   "outputs": [],
   "source": [
    "df1=pd.read_csv('Salaries.csv')"
   ]
  },
  {
   "cell_type": "code",
   "execution_count": 25,
   "metadata": {},
   "outputs": [
    {
     "data": {
      "text/html": [
       "<div>\n",
       "<style scoped>\n",
       "    .dataframe tbody tr th:only-of-type {\n",
       "        vertical-align: middle;\n",
       "    }\n",
       "\n",
       "    .dataframe tbody tr th {\n",
       "        vertical-align: top;\n",
       "    }\n",
       "\n",
       "    .dataframe thead th {\n",
       "        text-align: right;\n",
       "    }\n",
       "</style>\n",
       "<table border=\"1\" class=\"dataframe\">\n",
       "  <thead>\n",
       "    <tr style=\"text-align: right;\">\n",
       "      <th></th>\n",
       "      <th>Id</th>\n",
       "      <th>EmployeeName</th>\n",
       "      <th>JobTitle</th>\n",
       "      <th>BasePay</th>\n",
       "      <th>OvertimePay</th>\n",
       "      <th>OtherPay</th>\n",
       "      <th>Benefits</th>\n",
       "      <th>TotalPay</th>\n",
       "      <th>TotalPayBenefits</th>\n",
       "      <th>Year</th>\n",
       "      <th>Notes</th>\n",
       "      <th>Agency</th>\n",
       "      <th>Status</th>\n",
       "    </tr>\n",
       "  </thead>\n",
       "  <tbody>\n",
       "    <tr>\n",
       "      <th>0</th>\n",
       "      <td>1</td>\n",
       "      <td>NATHANIEL FORD</td>\n",
       "      <td>GENERAL MANAGER-METROPOLITAN TRANSIT AUTHORITY</td>\n",
       "      <td>167411.18</td>\n",
       "      <td>0.00</td>\n",
       "      <td>400184.25</td>\n",
       "      <td>NaN</td>\n",
       "      <td>567595.43</td>\n",
       "      <td>567595.43</td>\n",
       "      <td>2011</td>\n",
       "      <td>NaN</td>\n",
       "      <td>San Francisco</td>\n",
       "      <td>NaN</td>\n",
       "    </tr>\n",
       "    <tr>\n",
       "      <th>1</th>\n",
       "      <td>2</td>\n",
       "      <td>GARY JIMENEZ</td>\n",
       "      <td>CAPTAIN III (POLICE DEPARTMENT)</td>\n",
       "      <td>155966.02</td>\n",
       "      <td>245131.88</td>\n",
       "      <td>137811.38</td>\n",
       "      <td>NaN</td>\n",
       "      <td>538909.28</td>\n",
       "      <td>538909.28</td>\n",
       "      <td>2011</td>\n",
       "      <td>NaN</td>\n",
       "      <td>San Francisco</td>\n",
       "      <td>NaN</td>\n",
       "    </tr>\n",
       "    <tr>\n",
       "      <th>2</th>\n",
       "      <td>3</td>\n",
       "      <td>ALBERT PARDINI</td>\n",
       "      <td>CAPTAIN III (POLICE DEPARTMENT)</td>\n",
       "      <td>212739.13</td>\n",
       "      <td>106088.18</td>\n",
       "      <td>16452.60</td>\n",
       "      <td>NaN</td>\n",
       "      <td>335279.91</td>\n",
       "      <td>335279.91</td>\n",
       "      <td>2011</td>\n",
       "      <td>NaN</td>\n",
       "      <td>San Francisco</td>\n",
       "      <td>NaN</td>\n",
       "    </tr>\n",
       "    <tr>\n",
       "      <th>3</th>\n",
       "      <td>4</td>\n",
       "      <td>CHRISTOPHER CHONG</td>\n",
       "      <td>WIRE ROPE CABLE MAINTENANCE MECHANIC</td>\n",
       "      <td>77916.00</td>\n",
       "      <td>56120.71</td>\n",
       "      <td>198306.90</td>\n",
       "      <td>NaN</td>\n",
       "      <td>332343.61</td>\n",
       "      <td>332343.61</td>\n",
       "      <td>2011</td>\n",
       "      <td>NaN</td>\n",
       "      <td>San Francisco</td>\n",
       "      <td>NaN</td>\n",
       "    </tr>\n",
       "    <tr>\n",
       "      <th>4</th>\n",
       "      <td>5</td>\n",
       "      <td>PATRICK GARDNER</td>\n",
       "      <td>DEPUTY CHIEF OF DEPARTMENT,(FIRE DEPARTMENT)</td>\n",
       "      <td>134401.60</td>\n",
       "      <td>9737.00</td>\n",
       "      <td>182234.59</td>\n",
       "      <td>NaN</td>\n",
       "      <td>326373.19</td>\n",
       "      <td>326373.19</td>\n",
       "      <td>2011</td>\n",
       "      <td>NaN</td>\n",
       "      <td>San Francisco</td>\n",
       "      <td>NaN</td>\n",
       "    </tr>\n",
       "    <tr>\n",
       "      <th>5</th>\n",
       "      <td>6</td>\n",
       "      <td>DAVID SULLIVAN</td>\n",
       "      <td>ASSISTANT DEPUTY CHIEF II</td>\n",
       "      <td>118602.00</td>\n",
       "      <td>8601.00</td>\n",
       "      <td>189082.74</td>\n",
       "      <td>NaN</td>\n",
       "      <td>316285.74</td>\n",
       "      <td>316285.74</td>\n",
       "      <td>2011</td>\n",
       "      <td>NaN</td>\n",
       "      <td>San Francisco</td>\n",
       "      <td>NaN</td>\n",
       "    </tr>\n",
       "    <tr>\n",
       "      <th>6</th>\n",
       "      <td>7</td>\n",
       "      <td>ALSON LEE</td>\n",
       "      <td>BATTALION CHIEF, (FIRE DEPARTMENT)</td>\n",
       "      <td>92492.01</td>\n",
       "      <td>89062.90</td>\n",
       "      <td>134426.14</td>\n",
       "      <td>NaN</td>\n",
       "      <td>315981.05</td>\n",
       "      <td>315981.05</td>\n",
       "      <td>2011</td>\n",
       "      <td>NaN</td>\n",
       "      <td>San Francisco</td>\n",
       "      <td>NaN</td>\n",
       "    </tr>\n",
       "    <tr>\n",
       "      <th>7</th>\n",
       "      <td>8</td>\n",
       "      <td>DAVID KUSHNER</td>\n",
       "      <td>DEPUTY DIRECTOR OF INVESTMENTS</td>\n",
       "      <td>256576.96</td>\n",
       "      <td>0.00</td>\n",
       "      <td>51322.50</td>\n",
       "      <td>NaN</td>\n",
       "      <td>307899.46</td>\n",
       "      <td>307899.46</td>\n",
       "      <td>2011</td>\n",
       "      <td>NaN</td>\n",
       "      <td>San Francisco</td>\n",
       "      <td>NaN</td>\n",
       "    </tr>\n",
       "    <tr>\n",
       "      <th>8</th>\n",
       "      <td>9</td>\n",
       "      <td>MICHAEL MORRIS</td>\n",
       "      <td>BATTALION CHIEF, (FIRE DEPARTMENT)</td>\n",
       "      <td>176932.64</td>\n",
       "      <td>86362.68</td>\n",
       "      <td>40132.23</td>\n",
       "      <td>NaN</td>\n",
       "      <td>303427.55</td>\n",
       "      <td>303427.55</td>\n",
       "      <td>2011</td>\n",
       "      <td>NaN</td>\n",
       "      <td>San Francisco</td>\n",
       "      <td>NaN</td>\n",
       "    </tr>\n",
       "    <tr>\n",
       "      <th>9</th>\n",
       "      <td>10</td>\n",
       "      <td>JOANNE HAYES-WHITE</td>\n",
       "      <td>CHIEF OF DEPARTMENT, (FIRE DEPARTMENT)</td>\n",
       "      <td>285262.00</td>\n",
       "      <td>0.00</td>\n",
       "      <td>17115.73</td>\n",
       "      <td>NaN</td>\n",
       "      <td>302377.73</td>\n",
       "      <td>302377.73</td>\n",
       "      <td>2011</td>\n",
       "      <td>NaN</td>\n",
       "      <td>San Francisco</td>\n",
       "      <td>NaN</td>\n",
       "    </tr>\n",
       "    <tr>\n",
       "      <th>10</th>\n",
       "      <td>11</td>\n",
       "      <td>ARTHUR KENNEY</td>\n",
       "      <td>ASSISTANT CHIEF OF DEPARTMENT, (FIRE DEPARTMENT)</td>\n",
       "      <td>194999.39</td>\n",
       "      <td>71344.88</td>\n",
       "      <td>33149.90</td>\n",
       "      <td>NaN</td>\n",
       "      <td>299494.17</td>\n",
       "      <td>299494.17</td>\n",
       "      <td>2011</td>\n",
       "      <td>NaN</td>\n",
       "      <td>San Francisco</td>\n",
       "      <td>NaN</td>\n",
       "    </tr>\n",
       "    <tr>\n",
       "      <th>11</th>\n",
       "      <td>12</td>\n",
       "      <td>PATRICIA JACKSON</td>\n",
       "      <td>CAPTAIN III (POLICE DEPARTMENT)</td>\n",
       "      <td>99722.00</td>\n",
       "      <td>87082.62</td>\n",
       "      <td>110804.30</td>\n",
       "      <td>NaN</td>\n",
       "      <td>297608.92</td>\n",
       "      <td>297608.92</td>\n",
       "      <td>2011</td>\n",
       "      <td>NaN</td>\n",
       "      <td>San Francisco</td>\n",
       "      <td>NaN</td>\n",
       "    </tr>\n",
       "    <tr>\n",
       "      <th>12</th>\n",
       "      <td>13</td>\n",
       "      <td>EDWARD HARRINGTON</td>\n",
       "      <td>EXECUTIVE CONTRACT EMPLOYEE</td>\n",
       "      <td>294580.02</td>\n",
       "      <td>0.00</td>\n",
       "      <td>0.00</td>\n",
       "      <td>NaN</td>\n",
       "      <td>294580.02</td>\n",
       "      <td>294580.02</td>\n",
       "      <td>2011</td>\n",
       "      <td>NaN</td>\n",
       "      <td>San Francisco</td>\n",
       "      <td>NaN</td>\n",
       "    </tr>\n",
       "    <tr>\n",
       "      <th>13</th>\n",
       "      <td>14</td>\n",
       "      <td>JOHN MARTIN</td>\n",
       "      <td>DEPARTMENT HEAD V</td>\n",
       "      <td>271329.03</td>\n",
       "      <td>0.00</td>\n",
       "      <td>21342.59</td>\n",
       "      <td>NaN</td>\n",
       "      <td>292671.62</td>\n",
       "      <td>292671.62</td>\n",
       "      <td>2011</td>\n",
       "      <td>NaN</td>\n",
       "      <td>San Francisco</td>\n",
       "      <td>NaN</td>\n",
       "    </tr>\n",
       "    <tr>\n",
       "      <th>14</th>\n",
       "      <td>15</td>\n",
       "      <td>DAVID FRANKLIN</td>\n",
       "      <td>BATTALION CHIEF, (FIRE DEPARTMENT)</td>\n",
       "      <td>174872.64</td>\n",
       "      <td>74050.30</td>\n",
       "      <td>37424.11</td>\n",
       "      <td>NaN</td>\n",
       "      <td>286347.05</td>\n",
       "      <td>286347.05</td>\n",
       "      <td>2011</td>\n",
       "      <td>NaN</td>\n",
       "      <td>San Francisco</td>\n",
       "      <td>NaN</td>\n",
       "    </tr>\n",
       "    <tr>\n",
       "      <th>15</th>\n",
       "      <td>16</td>\n",
       "      <td>RICHARD CORRIEA</td>\n",
       "      <td>COMMANDER III, (POLICE DEPARTMENT)</td>\n",
       "      <td>198778.01</td>\n",
       "      <td>73478.20</td>\n",
       "      <td>13957.65</td>\n",
       "      <td>NaN</td>\n",
       "      <td>286213.86</td>\n",
       "      <td>286213.86</td>\n",
       "      <td>2011</td>\n",
       "      <td>NaN</td>\n",
       "      <td>San Francisco</td>\n",
       "      <td>NaN</td>\n",
       "    </tr>\n",
       "    <tr>\n",
       "      <th>16</th>\n",
       "      <td>17</td>\n",
       "      <td>AMY HART</td>\n",
       "      <td>DEPARTMENT HEAD V</td>\n",
       "      <td>268604.57</td>\n",
       "      <td>0.00</td>\n",
       "      <td>16115.86</td>\n",
       "      <td>NaN</td>\n",
       "      <td>284720.43</td>\n",
       "      <td>284720.43</td>\n",
       "      <td>2011</td>\n",
       "      <td>NaN</td>\n",
       "      <td>San Francisco</td>\n",
       "      <td>NaN</td>\n",
       "    </tr>\n",
       "    <tr>\n",
       "      <th>17</th>\n",
       "      <td>18</td>\n",
       "      <td>SEBASTIAN WONG</td>\n",
       "      <td>CAPTAIN, EMERGENCYCY MEDICAL SERVICES</td>\n",
       "      <td>140546.87</td>\n",
       "      <td>119397.26</td>\n",
       "      <td>18625.08</td>\n",
       "      <td>NaN</td>\n",
       "      <td>278569.21</td>\n",
       "      <td>278569.21</td>\n",
       "      <td>2011</td>\n",
       "      <td>NaN</td>\n",
       "      <td>San Francisco</td>\n",
       "      <td>NaN</td>\n",
       "    </tr>\n",
       "    <tr>\n",
       "      <th>18</th>\n",
       "      <td>19</td>\n",
       "      <td>MARTY ROSS</td>\n",
       "      <td>BATTALION CHIEF, (FIRE DEPARTMENT)</td>\n",
       "      <td>168692.63</td>\n",
       "      <td>69626.12</td>\n",
       "      <td>38115.47</td>\n",
       "      <td>NaN</td>\n",
       "      <td>276434.22</td>\n",
       "      <td>276434.22</td>\n",
       "      <td>2011</td>\n",
       "      <td>NaN</td>\n",
       "      <td>San Francisco</td>\n",
       "      <td>NaN</td>\n",
       "    </tr>\n",
       "    <tr>\n",
       "      <th>19</th>\n",
       "      <td>20</td>\n",
       "      <td>ELLEN MOFFATT</td>\n",
       "      <td>ASSISTANT MEDICAL EXAMINER</td>\n",
       "      <td>257510.59</td>\n",
       "      <td>880.16</td>\n",
       "      <td>16159.50</td>\n",
       "      <td>NaN</td>\n",
       "      <td>274550.25</td>\n",
       "      <td>274550.25</td>\n",
       "      <td>2011</td>\n",
       "      <td>NaN</td>\n",
       "      <td>San Francisco</td>\n",
       "      <td>NaN</td>\n",
       "    </tr>\n",
       "    <tr>\n",
       "      <th>20</th>\n",
       "      <td>21</td>\n",
       "      <td>VENUS AZAR</td>\n",
       "      <td>ASSISTANT MEDICAL EXAMINER</td>\n",
       "      <td>257510.48</td>\n",
       "      <td>0.00</td>\n",
       "      <td>16679.79</td>\n",
       "      <td>NaN</td>\n",
       "      <td>274190.27</td>\n",
       "      <td>274190.27</td>\n",
       "      <td>2011</td>\n",
       "      <td>NaN</td>\n",
       "      <td>San Francisco</td>\n",
       "      <td>NaN</td>\n",
       "    </tr>\n",
       "    <tr>\n",
       "      <th>21</th>\n",
       "      <td>22</td>\n",
       "      <td>JUDY MELINEK</td>\n",
       "      <td>ASSISTANT MEDICAL EXAMINER</td>\n",
       "      <td>257510.44</td>\n",
       "      <td>377.21</td>\n",
       "      <td>15883.56</td>\n",
       "      <td>NaN</td>\n",
       "      <td>273771.21</td>\n",
       "      <td>273771.21</td>\n",
       "      <td>2011</td>\n",
       "      <td>NaN</td>\n",
       "      <td>San Francisco</td>\n",
       "      <td>NaN</td>\n",
       "    </tr>\n",
       "    <tr>\n",
       "      <th>22</th>\n",
       "      <td>23</td>\n",
       "      <td>GEORGE GARCIA</td>\n",
       "      <td>CAPTAIN, FIRE SUPPRESSION</td>\n",
       "      <td>140546.88</td>\n",
       "      <td>93200.58</td>\n",
       "      <td>39955.25</td>\n",
       "      <td>NaN</td>\n",
       "      <td>273702.71</td>\n",
       "      <td>273702.71</td>\n",
       "      <td>2011</td>\n",
       "      <td>NaN</td>\n",
       "      <td>San Francisco</td>\n",
       "      <td>NaN</td>\n",
       "    </tr>\n",
       "    <tr>\n",
       "      <th>23</th>\n",
       "      <td>24</td>\n",
       "      <td>VICTOR WYRSCH</td>\n",
       "      <td>BATTALION CHIEF, (FIRE DEPARTMENT)</td>\n",
       "      <td>168692.63</td>\n",
       "      <td>77896.14</td>\n",
       "      <td>24083.86</td>\n",
       "      <td>NaN</td>\n",
       "      <td>270672.63</td>\n",
       "      <td>270672.63</td>\n",
       "      <td>2011</td>\n",
       "      <td>NaN</td>\n",
       "      <td>San Francisco</td>\n",
       "      <td>NaN</td>\n",
       "    </tr>\n",
       "    <tr>\n",
       "      <th>24</th>\n",
       "      <td>25</td>\n",
       "      <td>JOSEPH DRISCOLL</td>\n",
       "      <td>CAPTAIN, FIRE SUPPRESSION</td>\n",
       "      <td>140546.86</td>\n",
       "      <td>97868.77</td>\n",
       "      <td>31909.28</td>\n",
       "      <td>NaN</td>\n",
       "      <td>270324.91</td>\n",
       "      <td>270324.91</td>\n",
       "      <td>2011</td>\n",
       "      <td>NaN</td>\n",
       "      <td>San Francisco</td>\n",
       "      <td>NaN</td>\n",
       "    </tr>\n",
       "    <tr>\n",
       "      <th>25</th>\n",
       "      <td>26</td>\n",
       "      <td>GREGORY SUHR</td>\n",
       "      <td>CHIEF OF POLICE</td>\n",
       "      <td>256470.41</td>\n",
       "      <td>0.00</td>\n",
       "      <td>11522.18</td>\n",
       "      <td>NaN</td>\n",
       "      <td>267992.59</td>\n",
       "      <td>267992.59</td>\n",
       "      <td>2011</td>\n",
       "      <td>NaN</td>\n",
       "      <td>San Francisco</td>\n",
       "      <td>NaN</td>\n",
       "    </tr>\n",
       "    <tr>\n",
       "      <th>26</th>\n",
       "      <td>27</td>\n",
       "      <td>JOHN HANLEY</td>\n",
       "      <td>CAPTAIN, FIRE SUPPRESSION</td>\n",
       "      <td>92080.80</td>\n",
       "      <td>40008.00</td>\n",
       "      <td>133695.76</td>\n",
       "      <td>NaN</td>\n",
       "      <td>265784.56</td>\n",
       "      <td>265784.56</td>\n",
       "      <td>2011</td>\n",
       "      <td>NaN</td>\n",
       "      <td>San Francisco</td>\n",
       "      <td>NaN</td>\n",
       "    </tr>\n",
       "    <tr>\n",
       "      <th>27</th>\n",
       "      <td>28</td>\n",
       "      <td>RAYMOND GUZMAN</td>\n",
       "      <td>BATTALION CHIEF, (FIRE DEPARTMENT)</td>\n",
       "      <td>168692.59</td>\n",
       "      <td>80706.88</td>\n",
       "      <td>16063.99</td>\n",
       "      <td>NaN</td>\n",
       "      <td>265463.46</td>\n",
       "      <td>265463.46</td>\n",
       "      <td>2011</td>\n",
       "      <td>NaN</td>\n",
       "      <td>San Francisco</td>\n",
       "      <td>NaN</td>\n",
       "    </tr>\n",
       "    <tr>\n",
       "      <th>28</th>\n",
       "      <td>29</td>\n",
       "      <td>DENISE SCHMITT</td>\n",
       "      <td>DEPUTY CHIEF III (POLICE DEPARTMENT)</td>\n",
       "      <td>261717.60</td>\n",
       "      <td>0.00</td>\n",
       "      <td>2357.00</td>\n",
       "      <td>NaN</td>\n",
       "      <td>264074.60</td>\n",
       "      <td>264074.60</td>\n",
       "      <td>2011</td>\n",
       "      <td>NaN</td>\n",
       "      <td>San Francisco</td>\n",
       "      <td>NaN</td>\n",
       "    </tr>\n",
       "    <tr>\n",
       "      <th>29</th>\n",
       "      <td>30</td>\n",
       "      <td>MONICA FIELDS</td>\n",
       "      <td>DEPUTY CHIEF OF DEPARTMENT,(FIRE DEPARTMENT)</td>\n",
       "      <td>246225.60</td>\n",
       "      <td>0.00</td>\n",
       "      <td>15140.54</td>\n",
       "      <td>NaN</td>\n",
       "      <td>261366.14</td>\n",
       "      <td>261366.14</td>\n",
       "      <td>2011</td>\n",
       "      <td>NaN</td>\n",
       "      <td>San Francisco</td>\n",
       "      <td>NaN</td>\n",
       "    </tr>\n",
       "    <tr>\n",
       "      <th>...</th>\n",
       "      <td>...</td>\n",
       "      <td>...</td>\n",
       "      <td>...</td>\n",
       "      <td>...</td>\n",
       "      <td>...</td>\n",
       "      <td>...</td>\n",
       "      <td>...</td>\n",
       "      <td>...</td>\n",
       "      <td>...</td>\n",
       "      <td>...</td>\n",
       "      <td>...</td>\n",
       "      <td>...</td>\n",
       "      <td>...</td>\n",
       "    </tr>\n",
       "    <tr>\n",
       "      <th>148624</th>\n",
       "      <td>148625</td>\n",
       "      <td>Lorraine Rosenthal</td>\n",
       "      <td>Senior Clerk</td>\n",
       "      <td>0.00</td>\n",
       "      <td>0.00</td>\n",
       "      <td>12.89</td>\n",
       "      <td>0.00</td>\n",
       "      <td>12.89</td>\n",
       "      <td>12.89</td>\n",
       "      <td>2014</td>\n",
       "      <td>NaN</td>\n",
       "      <td>San Francisco</td>\n",
       "      <td>NaN</td>\n",
       "    </tr>\n",
       "    <tr>\n",
       "      <th>148625</th>\n",
       "      <td>148626</td>\n",
       "      <td>Renato C Gurion</td>\n",
       "      <td>Registered Nurse</td>\n",
       "      <td>0.00</td>\n",
       "      <td>0.00</td>\n",
       "      <td>6.00</td>\n",
       "      <td>1.24</td>\n",
       "      <td>6.00</td>\n",
       "      <td>7.24</td>\n",
       "      <td>2014</td>\n",
       "      <td>NaN</td>\n",
       "      <td>San Francisco</td>\n",
       "      <td>NaN</td>\n",
       "    </tr>\n",
       "    <tr>\n",
       "      <th>148626</th>\n",
       "      <td>148627</td>\n",
       "      <td>Paulet Gaines</td>\n",
       "      <td>Account Clerk</td>\n",
       "      <td>0.00</td>\n",
       "      <td>0.00</td>\n",
       "      <td>0.00</td>\n",
       "      <td>0.00</td>\n",
       "      <td>0.00</td>\n",
       "      <td>0.00</td>\n",
       "      <td>2014</td>\n",
       "      <td>NaN</td>\n",
       "      <td>San Francisco</td>\n",
       "      <td>NaN</td>\n",
       "    </tr>\n",
       "    <tr>\n",
       "      <th>148627</th>\n",
       "      <td>148628</td>\n",
       "      <td>Brett A Lundberg</td>\n",
       "      <td>General Laborer</td>\n",
       "      <td>0.00</td>\n",
       "      <td>0.00</td>\n",
       "      <td>0.00</td>\n",
       "      <td>0.00</td>\n",
       "      <td>0.00</td>\n",
       "      <td>0.00</td>\n",
       "      <td>2014</td>\n",
       "      <td>NaN</td>\n",
       "      <td>San Francisco</td>\n",
       "      <td>NaN</td>\n",
       "    </tr>\n",
       "    <tr>\n",
       "      <th>148628</th>\n",
       "      <td>148629</td>\n",
       "      <td>Mark W Mcclure</td>\n",
       "      <td>General Laborer</td>\n",
       "      <td>0.00</td>\n",
       "      <td>0.00</td>\n",
       "      <td>0.00</td>\n",
       "      <td>0.00</td>\n",
       "      <td>0.00</td>\n",
       "      <td>0.00</td>\n",
       "      <td>2014</td>\n",
       "      <td>NaN</td>\n",
       "      <td>San Francisco</td>\n",
       "      <td>NaN</td>\n",
       "    </tr>\n",
       "    <tr>\n",
       "      <th>148629</th>\n",
       "      <td>148630</td>\n",
       "      <td>Elizabeth Iniguez</td>\n",
       "      <td>Transcriber Typist</td>\n",
       "      <td>0.00</td>\n",
       "      <td>0.00</td>\n",
       "      <td>0.00</td>\n",
       "      <td>0.00</td>\n",
       "      <td>0.00</td>\n",
       "      <td>0.00</td>\n",
       "      <td>2014</td>\n",
       "      <td>NaN</td>\n",
       "      <td>San Francisco</td>\n",
       "      <td>NaN</td>\n",
       "    </tr>\n",
       "    <tr>\n",
       "      <th>148630</th>\n",
       "      <td>148631</td>\n",
       "      <td>Randy J Keys</td>\n",
       "      <td>Carpenter</td>\n",
       "      <td>0.00</td>\n",
       "      <td>0.00</td>\n",
       "      <td>0.00</td>\n",
       "      <td>0.00</td>\n",
       "      <td>0.00</td>\n",
       "      <td>0.00</td>\n",
       "      <td>2014</td>\n",
       "      <td>NaN</td>\n",
       "      <td>San Francisco</td>\n",
       "      <td>NaN</td>\n",
       "    </tr>\n",
       "    <tr>\n",
       "      <th>148631</th>\n",
       "      <td>148632</td>\n",
       "      <td>Andre M Johnson</td>\n",
       "      <td>Communications Dispatcher 1</td>\n",
       "      <td>0.00</td>\n",
       "      <td>0.00</td>\n",
       "      <td>0.00</td>\n",
       "      <td>0.00</td>\n",
       "      <td>0.00</td>\n",
       "      <td>0.00</td>\n",
       "      <td>2014</td>\n",
       "      <td>NaN</td>\n",
       "      <td>San Francisco</td>\n",
       "      <td>NaN</td>\n",
       "    </tr>\n",
       "    <tr>\n",
       "      <th>148632</th>\n",
       "      <td>148633</td>\n",
       "      <td>Sharon D Owens-Webster</td>\n",
       "      <td>Protective Services Worker</td>\n",
       "      <td>0.00</td>\n",
       "      <td>0.00</td>\n",
       "      <td>0.00</td>\n",
       "      <td>0.00</td>\n",
       "      <td>0.00</td>\n",
       "      <td>0.00</td>\n",
       "      <td>2014</td>\n",
       "      <td>NaN</td>\n",
       "      <td>San Francisco</td>\n",
       "      <td>NaN</td>\n",
       "    </tr>\n",
       "    <tr>\n",
       "      <th>148633</th>\n",
       "      <td>148634</td>\n",
       "      <td>Edward Ferdinand</td>\n",
       "      <td>General Laborer</td>\n",
       "      <td>0.00</td>\n",
       "      <td>0.00</td>\n",
       "      <td>0.00</td>\n",
       "      <td>0.00</td>\n",
       "      <td>0.00</td>\n",
       "      <td>0.00</td>\n",
       "      <td>2014</td>\n",
       "      <td>NaN</td>\n",
       "      <td>San Francisco</td>\n",
       "      <td>NaN</td>\n",
       "    </tr>\n",
       "    <tr>\n",
       "      <th>148634</th>\n",
       "      <td>148635</td>\n",
       "      <td>David M Turner</td>\n",
       "      <td>Transit Car Cleaner</td>\n",
       "      <td>0.00</td>\n",
       "      <td>0.00</td>\n",
       "      <td>0.00</td>\n",
       "      <td>0.00</td>\n",
       "      <td>0.00</td>\n",
       "      <td>0.00</td>\n",
       "      <td>2014</td>\n",
       "      <td>NaN</td>\n",
       "      <td>San Francisco</td>\n",
       "      <td>NaN</td>\n",
       "    </tr>\n",
       "    <tr>\n",
       "      <th>148635</th>\n",
       "      <td>148636</td>\n",
       "      <td>James S Kibblewhite</td>\n",
       "      <td>General Laborer</td>\n",
       "      <td>0.00</td>\n",
       "      <td>0.00</td>\n",
       "      <td>0.00</td>\n",
       "      <td>0.00</td>\n",
       "      <td>0.00</td>\n",
       "      <td>0.00</td>\n",
       "      <td>2014</td>\n",
       "      <td>NaN</td>\n",
       "      <td>San Francisco</td>\n",
       "      <td>NaN</td>\n",
       "    </tr>\n",
       "    <tr>\n",
       "      <th>148636</th>\n",
       "      <td>148637</td>\n",
       "      <td>Andrew J Enzi</td>\n",
       "      <td>Arborist Technician</td>\n",
       "      <td>0.00</td>\n",
       "      <td>0.00</td>\n",
       "      <td>0.00</td>\n",
       "      <td>0.00</td>\n",
       "      <td>0.00</td>\n",
       "      <td>0.00</td>\n",
       "      <td>2014</td>\n",
       "      <td>NaN</td>\n",
       "      <td>San Francisco</td>\n",
       "      <td>NaN</td>\n",
       "    </tr>\n",
       "    <tr>\n",
       "      <th>148637</th>\n",
       "      <td>148638</td>\n",
       "      <td>Kadeshra D Green</td>\n",
       "      <td>Transit Fare Inspector</td>\n",
       "      <td>0.00</td>\n",
       "      <td>0.00</td>\n",
       "      <td>0.00</td>\n",
       "      <td>0.00</td>\n",
       "      <td>0.00</td>\n",
       "      <td>0.00</td>\n",
       "      <td>2014</td>\n",
       "      <td>NaN</td>\n",
       "      <td>San Francisco</td>\n",
       "      <td>NaN</td>\n",
       "    </tr>\n",
       "    <tr>\n",
       "      <th>148638</th>\n",
       "      <td>148639</td>\n",
       "      <td>Lennard B Hutchinson</td>\n",
       "      <td>Electrician</td>\n",
       "      <td>0.00</td>\n",
       "      <td>0.00</td>\n",
       "      <td>0.00</td>\n",
       "      <td>0.00</td>\n",
       "      <td>0.00</td>\n",
       "      <td>0.00</td>\n",
       "      <td>2014</td>\n",
       "      <td>NaN</td>\n",
       "      <td>San Francisco</td>\n",
       "      <td>NaN</td>\n",
       "    </tr>\n",
       "    <tr>\n",
       "      <th>148639</th>\n",
       "      <td>148640</td>\n",
       "      <td>Richard A Talbert</td>\n",
       "      <td>Custodian</td>\n",
       "      <td>0.00</td>\n",
       "      <td>0.00</td>\n",
       "      <td>0.00</td>\n",
       "      <td>0.00</td>\n",
       "      <td>0.00</td>\n",
       "      <td>0.00</td>\n",
       "      <td>2014</td>\n",
       "      <td>NaN</td>\n",
       "      <td>San Francisco</td>\n",
       "      <td>NaN</td>\n",
       "    </tr>\n",
       "    <tr>\n",
       "      <th>148640</th>\n",
       "      <td>148641</td>\n",
       "      <td>Charlene D Mccully</td>\n",
       "      <td>Parking Control Officer</td>\n",
       "      <td>0.00</td>\n",
       "      <td>0.00</td>\n",
       "      <td>0.00</td>\n",
       "      <td>0.00</td>\n",
       "      <td>0.00</td>\n",
       "      <td>0.00</td>\n",
       "      <td>2014</td>\n",
       "      <td>NaN</td>\n",
       "      <td>San Francisco</td>\n",
       "      <td>NaN</td>\n",
       "    </tr>\n",
       "    <tr>\n",
       "      <th>148641</th>\n",
       "      <td>148642</td>\n",
       "      <td>Raphael Marquis Goins</td>\n",
       "      <td>Museum Guard</td>\n",
       "      <td>0.00</td>\n",
       "      <td>0.00</td>\n",
       "      <td>0.00</td>\n",
       "      <td>0.00</td>\n",
       "      <td>0.00</td>\n",
       "      <td>0.00</td>\n",
       "      <td>2014</td>\n",
       "      <td>NaN</td>\n",
       "      <td>San Francisco</td>\n",
       "      <td>NaN</td>\n",
       "    </tr>\n",
       "    <tr>\n",
       "      <th>148642</th>\n",
       "      <td>148643</td>\n",
       "      <td>Dominic C Marquez</td>\n",
       "      <td>Sign Worker</td>\n",
       "      <td>0.00</td>\n",
       "      <td>0.00</td>\n",
       "      <td>0.00</td>\n",
       "      <td>0.00</td>\n",
       "      <td>0.00</td>\n",
       "      <td>0.00</td>\n",
       "      <td>2014</td>\n",
       "      <td>NaN</td>\n",
       "      <td>San Francisco</td>\n",
       "      <td>NaN</td>\n",
       "    </tr>\n",
       "    <tr>\n",
       "      <th>148643</th>\n",
       "      <td>148644</td>\n",
       "      <td>Kim Brewer</td>\n",
       "      <td>Parking Control Officer</td>\n",
       "      <td>0.00</td>\n",
       "      <td>0.00</td>\n",
       "      <td>0.00</td>\n",
       "      <td>0.00</td>\n",
       "      <td>0.00</td>\n",
       "      <td>0.00</td>\n",
       "      <td>2014</td>\n",
       "      <td>NaN</td>\n",
       "      <td>San Francisco</td>\n",
       "      <td>NaN</td>\n",
       "    </tr>\n",
       "    <tr>\n",
       "      <th>148644</th>\n",
       "      <td>148645</td>\n",
       "      <td>Randy D Winn</td>\n",
       "      <td>Stationary Eng, Sewage Plant</td>\n",
       "      <td>0.00</td>\n",
       "      <td>0.00</td>\n",
       "      <td>0.00</td>\n",
       "      <td>0.00</td>\n",
       "      <td>0.00</td>\n",
       "      <td>0.00</td>\n",
       "      <td>2014</td>\n",
       "      <td>NaN</td>\n",
       "      <td>San Francisco</td>\n",
       "      <td>NaN</td>\n",
       "    </tr>\n",
       "    <tr>\n",
       "      <th>148645</th>\n",
       "      <td>148646</td>\n",
       "      <td>Carolyn A Wilson</td>\n",
       "      <td>Human Services Technician</td>\n",
       "      <td>0.00</td>\n",
       "      <td>0.00</td>\n",
       "      <td>0.00</td>\n",
       "      <td>0.00</td>\n",
       "      <td>0.00</td>\n",
       "      <td>0.00</td>\n",
       "      <td>2014</td>\n",
       "      <td>NaN</td>\n",
       "      <td>San Francisco</td>\n",
       "      <td>NaN</td>\n",
       "    </tr>\n",
       "    <tr>\n",
       "      <th>148646</th>\n",
       "      <td>148647</td>\n",
       "      <td>Not provided</td>\n",
       "      <td>Not provided</td>\n",
       "      <td>NaN</td>\n",
       "      <td>NaN</td>\n",
       "      <td>NaN</td>\n",
       "      <td>NaN</td>\n",
       "      <td>0.00</td>\n",
       "      <td>0.00</td>\n",
       "      <td>2014</td>\n",
       "      <td>NaN</td>\n",
       "      <td>San Francisco</td>\n",
       "      <td>NaN</td>\n",
       "    </tr>\n",
       "    <tr>\n",
       "      <th>148647</th>\n",
       "      <td>148648</td>\n",
       "      <td>Joann Anderson</td>\n",
       "      <td>Communications Dispatcher 2</td>\n",
       "      <td>0.00</td>\n",
       "      <td>0.00</td>\n",
       "      <td>0.00</td>\n",
       "      <td>0.00</td>\n",
       "      <td>0.00</td>\n",
       "      <td>0.00</td>\n",
       "      <td>2014</td>\n",
       "      <td>NaN</td>\n",
       "      <td>San Francisco</td>\n",
       "      <td>NaN</td>\n",
       "    </tr>\n",
       "    <tr>\n",
       "      <th>148648</th>\n",
       "      <td>148649</td>\n",
       "      <td>Leon Walker</td>\n",
       "      <td>Custodian</td>\n",
       "      <td>0.00</td>\n",
       "      <td>0.00</td>\n",
       "      <td>0.00</td>\n",
       "      <td>0.00</td>\n",
       "      <td>0.00</td>\n",
       "      <td>0.00</td>\n",
       "      <td>2014</td>\n",
       "      <td>NaN</td>\n",
       "      <td>San Francisco</td>\n",
       "      <td>NaN</td>\n",
       "    </tr>\n",
       "    <tr>\n",
       "      <th>148649</th>\n",
       "      <td>148650</td>\n",
       "      <td>Roy I Tillery</td>\n",
       "      <td>Custodian</td>\n",
       "      <td>0.00</td>\n",
       "      <td>0.00</td>\n",
       "      <td>0.00</td>\n",
       "      <td>0.00</td>\n",
       "      <td>0.00</td>\n",
       "      <td>0.00</td>\n",
       "      <td>2014</td>\n",
       "      <td>NaN</td>\n",
       "      <td>San Francisco</td>\n",
       "      <td>NaN</td>\n",
       "    </tr>\n",
       "    <tr>\n",
       "      <th>148650</th>\n",
       "      <td>148651</td>\n",
       "      <td>Not provided</td>\n",
       "      <td>Not provided</td>\n",
       "      <td>NaN</td>\n",
       "      <td>NaN</td>\n",
       "      <td>NaN</td>\n",
       "      <td>NaN</td>\n",
       "      <td>0.00</td>\n",
       "      <td>0.00</td>\n",
       "      <td>2014</td>\n",
       "      <td>NaN</td>\n",
       "      <td>San Francisco</td>\n",
       "      <td>NaN</td>\n",
       "    </tr>\n",
       "    <tr>\n",
       "      <th>148651</th>\n",
       "      <td>148652</td>\n",
       "      <td>Not provided</td>\n",
       "      <td>Not provided</td>\n",
       "      <td>NaN</td>\n",
       "      <td>NaN</td>\n",
       "      <td>NaN</td>\n",
       "      <td>NaN</td>\n",
       "      <td>0.00</td>\n",
       "      <td>0.00</td>\n",
       "      <td>2014</td>\n",
       "      <td>NaN</td>\n",
       "      <td>San Francisco</td>\n",
       "      <td>NaN</td>\n",
       "    </tr>\n",
       "    <tr>\n",
       "      <th>148652</th>\n",
       "      <td>148653</td>\n",
       "      <td>Not provided</td>\n",
       "      <td>Not provided</td>\n",
       "      <td>NaN</td>\n",
       "      <td>NaN</td>\n",
       "      <td>NaN</td>\n",
       "      <td>NaN</td>\n",
       "      <td>0.00</td>\n",
       "      <td>0.00</td>\n",
       "      <td>2014</td>\n",
       "      <td>NaN</td>\n",
       "      <td>San Francisco</td>\n",
       "      <td>NaN</td>\n",
       "    </tr>\n",
       "    <tr>\n",
       "      <th>148653</th>\n",
       "      <td>148654</td>\n",
       "      <td>Joe Lopez</td>\n",
       "      <td>Counselor, Log Cabin Ranch</td>\n",
       "      <td>0.00</td>\n",
       "      <td>0.00</td>\n",
       "      <td>-618.13</td>\n",
       "      <td>0.00</td>\n",
       "      <td>-618.13</td>\n",
       "      <td>-618.13</td>\n",
       "      <td>2014</td>\n",
       "      <td>NaN</td>\n",
       "      <td>San Francisco</td>\n",
       "      <td>NaN</td>\n",
       "    </tr>\n",
       "  </tbody>\n",
       "</table>\n",
       "<p>148654 rows × 13 columns</p>\n",
       "</div>"
      ],
      "text/plain": [
       "            Id            EmployeeName  \\\n",
       "0            1          NATHANIEL FORD   \n",
       "1            2            GARY JIMENEZ   \n",
       "2            3          ALBERT PARDINI   \n",
       "3            4       CHRISTOPHER CHONG   \n",
       "4            5         PATRICK GARDNER   \n",
       "5            6          DAVID SULLIVAN   \n",
       "6            7               ALSON LEE   \n",
       "7            8           DAVID KUSHNER   \n",
       "8            9          MICHAEL MORRIS   \n",
       "9           10      JOANNE HAYES-WHITE   \n",
       "10          11           ARTHUR KENNEY   \n",
       "11          12        PATRICIA JACKSON   \n",
       "12          13       EDWARD HARRINGTON   \n",
       "13          14             JOHN MARTIN   \n",
       "14          15          DAVID FRANKLIN   \n",
       "15          16         RICHARD CORRIEA   \n",
       "16          17                AMY HART   \n",
       "17          18          SEBASTIAN WONG   \n",
       "18          19              MARTY ROSS   \n",
       "19          20           ELLEN MOFFATT   \n",
       "20          21              VENUS AZAR   \n",
       "21          22            JUDY MELINEK   \n",
       "22          23           GEORGE GARCIA   \n",
       "23          24           VICTOR WYRSCH   \n",
       "24          25         JOSEPH DRISCOLL   \n",
       "25          26            GREGORY SUHR   \n",
       "26          27             JOHN HANLEY   \n",
       "27          28          RAYMOND GUZMAN   \n",
       "28          29          DENISE SCHMITT   \n",
       "29          30           MONICA FIELDS   \n",
       "...        ...                     ...   \n",
       "148624  148625      Lorraine Rosenthal   \n",
       "148625  148626         Renato C Gurion   \n",
       "148626  148627           Paulet Gaines   \n",
       "148627  148628        Brett A Lundberg   \n",
       "148628  148629          Mark W Mcclure   \n",
       "148629  148630       Elizabeth Iniguez   \n",
       "148630  148631            Randy J Keys   \n",
       "148631  148632         Andre M Johnson   \n",
       "148632  148633  Sharon D Owens-Webster   \n",
       "148633  148634        Edward Ferdinand   \n",
       "148634  148635          David M Turner   \n",
       "148635  148636     James S Kibblewhite   \n",
       "148636  148637           Andrew J Enzi   \n",
       "148637  148638        Kadeshra D Green   \n",
       "148638  148639    Lennard B Hutchinson   \n",
       "148639  148640       Richard A Talbert   \n",
       "148640  148641      Charlene D Mccully   \n",
       "148641  148642   Raphael Marquis Goins   \n",
       "148642  148643       Dominic C Marquez   \n",
       "148643  148644              Kim Brewer   \n",
       "148644  148645            Randy D Winn   \n",
       "148645  148646        Carolyn A Wilson   \n",
       "148646  148647            Not provided   \n",
       "148647  148648          Joann Anderson   \n",
       "148648  148649             Leon Walker   \n",
       "148649  148650           Roy I Tillery   \n",
       "148650  148651            Not provided   \n",
       "148651  148652            Not provided   \n",
       "148652  148653            Not provided   \n",
       "148653  148654               Joe Lopez   \n",
       "\n",
       "                                                JobTitle    BasePay  \\\n",
       "0         GENERAL MANAGER-METROPOLITAN TRANSIT AUTHORITY  167411.18   \n",
       "1                        CAPTAIN III (POLICE DEPARTMENT)  155966.02   \n",
       "2                        CAPTAIN III (POLICE DEPARTMENT)  212739.13   \n",
       "3                   WIRE ROPE CABLE MAINTENANCE MECHANIC   77916.00   \n",
       "4           DEPUTY CHIEF OF DEPARTMENT,(FIRE DEPARTMENT)  134401.60   \n",
       "5                              ASSISTANT DEPUTY CHIEF II  118602.00   \n",
       "6                     BATTALION CHIEF, (FIRE DEPARTMENT)   92492.01   \n",
       "7                         DEPUTY DIRECTOR OF INVESTMENTS  256576.96   \n",
       "8                     BATTALION CHIEF, (FIRE DEPARTMENT)  176932.64   \n",
       "9                 CHIEF OF DEPARTMENT, (FIRE DEPARTMENT)  285262.00   \n",
       "10      ASSISTANT CHIEF OF DEPARTMENT, (FIRE DEPARTMENT)  194999.39   \n",
       "11                       CAPTAIN III (POLICE DEPARTMENT)   99722.00   \n",
       "12                           EXECUTIVE CONTRACT EMPLOYEE  294580.02   \n",
       "13                                     DEPARTMENT HEAD V  271329.03   \n",
       "14                    BATTALION CHIEF, (FIRE DEPARTMENT)  174872.64   \n",
       "15                    COMMANDER III, (POLICE DEPARTMENT)  198778.01   \n",
       "16                                     DEPARTMENT HEAD V  268604.57   \n",
       "17                 CAPTAIN, EMERGENCYCY MEDICAL SERVICES  140546.87   \n",
       "18                    BATTALION CHIEF, (FIRE DEPARTMENT)  168692.63   \n",
       "19                            ASSISTANT MEDICAL EXAMINER  257510.59   \n",
       "20                            ASSISTANT MEDICAL EXAMINER  257510.48   \n",
       "21                            ASSISTANT MEDICAL EXAMINER  257510.44   \n",
       "22                             CAPTAIN, FIRE SUPPRESSION  140546.88   \n",
       "23                    BATTALION CHIEF, (FIRE DEPARTMENT)  168692.63   \n",
       "24                             CAPTAIN, FIRE SUPPRESSION  140546.86   \n",
       "25                                       CHIEF OF POLICE  256470.41   \n",
       "26                             CAPTAIN, FIRE SUPPRESSION   92080.80   \n",
       "27                    BATTALION CHIEF, (FIRE DEPARTMENT)  168692.59   \n",
       "28                  DEPUTY CHIEF III (POLICE DEPARTMENT)  261717.60   \n",
       "29          DEPUTY CHIEF OF DEPARTMENT,(FIRE DEPARTMENT)  246225.60   \n",
       "...                                                  ...        ...   \n",
       "148624                                      Senior Clerk       0.00   \n",
       "148625                                  Registered Nurse       0.00   \n",
       "148626                                     Account Clerk       0.00   \n",
       "148627                                   General Laborer       0.00   \n",
       "148628                                   General Laborer       0.00   \n",
       "148629                                Transcriber Typist       0.00   \n",
       "148630                                         Carpenter       0.00   \n",
       "148631                       Communications Dispatcher 1       0.00   \n",
       "148632                        Protective Services Worker       0.00   \n",
       "148633                                   General Laborer       0.00   \n",
       "148634                               Transit Car Cleaner       0.00   \n",
       "148635                                   General Laborer       0.00   \n",
       "148636                               Arborist Technician       0.00   \n",
       "148637                            Transit Fare Inspector       0.00   \n",
       "148638                                       Electrician       0.00   \n",
       "148639                                         Custodian       0.00   \n",
       "148640                           Parking Control Officer       0.00   \n",
       "148641                                      Museum Guard       0.00   \n",
       "148642                                       Sign Worker       0.00   \n",
       "148643                           Parking Control Officer       0.00   \n",
       "148644                      Stationary Eng, Sewage Plant       0.00   \n",
       "148645                         Human Services Technician       0.00   \n",
       "148646                                      Not provided        NaN   \n",
       "148647                       Communications Dispatcher 2       0.00   \n",
       "148648                                         Custodian       0.00   \n",
       "148649                                         Custodian       0.00   \n",
       "148650                                      Not provided        NaN   \n",
       "148651                                      Not provided        NaN   \n",
       "148652                                      Not provided        NaN   \n",
       "148653                        Counselor, Log Cabin Ranch       0.00   \n",
       "\n",
       "        OvertimePay   OtherPay  Benefits   TotalPay  TotalPayBenefits  Year  \\\n",
       "0              0.00  400184.25       NaN  567595.43         567595.43  2011   \n",
       "1         245131.88  137811.38       NaN  538909.28         538909.28  2011   \n",
       "2         106088.18   16452.60       NaN  335279.91         335279.91  2011   \n",
       "3          56120.71  198306.90       NaN  332343.61         332343.61  2011   \n",
       "4           9737.00  182234.59       NaN  326373.19         326373.19  2011   \n",
       "5           8601.00  189082.74       NaN  316285.74         316285.74  2011   \n",
       "6          89062.90  134426.14       NaN  315981.05         315981.05  2011   \n",
       "7              0.00   51322.50       NaN  307899.46         307899.46  2011   \n",
       "8          86362.68   40132.23       NaN  303427.55         303427.55  2011   \n",
       "9              0.00   17115.73       NaN  302377.73         302377.73  2011   \n",
       "10         71344.88   33149.90       NaN  299494.17         299494.17  2011   \n",
       "11         87082.62  110804.30       NaN  297608.92         297608.92  2011   \n",
       "12             0.00       0.00       NaN  294580.02         294580.02  2011   \n",
       "13             0.00   21342.59       NaN  292671.62         292671.62  2011   \n",
       "14         74050.30   37424.11       NaN  286347.05         286347.05  2011   \n",
       "15         73478.20   13957.65       NaN  286213.86         286213.86  2011   \n",
       "16             0.00   16115.86       NaN  284720.43         284720.43  2011   \n",
       "17        119397.26   18625.08       NaN  278569.21         278569.21  2011   \n",
       "18         69626.12   38115.47       NaN  276434.22         276434.22  2011   \n",
       "19           880.16   16159.50       NaN  274550.25         274550.25  2011   \n",
       "20             0.00   16679.79       NaN  274190.27         274190.27  2011   \n",
       "21           377.21   15883.56       NaN  273771.21         273771.21  2011   \n",
       "22         93200.58   39955.25       NaN  273702.71         273702.71  2011   \n",
       "23         77896.14   24083.86       NaN  270672.63         270672.63  2011   \n",
       "24         97868.77   31909.28       NaN  270324.91         270324.91  2011   \n",
       "25             0.00   11522.18       NaN  267992.59         267992.59  2011   \n",
       "26         40008.00  133695.76       NaN  265784.56         265784.56  2011   \n",
       "27         80706.88   16063.99       NaN  265463.46         265463.46  2011   \n",
       "28             0.00    2357.00       NaN  264074.60         264074.60  2011   \n",
       "29             0.00   15140.54       NaN  261366.14         261366.14  2011   \n",
       "...             ...        ...       ...        ...               ...   ...   \n",
       "148624         0.00      12.89      0.00      12.89             12.89  2014   \n",
       "148625         0.00       6.00      1.24       6.00              7.24  2014   \n",
       "148626         0.00       0.00      0.00       0.00              0.00  2014   \n",
       "148627         0.00       0.00      0.00       0.00              0.00  2014   \n",
       "148628         0.00       0.00      0.00       0.00              0.00  2014   \n",
       "148629         0.00       0.00      0.00       0.00              0.00  2014   \n",
       "148630         0.00       0.00      0.00       0.00              0.00  2014   \n",
       "148631         0.00       0.00      0.00       0.00              0.00  2014   \n",
       "148632         0.00       0.00      0.00       0.00              0.00  2014   \n",
       "148633         0.00       0.00      0.00       0.00              0.00  2014   \n",
       "148634         0.00       0.00      0.00       0.00              0.00  2014   \n",
       "148635         0.00       0.00      0.00       0.00              0.00  2014   \n",
       "148636         0.00       0.00      0.00       0.00              0.00  2014   \n",
       "148637         0.00       0.00      0.00       0.00              0.00  2014   \n",
       "148638         0.00       0.00      0.00       0.00              0.00  2014   \n",
       "148639         0.00       0.00      0.00       0.00              0.00  2014   \n",
       "148640         0.00       0.00      0.00       0.00              0.00  2014   \n",
       "148641         0.00       0.00      0.00       0.00              0.00  2014   \n",
       "148642         0.00       0.00      0.00       0.00              0.00  2014   \n",
       "148643         0.00       0.00      0.00       0.00              0.00  2014   \n",
       "148644         0.00       0.00      0.00       0.00              0.00  2014   \n",
       "148645         0.00       0.00      0.00       0.00              0.00  2014   \n",
       "148646          NaN        NaN       NaN       0.00              0.00  2014   \n",
       "148647         0.00       0.00      0.00       0.00              0.00  2014   \n",
       "148648         0.00       0.00      0.00       0.00              0.00  2014   \n",
       "148649         0.00       0.00      0.00       0.00              0.00  2014   \n",
       "148650          NaN        NaN       NaN       0.00              0.00  2014   \n",
       "148651          NaN        NaN       NaN       0.00              0.00  2014   \n",
       "148652          NaN        NaN       NaN       0.00              0.00  2014   \n",
       "148653         0.00    -618.13      0.00    -618.13           -618.13  2014   \n",
       "\n",
       "        Notes         Agency  Status  \n",
       "0         NaN  San Francisco     NaN  \n",
       "1         NaN  San Francisco     NaN  \n",
       "2         NaN  San Francisco     NaN  \n",
       "3         NaN  San Francisco     NaN  \n",
       "4         NaN  San Francisco     NaN  \n",
       "5         NaN  San Francisco     NaN  \n",
       "6         NaN  San Francisco     NaN  \n",
       "7         NaN  San Francisco     NaN  \n",
       "8         NaN  San Francisco     NaN  \n",
       "9         NaN  San Francisco     NaN  \n",
       "10        NaN  San Francisco     NaN  \n",
       "11        NaN  San Francisco     NaN  \n",
       "12        NaN  San Francisco     NaN  \n",
       "13        NaN  San Francisco     NaN  \n",
       "14        NaN  San Francisco     NaN  \n",
       "15        NaN  San Francisco     NaN  \n",
       "16        NaN  San Francisco     NaN  \n",
       "17        NaN  San Francisco     NaN  \n",
       "18        NaN  San Francisco     NaN  \n",
       "19        NaN  San Francisco     NaN  \n",
       "20        NaN  San Francisco     NaN  \n",
       "21        NaN  San Francisco     NaN  \n",
       "22        NaN  San Francisco     NaN  \n",
       "23        NaN  San Francisco     NaN  \n",
       "24        NaN  San Francisco     NaN  \n",
       "25        NaN  San Francisco     NaN  \n",
       "26        NaN  San Francisco     NaN  \n",
       "27        NaN  San Francisco     NaN  \n",
       "28        NaN  San Francisco     NaN  \n",
       "29        NaN  San Francisco     NaN  \n",
       "...       ...            ...     ...  \n",
       "148624    NaN  San Francisco     NaN  \n",
       "148625    NaN  San Francisco     NaN  \n",
       "148626    NaN  San Francisco     NaN  \n",
       "148627    NaN  San Francisco     NaN  \n",
       "148628    NaN  San Francisco     NaN  \n",
       "148629    NaN  San Francisco     NaN  \n",
       "148630    NaN  San Francisco     NaN  \n",
       "148631    NaN  San Francisco     NaN  \n",
       "148632    NaN  San Francisco     NaN  \n",
       "148633    NaN  San Francisco     NaN  \n",
       "148634    NaN  San Francisco     NaN  \n",
       "148635    NaN  San Francisco     NaN  \n",
       "148636    NaN  San Francisco     NaN  \n",
       "148637    NaN  San Francisco     NaN  \n",
       "148638    NaN  San Francisco     NaN  \n",
       "148639    NaN  San Francisco     NaN  \n",
       "148640    NaN  San Francisco     NaN  \n",
       "148641    NaN  San Francisco     NaN  \n",
       "148642    NaN  San Francisco     NaN  \n",
       "148643    NaN  San Francisco     NaN  \n",
       "148644    NaN  San Francisco     NaN  \n",
       "148645    NaN  San Francisco     NaN  \n",
       "148646    NaN  San Francisco     NaN  \n",
       "148647    NaN  San Francisco     NaN  \n",
       "148648    NaN  San Francisco     NaN  \n",
       "148649    NaN  San Francisco     NaN  \n",
       "148650    NaN  San Francisco     NaN  \n",
       "148651    NaN  San Francisco     NaN  \n",
       "148652    NaN  San Francisco     NaN  \n",
       "148653    NaN  San Francisco     NaN  \n",
       "\n",
       "[148654 rows x 13 columns]"
      ]
     },
     "execution_count": 25,
     "metadata": {},
     "output_type": "execute_result"
    }
   ],
   "source": [
    "df1"
   ]
  },
  {
   "cell_type": "code",
   "execution_count": 26,
   "metadata": {},
   "outputs": [
    {
     "data": {
      "text/plain": [
       "66325.44884050643"
      ]
     },
     "execution_count": 26,
     "metadata": {},
     "output_type": "execute_result"
    }
   ],
   "source": [
    "df1[\"BasePay\"].mean()"
   ]
  },
  {
   "cell_type": "code",
   "execution_count": 28,
   "metadata": {},
   "outputs": [
    {
     "data": {
      "text/plain": [
       "245131.88"
      ]
     },
     "execution_count": 28,
     "metadata": {},
     "output_type": "execute_result"
    }
   ],
   "source": [
    "df1['OvertimePay'].max()"
   ]
  },
  {
   "cell_type": "code",
   "execution_count": 30,
   "metadata": {},
   "outputs": [
    {
     "data": {
      "text/plain": [
       "24    CAPTAIN, FIRE SUPPRESSION\n",
       "Name: JobTitle, dtype: object"
      ]
     },
     "execution_count": 30,
     "metadata": {},
     "output_type": "execute_result"
    }
   ],
   "source": [
    " df1[df1[\"EmployeeName\"]==\"JOSEPH DRISCOLL\"][\"JobTitle\"]"
   ]
  },
  {
   "cell_type": "code",
   "execution_count": 31,
   "metadata": {},
   "outputs": [
    {
     "data": {
      "text/plain": [
       "24    270324.91\n",
       "Name: TotalPayBenefits, dtype: float64"
      ]
     },
     "execution_count": 31,
     "metadata": {},
     "output_type": "execute_result"
    }
   ],
   "source": [
    "df1[df1[\"EmployeeName\"]==\"JOSEPH DRISCOLL\"][\"TotalPayBenefits\"]"
   ]
  },
  {
   "cell_type": "code",
   "execution_count": 32,
   "metadata": {},
   "outputs": [
    {
     "data": {
      "text/html": [
       "<div>\n",
       "<style scoped>\n",
       "    .dataframe tbody tr th:only-of-type {\n",
       "        vertical-align: middle;\n",
       "    }\n",
       "\n",
       "    .dataframe tbody tr th {\n",
       "        vertical-align: top;\n",
       "    }\n",
       "\n",
       "    .dataframe thead th {\n",
       "        text-align: right;\n",
       "    }\n",
       "</style>\n",
       "<table border=\"1\" class=\"dataframe\">\n",
       "  <thead>\n",
       "    <tr style=\"text-align: right;\">\n",
       "      <th></th>\n",
       "      <th>Id</th>\n",
       "      <th>EmployeeName</th>\n",
       "      <th>JobTitle</th>\n",
       "      <th>BasePay</th>\n",
       "      <th>OvertimePay</th>\n",
       "      <th>OtherPay</th>\n",
       "      <th>Benefits</th>\n",
       "      <th>TotalPay</th>\n",
       "      <th>TotalPayBenefits</th>\n",
       "      <th>Year</th>\n",
       "      <th>Notes</th>\n",
       "      <th>Agency</th>\n",
       "      <th>Status</th>\n",
       "    </tr>\n",
       "  </thead>\n",
       "  <tbody>\n",
       "    <tr>\n",
       "      <th>148653</th>\n",
       "      <td>148654</td>\n",
       "      <td>Joe Lopez</td>\n",
       "      <td>Counselor, Log Cabin Ranch</td>\n",
       "      <td>0.0</td>\n",
       "      <td>0.0</td>\n",
       "      <td>-618.13</td>\n",
       "      <td>0.0</td>\n",
       "      <td>-618.13</td>\n",
       "      <td>-618.13</td>\n",
       "      <td>2014</td>\n",
       "      <td>NaN</td>\n",
       "      <td>San Francisco</td>\n",
       "      <td>NaN</td>\n",
       "    </tr>\n",
       "  </tbody>\n",
       "</table>\n",
       "</div>"
      ],
      "text/plain": [
       "            Id EmployeeName                    JobTitle  BasePay  OvertimePay  \\\n",
       "148653  148654    Joe Lopez  Counselor, Log Cabin Ranch      0.0          0.0   \n",
       "\n",
       "        OtherPay  Benefits  TotalPay  TotalPayBenefits  Year  Notes  \\\n",
       "148653   -618.13       0.0   -618.13           -618.13  2014    NaN   \n",
       "\n",
       "               Agency  Status  \n",
       "148653  San Francisco     NaN  "
      ]
     },
     "execution_count": 32,
     "metadata": {},
     "output_type": "execute_result"
    }
   ],
   "source": [
    "df1[df1[\"TotalPayBenefits\"]==df1[\"TotalPayBenefits\"].min()]"
   ]
  },
  {
   "cell_type": "code",
   "execution_count": 33,
   "metadata": {},
   "outputs": [
    {
     "data": {
      "text/plain": [
       "Year\n",
       "2011    63595.956517\n",
       "2012    65436.406857\n",
       "2013    69630.030216\n",
       "2014    66564.421924\n",
       "Name: BasePay, dtype: float64"
      ]
     },
     "execution_count": 33,
     "metadata": {},
     "output_type": "execute_result"
    }
   ],
   "source": [
    "df1.groupby('Year').mean()['BasePay']"
   ]
  },
  {
   "cell_type": "code",
   "execution_count": 35,
   "metadata": {},
   "outputs": [],
   "source": [
    "def chief_string(title):\n",
    "    if 'chief' in title.lower():\n",
    "        return True\n",
    "    else:\n",
    "        return False"
   ]
  },
  {
   "cell_type": "code",
   "execution_count": 36,
   "metadata": {},
   "outputs": [
    {
     "data": {
      "text/plain": [
       "627"
      ]
     },
     "execution_count": 36,
     "metadata": {},
     "output_type": "execute_result"
    }
   ],
   "source": [
    "sum(df1['JobTitle'].apply(lambda x: chief_string(x)))"
   ]
  },
  {
   "cell_type": "code",
   "execution_count": 37,
   "metadata": {},
   "outputs": [],
   "source": [
    "df1['Title_len']=df1['JobTitle'].apply(len)"
   ]
  },
  {
   "cell_type": "code",
   "execution_count": 38,
   "metadata": {},
   "outputs": [
    {
     "data": {
      "text/html": [
       "<div>\n",
       "<style scoped>\n",
       "    .dataframe tbody tr th:only-of-type {\n",
       "        vertical-align: middle;\n",
       "    }\n",
       "\n",
       "    .dataframe tbody tr th {\n",
       "        vertical-align: top;\n",
       "    }\n",
       "\n",
       "    .dataframe thead th {\n",
       "        text-align: right;\n",
       "    }\n",
       "</style>\n",
       "<table border=\"1\" class=\"dataframe\">\n",
       "  <thead>\n",
       "    <tr style=\"text-align: right;\">\n",
       "      <th></th>\n",
       "      <th>Title_len</th>\n",
       "      <th>TotalPayBenefits</th>\n",
       "    </tr>\n",
       "  </thead>\n",
       "  <tbody>\n",
       "    <tr>\n",
       "      <th>Title_len</th>\n",
       "      <td>1.000000</td>\n",
       "      <td>-0.036878</td>\n",
       "    </tr>\n",
       "    <tr>\n",
       "      <th>TotalPayBenefits</th>\n",
       "      <td>-0.036878</td>\n",
       "      <td>1.000000</td>\n",
       "    </tr>\n",
       "  </tbody>\n",
       "</table>\n",
       "</div>"
      ],
      "text/plain": [
       "                  Title_len  TotalPayBenefits\n",
       "Title_len          1.000000         -0.036878\n",
       "TotalPayBenefits  -0.036878          1.000000"
      ]
     },
     "execution_count": 38,
     "metadata": {},
     "output_type": "execute_result"
    }
   ],
   "source": [
    "df1[['Title_len','TotalPayBenefits']].corr()"
   ]
  },
  {
   "cell_type": "code",
   "execution_count": 43,
   "metadata": {},
   "outputs": [],
   "source": [
    "a=np.array([[1,2,3],[4,5,6],[7,8,8]])"
   ]
  },
  {
   "cell_type": "code",
   "execution_count": 44,
   "metadata": {},
   "outputs": [
    {
     "data": {
      "text/plain": [
       "array([[1, 2, 3],\n",
       "       [4, 5, 6],\n",
       "       [7, 8, 8]])"
      ]
     },
     "execution_count": 44,
     "metadata": {},
     "output_type": "execute_result"
    }
   ],
   "source": [
    "a"
   ]
  },
  {
   "cell_type": "code",
   "execution_count": 3,
   "metadata": {},
   "outputs": [],
   "source": [
    "from scipy import linalg"
   ]
  },
  {
   "cell_type": "code",
   "execution_count": 45,
   "metadata": {},
   "outputs": [
    {
     "data": {
      "text/plain": [
       "2.999999999999997"
      ]
     },
     "execution_count": 45,
     "metadata": {},
     "output_type": "execute_result"
    }
   ],
   "source": [
    "linalg.det(a)"
   ]
  },
  {
   "cell_type": "code",
   "execution_count": 46,
   "metadata": {},
   "outputs": [],
   "source": [
    "P,L,U=linalg.lu(a)"
   ]
  },
  {
   "cell_type": "code",
   "execution_count": 48,
   "metadata": {},
   "outputs": [
    {
     "data": {
      "text/plain": [
       "array([[0., 1., 0.],\n",
       "       [0., 0., 1.],\n",
       "       [1., 0., 0.]])"
      ]
     },
     "execution_count": 48,
     "metadata": {},
     "output_type": "execute_result"
    }
   ],
   "source": [
    "P"
   ]
  },
  {
   "cell_type": "code",
   "execution_count": 49,
   "metadata": {},
   "outputs": [
    {
     "data": {
      "text/plain": [
       "array([[1.        , 0.        , 0.        ],\n",
       "       [0.14285714, 1.        , 0.        ],\n",
       "       [0.57142857, 0.5       , 1.        ]])"
      ]
     },
     "execution_count": 49,
     "metadata": {},
     "output_type": "execute_result"
    }
   ],
   "source": [
    "L"
   ]
  },
  {
   "cell_type": "code",
   "execution_count": 50,
   "metadata": {},
   "outputs": [
    {
     "data": {
      "text/plain": [
       "array([[7.        , 8.        , 8.        ],\n",
       "       [0.        , 0.85714286, 1.85714286],\n",
       "       [0.        , 0.        , 0.5       ]])"
      ]
     },
     "execution_count": 50,
     "metadata": {},
     "output_type": "execute_result"
    }
   ],
   "source": [
    "U"
   ]
  },
  {
   "cell_type": "code",
   "execution_count": 51,
   "metadata": {},
   "outputs": [
    {
     "data": {
      "text/plain": [
       "array([[7., 8., 8.],\n",
       "       [1., 2., 3.],\n",
       "       [4., 5., 6.]])"
      ]
     },
     "execution_count": 51,
     "metadata": {},
     "output_type": "execute_result"
    }
   ],
   "source": [
    "np.dot(L,U)"
   ]
  },
  {
   "cell_type": "code",
   "execution_count": 12,
   "metadata": {},
   "outputs": [],
   "source": [
    "dp1=pd.read_csv('df1',index_col=0)\n",
    "dp2=pd.read_csv('df2')"
   ]
  },
  {
   "cell_type": "code",
   "execution_count": 13,
   "metadata": {},
   "outputs": [
    {
     "data": {
      "text/plain": [
       "<matplotlib.axes._subplots.AxesSubplot at 0x1f82f062e10>"
      ]
     },
     "execution_count": 13,
     "metadata": {},
     "output_type": "execute_result"
    },
    {
     "data": {
      "image/png": "[encoded data removed]",
      "text/plain": [
       "<Figure size 432x288 with 1 Axes>"
      ]
     },
     "metadata": {},
     "output_type": "display_data"
    }
   ],
   "source": [
    "df1['A'].hist()"
   ]
  },
  {
   "cell_type": "code",
   "execution_count": 15,
   "metadata": {},
   "outputs": [
    {
     "ename": "KeyError",
     "evalue": "\"Index(['2000-01-01', '2000-01-02', '2000-01-03', '2000-01-04', '2000-01-05',\\n       '2000-01-06', '2000-01-07', '2000-01-08', '2000-01-09', '2000-01-10',\\n       ...\\n       '2002-09-17', '2002-09-18', '2002-09-19', '2002-09-20', '2002-09-21',\\n       '2002-09-22', '2002-09-23', '2002-09-24', '2002-09-25', '2002-09-26'],\\n      dtype='object', length=1000) not in index\"",
     "output_type": "error",
     "traceback": [
      "\u001b[1;31m---------------------------------------------------------------------------\u001b[0m",
      "\u001b[1;31mKeyError\u001b[0m                                  Traceback (most recent call last)",
      "\u001b[1;32m<ipython-input-15-09480e1c1fa3>\u001b[0m in \u001b[0;36m<module>\u001b[1;34m()\u001b[0m\n\u001b[1;32m----> 1\u001b[1;33m \u001b[0mdp1\u001b[0m\u001b[1;33m.\u001b[0m\u001b[0mplot\u001b[0m\u001b[1;33m.\u001b[0m\u001b[0mline\u001b[0m\u001b[1;33m(\u001b[0m\u001b[0mx\u001b[0m\u001b[1;33m=\u001b[0m\u001b[0mdf1\u001b[0m\u001b[1;33m.\u001b[0m\u001b[0mindex\u001b[0m\u001b[1;33m,\u001b[0m\u001b[0my\u001b[0m\u001b[1;33m=\u001b[0m\u001b[1;34m'B'\u001b[0m\u001b[1;33m,\u001b[0m\u001b[0mfigsize\u001b[0m\u001b[1;33m=\u001b[0m\u001b[1;33m(\u001b[0m\u001b[1;36m12\u001b[0m\u001b[1;33m,\u001b[0m\u001b[1;36m3\u001b[0m\u001b[1;33m)\u001b[0m\u001b[1;33m,\u001b[0m\u001b[0mlw\u001b[0m\u001b[1;33m=\u001b[0m\u001b[1;36m1\u001b[0m\u001b[1;33m)\u001b[0m\u001b[1;33m\u001b[0m\u001b[0m\n\u001b[0m",
      "\u001b[1;32m~\\Anaconda3\\lib\\site-packages\\pandas\\plotting\\_core.py\u001b[0m in \u001b[0;36mline\u001b[1;34m(self, x, y, **kwds)\u001b[0m\n\u001b[0;32m   3003\u001b[0m             \u001b[1;33m>>\u001b[0m\u001b[1;33m>\u001b[0m \u001b[0mlines\u001b[0m \u001b[1;33m=\u001b[0m \u001b[0mdf\u001b[0m\u001b[1;33m.\u001b[0m\u001b[0mplot\u001b[0m\u001b[1;33m.\u001b[0m\u001b[0mline\u001b[0m\u001b[1;33m(\u001b[0m\u001b[0mx\u001b[0m\u001b[1;33m=\u001b[0m\u001b[1;34m'pig'\u001b[0m\u001b[1;33m,\u001b[0m \u001b[0my\u001b[0m\u001b[1;33m=\u001b[0m\u001b[1;34m'horse'\u001b[0m\u001b[1;33m)\u001b[0m\u001b[1;33m\u001b[0m\u001b[0m\n\u001b[0;32m   3004\u001b[0m         \"\"\"\n\u001b[1;32m-> 3005\u001b[1;33m         \u001b[1;32mreturn\u001b[0m \u001b[0mself\u001b[0m\u001b[1;33m(\u001b[0m\u001b[0mkind\u001b[0m\u001b[1;33m=\u001b[0m\u001b[1;34m'line'\u001b[0m\u001b[1;33m,\u001b[0m \u001b[0mx\u001b[0m\u001b[1;33m=\u001b[0m\u001b[0mx\u001b[0m\u001b[1;33m,\u001b[0m \u001b[0my\u001b[0m\u001b[1;33m=\u001b[0m\u001b[0my\u001b[0m\u001b[1;33m,\u001b[0m \u001b[1;33m**\u001b[0m\u001b[0mkwds\u001b[0m\u001b[1;33m)\u001b[0m\u001b[1;33m\u001b[0m\u001b[0m\n\u001b[0m\u001b[0;32m   3006\u001b[0m \u001b[1;33m\u001b[0m\u001b[0m\n\u001b[0;32m   3007\u001b[0m     \u001b[1;32mdef\u001b[0m \u001b[0mbar\u001b[0m\u001b[1;33m(\u001b[0m\u001b[0mself\u001b[0m\u001b[1;33m,\u001b[0m \u001b[0mx\u001b[0m\u001b[1;33m=\u001b[0m\u001b[1;32mNone\u001b[0m\u001b[1;33m,\u001b[0m \u001b[0my\u001b[0m\u001b[1;33m=\u001b[0m\u001b[1;32mNone\u001b[0m\u001b[1;33m,\u001b[0m \u001b[1;33m**\u001b[0m\u001b[0mkwds\u001b[0m\u001b[1;33m)\u001b[0m\u001b[1;33m:\u001b[0m\u001b[1;33m\u001b[0m\u001b[0m\n",
      "\u001b[1;32m~\\Anaconda3\\lib\\site-packages\\pandas\\plotting\\_core.py\u001b[0m in \u001b[0;36m__call__\u001b[1;34m(self, x, y, kind, ax, subplots, sharex, sharey, layout, figsize, use_index, title, grid, legend, style, logx, logy, loglog, xticks, yticks, xlim, ylim, rot, fontsize, colormap, table, yerr, xerr, secondary_y, sort_columns, **kwds)\u001b[0m\n\u001b[0;32m   2939\u001b[0m                           \u001b[0mfontsize\u001b[0m\u001b[1;33m=\u001b[0m\u001b[0mfontsize\u001b[0m\u001b[1;33m,\u001b[0m \u001b[0mcolormap\u001b[0m\u001b[1;33m=\u001b[0m\u001b[0mcolormap\u001b[0m\u001b[1;33m,\u001b[0m \u001b[0mtable\u001b[0m\u001b[1;33m=\u001b[0m\u001b[0mtable\u001b[0m\u001b[1;33m,\u001b[0m\u001b[1;33m\u001b[0m\u001b[0m\n\u001b[0;32m   2940\u001b[0m                           \u001b[0myerr\u001b[0m\u001b[1;33m=\u001b[0m\u001b[0myerr\u001b[0m\u001b[1;33m,\u001b[0m \u001b[0mxerr\u001b[0m\u001b[1;33m=\u001b[0m\u001b[0mxerr\u001b[0m\u001b[1;33m,\u001b[0m \u001b[0msecondary_y\u001b[0m\u001b[1;33m=\u001b[0m\u001b[0msecondary_y\u001b[0m\u001b[1;33m,\u001b[0m\u001b[1;33m\u001b[0m\u001b[0m\n\u001b[1;32m-> 2941\u001b[1;33m                           sort_columns=sort_columns, **kwds)\n\u001b[0m\u001b[0;32m   2942\u001b[0m     \u001b[0m__call__\u001b[0m\u001b[1;33m.\u001b[0m\u001b[0m__doc__\u001b[0m \u001b[1;33m=\u001b[0m \u001b[0mplot_frame\u001b[0m\u001b[1;33m.\u001b[0m\u001b[0m__doc__\u001b[0m\u001b[1;33m\u001b[0m\u001b[0m\n\u001b[0;32m   2943\u001b[0m \u001b[1;33m\u001b[0m\u001b[0m\n",
      "\u001b[1;32m~\\Anaconda3\\lib\\site-packages\\pandas\\plotting\\_core.py\u001b[0m in \u001b[0;36mplot_frame\u001b[1;34m(data, x, y, kind, ax, subplots, sharex, sharey, layout, figsize, use_index, title, grid, legend, style, logx, logy, loglog, xticks, yticks, xlim, ylim, rot, fontsize, colormap, table, yerr, xerr, secondary_y, sort_columns, **kwds)\u001b[0m\n\u001b[0;32m   1975\u001b[0m                  \u001b[0myerr\u001b[0m\u001b[1;33m=\u001b[0m\u001b[0myerr\u001b[0m\u001b[1;33m,\u001b[0m \u001b[0mxerr\u001b[0m\u001b[1;33m=\u001b[0m\u001b[0mxerr\u001b[0m\u001b[1;33m,\u001b[0m\u001b[1;33m\u001b[0m\u001b[0m\n\u001b[0;32m   1976\u001b[0m                  \u001b[0msecondary_y\u001b[0m\u001b[1;33m=\u001b[0m\u001b[0msecondary_y\u001b[0m\u001b[1;33m,\u001b[0m \u001b[0msort_columns\u001b[0m\u001b[1;33m=\u001b[0m\u001b[0msort_columns\u001b[0m\u001b[1;33m,\u001b[0m\u001b[1;33m\u001b[0m\u001b[0m\n\u001b[1;32m-> 1977\u001b[1;33m                  **kwds)\n\u001b[0m\u001b[0;32m   1978\u001b[0m \u001b[1;33m\u001b[0m\u001b[0m\n\u001b[0;32m   1979\u001b[0m \u001b[1;33m\u001b[0m\u001b[0m\n",
      "\u001b[1;32m~\\Anaconda3\\lib\\site-packages\\pandas\\plotting\\_core.py\u001b[0m in \u001b[0;36m_plot\u001b[1;34m(data, x, y, subplots, ax, kind, **kwds)\u001b[0m\n\u001b[0;32m   1764\u001b[0m                 \u001b[1;32mif\u001b[0m \u001b[0mis_integer\u001b[0m\u001b[1;33m(\u001b[0m\u001b[0mx\u001b[0m\u001b[1;33m)\u001b[0m \u001b[1;32mand\u001b[0m \u001b[1;32mnot\u001b[0m \u001b[0mdata\u001b[0m\u001b[1;33m.\u001b[0m\u001b[0mcolumns\u001b[0m\u001b[1;33m.\u001b[0m\u001b[0mholds_integer\u001b[0m\u001b[1;33m(\u001b[0m\u001b[1;33m)\u001b[0m\u001b[1;33m:\u001b[0m\u001b[1;33m\u001b[0m\u001b[0m\n\u001b[0;32m   1765\u001b[0m                     \u001b[0mx\u001b[0m \u001b[1;33m=\u001b[0m \u001b[0mdata_cols\u001b[0m\u001b[1;33m[\u001b[0m\u001b[0mx\u001b[0m\u001b[1;33m]\u001b[0m\u001b[1;33m\u001b[0m\u001b[0m\n\u001b[1;32m-> 1766\u001b[1;33m                 \u001b[1;32melif\u001b[0m \u001b[1;32mnot\u001b[0m \u001b[0misinstance\u001b[0m\u001b[1;33m(\u001b[0m\u001b[0mdata\u001b[0m\u001b[1;33m[\u001b[0m\u001b[0mx\u001b[0m\u001b[1;33m]\u001b[0m\u001b[1;33m,\u001b[0m \u001b[0mABCSeries\u001b[0m\u001b[1;33m)\u001b[0m\u001b[1;33m:\u001b[0m\u001b[1;33m\u001b[0m\u001b[0m\n\u001b[0m\u001b[0;32m   1767\u001b[0m                     \u001b[1;32mraise\u001b[0m \u001b[0mValueError\u001b[0m\u001b[1;33m(\u001b[0m\u001b[1;34m\"x must be a label or position\"\u001b[0m\u001b[1;33m)\u001b[0m\u001b[1;33m\u001b[0m\u001b[0m\n\u001b[0;32m   1768\u001b[0m                 \u001b[0mdata\u001b[0m \u001b[1;33m=\u001b[0m \u001b[0mdata\u001b[0m\u001b[1;33m.\u001b[0m\u001b[0mset_index\u001b[0m\u001b[1;33m(\u001b[0m\u001b[0mx\u001b[0m\u001b[1;33m)\u001b[0m\u001b[1;33m\u001b[0m\u001b[0m\n",
      "\u001b[1;32m~\\Anaconda3\\lib\\site-packages\\pandas\\core\\frame.py\u001b[0m in \u001b[0;36m__getitem__\u001b[1;34m(self, key)\u001b[0m\n\u001b[0;32m   2677\u001b[0m         \u001b[1;32mif\u001b[0m \u001b[0misinstance\u001b[0m\u001b[1;33m(\u001b[0m\u001b[0mkey\u001b[0m\u001b[1;33m,\u001b[0m \u001b[1;33m(\u001b[0m\u001b[0mSeries\u001b[0m\u001b[1;33m,\u001b[0m \u001b[0mnp\u001b[0m\u001b[1;33m.\u001b[0m\u001b[0mndarray\u001b[0m\u001b[1;33m,\u001b[0m \u001b[0mIndex\u001b[0m\u001b[1;33m,\u001b[0m \u001b[0mlist\u001b[0m\u001b[1;33m)\u001b[0m\u001b[1;33m)\u001b[0m\u001b[1;33m:\u001b[0m\u001b[1;33m\u001b[0m\u001b[0m\n\u001b[0;32m   2678\u001b[0m             \u001b[1;31m# either boolean or fancy integer index\u001b[0m\u001b[1;33m\u001b[0m\u001b[1;33m\u001b[0m\u001b[0m\n\u001b[1;32m-> 2679\u001b[1;33m             \u001b[1;32mreturn\u001b[0m \u001b[0mself\u001b[0m\u001b[1;33m.\u001b[0m\u001b[0m_getitem_array\u001b[0m\u001b[1;33m(\u001b[0m\u001b[0mkey\u001b[0m\u001b[1;33m)\u001b[0m\u001b[1;33m\u001b[0m\u001b[0m\n\u001b[0m\u001b[0;32m   2680\u001b[0m         \u001b[1;32melif\u001b[0m \u001b[0misinstance\u001b[0m\u001b[1;33m(\u001b[0m\u001b[0mkey\u001b[0m\u001b[1;33m,\u001b[0m \u001b[0mDataFrame\u001b[0m\u001b[1;33m)\u001b[0m\u001b[1;33m:\u001b[0m\u001b[1;33m\u001b[0m\u001b[0m\n\u001b[0;32m   2681\u001b[0m             \u001b[1;32mreturn\u001b[0m \u001b[0mself\u001b[0m\u001b[1;33m.\u001b[0m\u001b[0m_getitem_frame\u001b[0m\u001b[1;33m(\u001b[0m\u001b[0mkey\u001b[0m\u001b[1;33m)\u001b[0m\u001b[1;33m\u001b[0m\u001b[0m\n",
      "\u001b[1;32m~\\Anaconda3\\lib\\site-packages\\pandas\\core\\frame.py\u001b[0m in \u001b[0;36m_getitem_array\u001b[1;34m(self, key)\u001b[0m\n\u001b[0;32m   2721\u001b[0m             \u001b[1;32mreturn\u001b[0m \u001b[0mself\u001b[0m\u001b[1;33m.\u001b[0m\u001b[0m_take\u001b[0m\u001b[1;33m(\u001b[0m\u001b[0mindexer\u001b[0m\u001b[1;33m,\u001b[0m \u001b[0maxis\u001b[0m\u001b[1;33m=\u001b[0m\u001b[1;36m0\u001b[0m\u001b[1;33m)\u001b[0m\u001b[1;33m\u001b[0m\u001b[0m\n\u001b[0;32m   2722\u001b[0m         \u001b[1;32melse\u001b[0m\u001b[1;33m:\u001b[0m\u001b[1;33m\u001b[0m\u001b[0m\n\u001b[1;32m-> 2723\u001b[1;33m             \u001b[0mindexer\u001b[0m \u001b[1;33m=\u001b[0m \u001b[0mself\u001b[0m\u001b[1;33m.\u001b[0m\u001b[0mloc\u001b[0m\u001b[1;33m.\u001b[0m\u001b[0m_convert_to_indexer\u001b[0m\u001b[1;33m(\u001b[0m\u001b[0mkey\u001b[0m\u001b[1;33m,\u001b[0m \u001b[0maxis\u001b[0m\u001b[1;33m=\u001b[0m\u001b[1;36m1\u001b[0m\u001b[1;33m)\u001b[0m\u001b[1;33m\u001b[0m\u001b[0m\n\u001b[0m\u001b[0;32m   2724\u001b[0m             \u001b[1;32mreturn\u001b[0m \u001b[0mself\u001b[0m\u001b[1;33m.\u001b[0m\u001b[0m_take\u001b[0m\u001b[1;33m(\u001b[0m\u001b[0mindexer\u001b[0m\u001b[1;33m,\u001b[0m \u001b[0maxis\u001b[0m\u001b[1;33m=\u001b[0m\u001b[1;36m1\u001b[0m\u001b[1;33m)\u001b[0m\u001b[1;33m\u001b[0m\u001b[0m\n\u001b[0;32m   2725\u001b[0m \u001b[1;33m\u001b[0m\u001b[0m\n",
      "\u001b[1;32m~\\Anaconda3\\lib\\site-packages\\pandas\\core\\indexing.py\u001b[0m in \u001b[0;36m_convert_to_indexer\u001b[1;34m(self, obj, axis, is_setter)\u001b[0m\n\u001b[0;32m   1325\u001b[0m                 \u001b[1;32mif\u001b[0m \u001b[0mmask\u001b[0m\u001b[1;33m.\u001b[0m\u001b[0many\u001b[0m\u001b[1;33m(\u001b[0m\u001b[1;33m)\u001b[0m\u001b[1;33m:\u001b[0m\u001b[1;33m\u001b[0m\u001b[0m\n\u001b[0;32m   1326\u001b[0m                     raise KeyError('{mask} not in index'\n\u001b[1;32m-> 1327\u001b[1;33m                                    .format(mask=objarr[mask]))\n\u001b[0m\u001b[0;32m   1328\u001b[0m \u001b[1;33m\u001b[0m\u001b[0m\n\u001b[0;32m   1329\u001b[0m                 \u001b[1;32mreturn\u001b[0m \u001b[0mcom\u001b[0m\u001b[1;33m.\u001b[0m\u001b[0m_values_from_object\u001b[0m\u001b[1;33m(\u001b[0m\u001b[0mindexer\u001b[0m\u001b[1;33m)\u001b[0m\u001b[1;33m\u001b[0m\u001b[0m\n",
      "\u001b[1;31mKeyError\u001b[0m: \"Index(['2000-01-01', '2000-01-02', '2000-01-03', '2000-01-04', '2000-01-05',\\n       '2000-01-06', '2000-01-07', '2000-01-08', '2000-01-09', '2000-01-10',\\n       ...\\n       '2002-09-17', '2002-09-18', '2002-09-19', '2002-09-20', '2002-09-21',\\n       '2002-09-22', '2002-09-23', '2002-09-24', '2002-09-25', '2002-09-26'],\\n      dtype='object', length=1000) not in index\""
     ]
    }
   ],
   "source": [
    "dp1.plot.line(x=df1.index,y='B',figsize=(12,3),lw=1)"
   ]
  },
  {
   "cell_type": "code",
   "execution_count": 16,
   "metadata": {},
   "outputs": [
    {
     "data": {
      "text/plain": [
       "<matplotlib.axes._subplots.AxesSubplot at 0x1f8300a2828>"
      ]
     },
     "execution_count": 16,
     "metadata": {},
     "output_type": "execute_result"
    },
    {
     "data": {
      "image/png": "[encoded data removed]",
      "text/plain": [
       "<Figure size 432x288 with 1 Axes>"
      ]
     },
     "metadata": {},
     "output_type": "display_data"
    }
   ],
   "source": [
    "dp1.plot.scatter(x='A',y='B')"
   ]
  },
  {
   "cell_type": "code",
   "execution_count": 17,
   "metadata": {},
   "outputs": [
    {
     "data": {
      "text/plain": [
       "<matplotlib.axes._subplots.AxesSubplot at 0x1f830148a90>"
      ]
     },
     "execution_count": 17,
     "metadata": {},
     "output_type": "execute_result"
    },
    {
     "data": {
      "image/png": "[encoded data removed]",
      "text/plain": [
       "<Figure size 432x288 with 2 Axes>"
      ]
     },
     "metadata": {},
     "output_type": "display_data"
    }
   ],
   "source": [
    "dp1.plot.scatter(x='A',y='B',c='C',cmap='coolwarm')"
   ]
  },
  {
   "cell_type": "code",
   "execution_count": 19,
   "metadata": {},
   "outputs": [
    {
     "data": {
      "text/plain": [
       "<matplotlib.axes._subplots.AxesSubplot at 0x1f83029c438>"
      ]
     },
     "execution_count": 19,
     "metadata": {},
     "output_type": "execute_result"
    },
    {
     "data": {
      "image/png": "[encoded data removed]",
      "text/plain": [
       "<Figure size 432x288 with 1 Axes>"
      ]
     },
     "metadata": {},
     "output_type": "display_data"
    }
   ],
   "source": [
    "dp1.plot.box()"
   ]
  },
  {
   "cell_type": "code",
   "execution_count": 20,
   "metadata": {},
   "outputs": [
    {
     "data": {
      "text/plain": [
       "<matplotlib.axes._subplots.AxesSubplot at 0x1f830138e10>"
      ]
     },
     "execution_count": 20,
     "metadata": {},
     "output_type": "execute_result"
    },
    {
     "data": {
      "image/png": "[encoded data removed]",
      "text/plain": [
       "<Figure size 432x288 with 2 Axes>"
      ]
     },
     "metadata": {},
     "output_type": "display_data"
    }
   ],
   "source": [
    "df=pd.DataFrame(np.random.randn(1000,2),columns=['a','b'])\n",
    "df.plot.hexbin(x='a',y='b',gridsize=25,cmap='Oranges')"
   ]
  },
  {
   "cell_type": "code",
   "execution_count": 21,
   "metadata": {},
   "outputs": [
    {
     "data": {
      "text/plain": [
       "<matplotlib.axes._subplots.AxesSubplot at 0x1f830321e10>"
      ]
     },
     "execution_count": 21,
     "metadata": {},
     "output_type": "execute_result"
    },
    {
     "data": {
      "image/png": "[encoded data removed]",
      "text/plain": [
       "<Figure size 432x288 with 1 Axes>"
      ]
     },
     "metadata": {},
     "output_type": "display_data"
    }
   ],
   "source": [
    "df2['a'].plot.kde()"
   ]
  },
  {
   "cell_type": "code",
   "execution_count": 22,
   "metadata": {},
   "outputs": [
    {
     "data": {
      "text/plain": [
       "<matplotlib.axes._subplots.AxesSubplot at 0x1f830fbfe48>"
      ]
     },
     "execution_count": 22,
     "metadata": {},
     "output_type": "execute_result"
    },
    {
     "data": {
      "image/png": "[encoded data removed]",
      "text/plain": [
       "<Figure size 432x288 with 1 Axes>"
      ]
     },
     "metadata": {},
     "output_type": "display_data"
    }
   ],
   "source": [
    "df2.plot.density()"
   ]
  },
  {
   "cell_type": "code",
   "execution_count": 23,
   "metadata": {},
   "outputs": [],
   "source": [
    "import matplotlib.pyplot as pit"
   ]
  },
  {
   "cell_type": "code",
   "execution_count": 24,
   "metadata": {},
   "outputs": [],
   "source": [
    "%matplotlib inline"
   ]
  },
  {
   "cell_type": "code",
   "execution_count": 25,
   "metadata": {},
   "outputs": [],
   "source": [
    "x=np.linspace(0,5,11)"
   ]
  },
  {
   "cell_type": "code",
   "execution_count": 27,
   "metadata": {},
   "outputs": [],
   "source": [
    "y=x**2"
   ]
  },
  {
   "cell_type": "code",
   "execution_count": 28,
   "metadata": {},
   "outputs": [
    {
     "data": {
      "text/plain": [
       "array([0. , 0.5, 1. , 1.5, 2. , 2.5, 3. , 3.5, 4. , 4.5, 5. ])"
      ]
     },
     "execution_count": 28,
     "metadata": {},
     "output_type": "execute_result"
    }
   ],
   "source": [
    "x"
   ]
  },
  {
   "cell_type": "code",
   "execution_count": 29,
   "metadata": {},
   "outputs": [
    {
     "data": {
      "text/plain": [
       "array([ 0.  ,  0.25,  1.  ,  2.25,  4.  ,  6.25,  9.  , 12.25, 16.  ,\n",
       "       20.25, 25.  ])"
      ]
     },
     "execution_count": 29,
     "metadata": {},
     "output_type": "execute_result"
    }
   ],
   "source": [
    "y"
   ]
  },
  {
   "cell_type": "code",
   "execution_count": 32,
   "metadata": {},
   "outputs": [
    {
     "data": {
      "image/png": "[encoded data removed]",
      "text/plain": [
       "<Figure size 432x288 with 1 Axes>"
      ]
     },
     "metadata": {},
     "output_type": "display_data"
    }
   ],
   "source": [
    "pit.plot(x,y,'r')\n",
    "pit.xlabel('X axis Title Here')\n",
    "pit.ylabel('y axis Title Here')\n",
    "pit.title('string Title Here')\n",
    "pit.show()"
   ]
  },
  {
   "cell_type": "code",
   "execution_count": 35,
   "metadata": {},
   "outputs": [
    {
     "data": {
      "image/png": "[encoded data removed]",
      "text/plain": [
       "<Figure size 432x288 with 2 Axes>"
      ]
     },
     "metadata": {},
     "output_type": "display_data"
    }
   ],
   "source": [
    "pit.subplot(1,2,1)\n",
    "pit.plot(x,y,'r--')\n",
    "pit.subplot(1,2,2)\n",
    "pit.plot(y,x,'g*-');"
   ]
  },
  {
   "cell_type": "code",
   "execution_count": null,
   "metadata": {},
   "outputs": [],
   "source": []
  }
 ],
 "metadata": {
  "kernelspec": {
   "display_name": "Python 3",
   "language": "python",
   "name": "python3"
  },
  "language_info": {
   "codemirror_mode": {
    "name": "ipython",
    "version": 3
   },
   "file_extension": ".py",
   "mimetype": "text/x-python",
   "name": "python",
   "nbconvert_exporter": "python",
   "pygments_lexer": "ipython3",
   "version": "3.6.5"
  }
 },
 "nbformat": 4,
 "nbformat_minor": 2
}
